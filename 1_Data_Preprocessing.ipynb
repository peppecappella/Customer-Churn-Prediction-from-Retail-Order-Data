{
  "cells": [
    {
      "cell_type": "markdown",
      "metadata": {
        "id": "view-in-github",
        "colab_type": "text"
      },
      "source": [
        "<a href=\"https://colab.research.google.com/github/peppecappella/customer-churn-prediction-project/blob/main/1_Data_Preprocessing.ipynb\" target=\"_parent\"><img src=\"https://colab.research.google.com/assets/colab-badge.svg\" alt=\"Open In Colab\"/></a>"
      ]
    },
    {
      "cell_type": "markdown",
      "id": "b089c6d8-edd4-45ce-ae11-2069242715b3",
      "metadata": {
        "id": "b089c6d8-edd4-45ce-ae11-2069242715b3"
      },
      "source": [
        "# **PART I : Churn definition and Data preprocessing**"
      ]
    },
    {
      "cell_type": "markdown",
      "source": [
        "The approach described in the code is particularly necessary because the initial dataset provides only information about each customer's orders, without a predefined response variable for churn.\n",
        "\n",
        "This situation is common in many customer relationship management (CRM) scenarios, where the dataset at hand primarily consists of transactional data (e.g., purchase dates, amounts spent) and lacks explicit labels or indicators for customer churn. Therefore, the initial phase involved defining the target variable.\n",
        "\n",
        "Firstly, customers with less than 2 purchases were excluded from the analysis. Subsequently, the repurchase curve was calculated at the 87th percentile, obtaining a value slightly above 90 days.\n",
        "\n",
        "The dataset was then divided into 90-day segments and the presence of purchases in the following 90 days was evaluated.\n",
        "\n",
        "For each record in the dataset, the target churn variable was then assigned, which takes a value of 1 if the record does not reappear in the subsequent 90 days, 0 otherwise.\n",
        "\n",
        "Customers who had not made any purchase in the 90 days prior to the reference date were also excluded from the analysis.\n",
        "\n",
        "For each segment, the data were grouped by customer and the main features were calculated.\n",
        "\n",
        "Finally, some additional features were calculated and the data are prepared for predictive modeling, including the removal of outliers and the creation of a labeled dataset that indicates whether a customer is considered churned or not."
      ],
      "metadata": {
        "id": "RxsGbSk_4Tfv"
      },
      "id": "RxsGbSk_4Tfv"
    },
    {
      "cell_type": "markdown",
      "source": [
        "## importing libraries"
      ],
      "metadata": {
        "id": "FyE7ykpu0uJo"
      },
      "id": "FyE7ykpu0uJo"
    },
    {
      "cell_type": "code",
      "source": [
        "from google.colab import drive\n",
        "drive.mount('/content/drive')"
      ],
      "metadata": {
        "colab": {
          "base_uri": "https://localhost:8080/"
        },
        "id": "6nMFKcYBUTmp",
        "outputId": "053c13a8-057a-48c3-e1f6-f775bbb451ec"
      },
      "id": "6nMFKcYBUTmp",
      "execution_count": 1,
      "outputs": [
        {
          "output_type": "stream",
          "name": "stdout",
          "text": [
            "Mounted at /content/drive\n"
          ]
        }
      ]
    },
    {
      "cell_type": "code",
      "execution_count": null,
      "id": "23b2007d-77c8-45fd-a91a-6091bd993245",
      "metadata": {
        "id": "23b2007d-77c8-45fd-a91a-6091bd993245"
      },
      "outputs": [],
      "source": [
        "#!pip install lifetimes --upgrade"
      ]
    },
    {
      "cell_type": "code",
      "execution_count": null,
      "id": "d49bf13b-e034-4785-87de-229bb3db43b6",
      "metadata": {
        "id": "d49bf13b-e034-4785-87de-229bb3db43b6",
        "outputId": "fb4e0367-e198-4b59-cfd7-c649615f89ef"
      },
      "outputs": [
        {
          "name": "stdout",
          "output_type": "stream",
          "text": [
            "Versione Python: 3.10.12 | packaged by conda-forge | (main, Jun 23 2023, 22:39:40) [Clang 15.0.7 ]\n"
          ]
        }
      ],
      "source": [
        "#!/usr/bin/env python\n",
        "# coding: utf-8\n",
        "import os\n",
        "from sklearn.preprocessing import LabelEncoder\n",
        "import pandas as pd\n",
        "import datetime as dt\n",
        "import numpy as np\n",
        "import math\n",
        "import ast\n",
        "from datetime import timedelta\n",
        "import re\n",
        "from scipy import stats\n",
        "\n",
        "import matplotlib.pyplot as plt\n",
        "import seaborn as sns\n",
        "plt.style.use('fivethirtyeight')\n",
        "\n",
        "from sklearn.model_selection import train_test_split\n",
        "from sklearn.metrics import roc_curve, accuracy_score, roc_auc_score, recall_score, precision_score\n",
        "import xgboost as xgb\n",
        "from hyperopt import hp, STATUS_OK, Trials, fmin, tpe\n",
        "from hyperopt.pyll.stochastic import sample\n",
        "\n",
        "import seaborn as sns\n",
        "import matplotlib.pyplot as plt\n",
        "from matplotlib.pyplot import figure\n",
        "from lifetimes import BetaGeoFitter\n",
        "from lifetimes.utils import calibration_and_holdout_data\n",
        "from lifetimes.utils import summary_data_from_transaction_data\n",
        "from lifetimes.plotting import plot_frequency_recency_matrix\n",
        "from lifetimes.plotting import plot_probability_alive_matrix\n",
        "from lifetimes.plotting import plot_period_transactions\n",
        "from lifetimes.plotting import plot_history_alive\n",
        "from lifetimes.plotting import plot_calibration_purchases_vs_holdout_purchases\n",
        "import warnings\n",
        "\n",
        "import sys\n",
        "print(\"Versione Python:\", sys.version)\n"
      ]
    },
    {
      "cell_type": "code",
      "execution_count": null,
      "id": "f4115a47-0986-4a26-a80c-f5d4414ec631",
      "metadata": {
        "id": "f4115a47-0986-4a26-a80c-f5d4414ec631"
      },
      "outputs": [],
      "source": [
        "df=pd.read_csv('data/tbl_orders.csv')\n"
      ]
    },
    {
      "cell_type": "code",
      "execution_count": null,
      "id": "438d84a8-30cf-4999-803f-4142d569431e",
      "metadata": {
        "id": "438d84a8-30cf-4999-803f-4142d569431e",
        "outputId": "1cc6514d-0075-4c1c-b01b-000ae3dd3c91"
      },
      "outputs": [
        {
          "data": {
            "text/html": [
              "<div>\n",
              "<style scoped>\n",
              "    .dataframe tbody tr th:only-of-type {\n",
              "        vertical-align: middle;\n",
              "    }\n",
              "\n",
              "    .dataframe tbody tr th {\n",
              "        vertical-align: top;\n",
              "    }\n",
              "\n",
              "    .dataframe thead th {\n",
              "        text-align: right;\n",
              "    }\n",
              "</style>\n",
              "<table border=\"1\" class=\"dataframe\">\n",
              "  <thead>\n",
              "    <tr style=\"text-align: right;\">\n",
              "      <th></th>\n",
              "      <th>order_id</th>\n",
              "      <th>customer_id</th>\n",
              "      <th>store_id</th>\n",
              "      <th>product_id</th>\n",
              "      <th>direction</th>\n",
              "      <th>gross_price</th>\n",
              "      <th>price_reduction</th>\n",
              "      <th>purchase_datetime</th>\n",
              "    </tr>\n",
              "  </thead>\n",
              "  <tbody>\n",
              "    <tr>\n",
              "      <th>0</th>\n",
              "      <td>8fe4346b53d0c781b275a614175804de</td>\n",
              "      <td>23</td>\n",
              "      <td>49</td>\n",
              "      <td>35551922</td>\n",
              "      <td>1</td>\n",
              "      <td>125.40</td>\n",
              "      <td>0.00</td>\n",
              "      <td>2022-10-04T182851</td>\n",
              "    </tr>\n",
              "    <tr>\n",
              "      <th>1</th>\n",
              "      <td>8fe4346b53d0c781b275a614175804de</td>\n",
              "      <td>23</td>\n",
              "      <td>49</td>\n",
              "      <td>30344384</td>\n",
              "      <td>1</td>\n",
              "      <td>8.30</td>\n",
              "      <td>0.00</td>\n",
              "      <td>2022-10-04T182851</td>\n",
              "    </tr>\n",
              "    <tr>\n",
              "      <th>2</th>\n",
              "      <td>8fe4346b53d0c781b275a614175804de</td>\n",
              "      <td>23</td>\n",
              "      <td>49</td>\n",
              "      <td>33794292</td>\n",
              "      <td>1</td>\n",
              "      <td>1.99</td>\n",
              "      <td>0.00</td>\n",
              "      <td>2022-10-04T182851</td>\n",
              "    </tr>\n",
              "    <tr>\n",
              "      <th>3</th>\n",
              "      <td>8fe4346b53d0c781b275a614175804de</td>\n",
              "      <td>23</td>\n",
              "      <td>49</td>\n",
              "      <td>33795776</td>\n",
              "      <td>1</td>\n",
              "      <td>5.10</td>\n",
              "      <td>0.00</td>\n",
              "      <td>2022-10-04T182851</td>\n",
              "    </tr>\n",
              "    <tr>\n",
              "      <th>4</th>\n",
              "      <td>8fe4346b53d0c781b275a614175804de</td>\n",
              "      <td>23</td>\n",
              "      <td>49</td>\n",
              "      <td>36235381</td>\n",
              "      <td>1</td>\n",
              "      <td>76.05</td>\n",
              "      <td>0.00</td>\n",
              "      <td>2022-10-04T182851</td>\n",
              "    </tr>\n",
              "    <tr>\n",
              "      <th>5</th>\n",
              "      <td>c2ae3673970490406925dcd3f8a4d486</td>\n",
              "      <td>23</td>\n",
              "      <td>49</td>\n",
              "      <td>35002296</td>\n",
              "      <td>1</td>\n",
              "      <td>1.70</td>\n",
              "      <td>0.17</td>\n",
              "      <td>2022-10-31T130742</td>\n",
              "    </tr>\n",
              "    <tr>\n",
              "      <th>6</th>\n",
              "      <td>c2ae3673970490406925dcd3f8a4d486</td>\n",
              "      <td>23</td>\n",
              "      <td>49</td>\n",
              "      <td>32157580</td>\n",
              "      <td>1</td>\n",
              "      <td>1.90</td>\n",
              "      <td>0.19</td>\n",
              "      <td>2022-10-31T130742</td>\n",
              "    </tr>\n",
              "    <tr>\n",
              "      <th>7</th>\n",
              "      <td>c2ae3673970490406925dcd3f8a4d486</td>\n",
              "      <td>23</td>\n",
              "      <td>49</td>\n",
              "      <td>35930902</td>\n",
              "      <td>1</td>\n",
              "      <td>0.70</td>\n",
              "      <td>0.07</td>\n",
              "      <td>2022-10-31T130742</td>\n",
              "    </tr>\n",
              "    <tr>\n",
              "      <th>8</th>\n",
              "      <td>c2ae3673970490406925dcd3f8a4d486</td>\n",
              "      <td>23</td>\n",
              "      <td>49</td>\n",
              "      <td>81268736</td>\n",
              "      <td>1</td>\n",
              "      <td>9.90</td>\n",
              "      <td>0.99</td>\n",
              "      <td>2022-10-31T130742</td>\n",
              "    </tr>\n",
              "    <tr>\n",
              "      <th>9</th>\n",
              "      <td>c2ae3673970490406925dcd3f8a4d486</td>\n",
              "      <td>23</td>\n",
              "      <td>49</td>\n",
              "      <td>35930965</td>\n",
              "      <td>1</td>\n",
              "      <td>2.25</td>\n",
              "      <td>0.23</td>\n",
              "      <td>2022-10-31T130742</td>\n",
              "    </tr>\n",
              "  </tbody>\n",
              "</table>\n",
              "</div>"
            ],
            "text/plain": [
              "                           order_id  customer_id  store_id  product_id  \\\n",
              "0  8fe4346b53d0c781b275a614175804de           23        49    35551922   \n",
              "1  8fe4346b53d0c781b275a614175804de           23        49    30344384   \n",
              "2  8fe4346b53d0c781b275a614175804de           23        49    33794292   \n",
              "3  8fe4346b53d0c781b275a614175804de           23        49    33795776   \n",
              "4  8fe4346b53d0c781b275a614175804de           23        49    36235381   \n",
              "5  c2ae3673970490406925dcd3f8a4d486           23        49    35002296   \n",
              "6  c2ae3673970490406925dcd3f8a4d486           23        49    32157580   \n",
              "7  c2ae3673970490406925dcd3f8a4d486           23        49    35930902   \n",
              "8  c2ae3673970490406925dcd3f8a4d486           23        49    81268736   \n",
              "9  c2ae3673970490406925dcd3f8a4d486           23        49    35930965   \n",
              "\n",
              "   direction  gross_price  price_reduction  purchase_datetime  \n",
              "0          1       125.40             0.00  2022-10-04T182851  \n",
              "1          1         8.30             0.00  2022-10-04T182851  \n",
              "2          1         1.99             0.00  2022-10-04T182851  \n",
              "3          1         5.10             0.00  2022-10-04T182851  \n",
              "4          1        76.05             0.00  2022-10-04T182851  \n",
              "5          1         1.70             0.17  2022-10-31T130742  \n",
              "6          1         1.90             0.19  2022-10-31T130742  \n",
              "7          1         0.70             0.07  2022-10-31T130742  \n",
              "8          1         9.90             0.99  2022-10-31T130742  \n",
              "9          1         2.25             0.23  2022-10-31T130742  "
            ]
          },
          "execution_count": 104,
          "metadata": {},
          "output_type": "execute_result"
        }
      ],
      "source": [
        "df.head(10)"
      ]
    },
    {
      "cell_type": "markdown",
      "id": "71baa8a1-eb68-44cc-8173-5e54813fc6d4",
      "metadata": {
        "id": "71baa8a1-eb68-44cc-8173-5e54813fc6d4"
      },
      "source": [
        "# compute the average lifetime of customers."
      ]
    },
    {
      "cell_type": "markdown",
      "id": "51140479-ae87-4e93-99bb-b70ba9780dd0",
      "metadata": {
        "id": "51140479-ae87-4e93-99bb-b70ba9780dd0"
      },
      "source": [
        "Converts the 'purchase_datetime' column to datetime format, groups the data by 'customer_id', calculates the first and last purchase dates for each customer, computes the time elapsed from the first to the last purchase in days, and finally creates a new DataFrame with the result."
      ]
    },
    {
      "cell_type": "code",
      "execution_count": null,
      "id": "215312f6-b376-4b9c-a7eb-ce5315abc349",
      "metadata": {
        "id": "215312f6-b376-4b9c-a7eb-ce5315abc349"
      },
      "outputs": [],
      "source": [
        "\n",
        "df_temp=df.copy()\n",
        "df_temp['purchase_datetime'] = pd.to_datetime(df['purchase_datetime'])\n",
        "\n",
        "grouped = df_temp.groupby('customer_id').agg(first_purchase=pd.NamedAgg(column='purchase_datetime', aggfunc='min'),\n",
        "                                        last_purchase=pd.NamedAgg(column='purchase_datetime', aggfunc='max'))\n",
        "\n",
        "grouped['T'] = 1+(grouped['last_purchase'] - grouped['first_purchase']).dt.days\n",
        "\n",
        "result_df = grouped[['T']].reset_index()"
      ]
    },
    {
      "cell_type": "code",
      "execution_count": null,
      "id": "9d2dd505-d68b-47fb-9b60-c9484c0fc32d",
      "metadata": {
        "id": "9d2dd505-d68b-47fb-9b60-c9484c0fc32d",
        "outputId": "2ada9e57-4f06-48a0-be80-2203cd78f511"
      },
      "outputs": [
        {
          "data": {
            "text/plain": [
              "79.05584151189814"
            ]
          },
          "execution_count": 106,
          "metadata": {},
          "output_type": "execute_result"
        }
      ],
      "source": [
        "result_df['T'].mean()"
      ]
    },
    {
      "cell_type": "code",
      "execution_count": null,
      "id": "262c6d57-94b1-491c-a2b2-6931013b23b5",
      "metadata": {
        "id": "262c6d57-94b1-491c-a2b2-6931013b23b5"
      },
      "outputs": [],
      "source": [
        "average_T=result_df['T'].mean()"
      ]
    },
    {
      "cell_type": "code",
      "execution_count": null,
      "id": "6b2ac674-9b77-489b-9925-e45e5a90d449",
      "metadata": {
        "id": "6b2ac674-9b77-489b-9925-e45e5a90d449",
        "outputId": "28a822ec-d872-465d-9180-72d56894eb11"
      },
      "outputs": [
        {
          "data": {
            "text/plain": [
              "79.05584151189814"
            ]
          },
          "execution_count": 108,
          "metadata": {},
          "output_type": "execute_result"
        }
      ],
      "source": [
        "average_T"
      ]
    },
    {
      "cell_type": "markdown",
      "id": "52d904d4-41ea-4ea8-ad0d-f67ead07b903",
      "metadata": {
        "id": "52d904d4-41ea-4ea8-ad0d-f67ead07b903"
      },
      "source": [
        "## removes outliers from the 'gross_price' column of the DataFrame."
      ]
    },
    {
      "cell_type": "code",
      "execution_count": null,
      "id": "a505a1a3-cc60-4970-81d1-56cfbb31430a",
      "metadata": {
        "id": "a505a1a3-cc60-4970-81d1-56cfbb31430a"
      },
      "outputs": [],
      "source": [
        "z_scores = stats.zscore(df['gross_price'])\n",
        "\n",
        "threshold = 9\n",
        "\n",
        "outlier_indices = (z_scores > threshold) | (z_scores < -threshold)\n",
        "\n",
        "df_no_outliers = df[~outlier_indices]\n",
        "df=df_no_outliers.copy()\n"
      ]
    },
    {
      "cell_type": "markdown",
      "id": "e793eb34-0a6b-4790-8b75-182236219b8d",
      "metadata": {
        "id": "e793eb34-0a6b-4790-8b75-182236219b8d"
      },
      "source": [
        "## Count the number of purchases on different dates."
      ]
    },
    {
      "cell_type": "code",
      "execution_count": null,
      "id": "125bd518-4ac6-4313-8a45-3e9252163cab",
      "metadata": {
        "id": "125bd518-4ac6-4313-8a45-3e9252163cab"
      },
      "outputs": [],
      "source": [
        "df['purchase_datetime'] = pd.to_datetime(df['purchase_datetime'])\n",
        "\n",
        "df['purchase_date'] = df['purchase_datetime'].dt.date\n",
        "\n",
        "result = df.groupby('customer_id')['purchase_date'].nunique().reset_index()\n"
      ]
    },
    {
      "cell_type": "code",
      "execution_count": null,
      "id": "b3aa1e48-8562-4f3c-aea7-ec4de5739b1e",
      "metadata": {
        "id": "b3aa1e48-8562-4f3c-aea7-ec4de5739b1e",
        "outputId": "658f265a-0ac4-4064-9043-c99d05462712"
      },
      "outputs": [
        {
          "data": {
            "text/plain": [
              "1"
            ]
          },
          "execution_count": 111,
          "metadata": {},
          "output_type": "execute_result"
        }
      ],
      "source": [
        "result['purchase_date'].min()"
      ]
    },
    {
      "cell_type": "code",
      "execution_count": null,
      "id": "19762035-a4c0-4d7f-af9b-363259748e0f",
      "metadata": {
        "id": "19762035-a4c0-4d7f-af9b-363259748e0f",
        "outputId": "ed8675dd-9f74-4d14-e564-cc4a24ea97a4"
      },
      "outputs": [
        {
          "data": {
            "text/plain": [
              "(104090, 2)"
            ]
          },
          "execution_count": 112,
          "metadata": {},
          "output_type": "execute_result"
        }
      ],
      "source": [
        "result.shape"
      ]
    },
    {
      "cell_type": "markdown",
      "id": "65448204-19dd-4316-b585-cc62528a5690",
      "metadata": {
        "id": "65448204-19dd-4316-b585-cc62528a5690"
      },
      "source": [
        "## I remove customers with fewer than 2 purchases on different days (the model must be applied to repeat customers)"
      ]
    },
    {
      "cell_type": "code",
      "execution_count": null,
      "id": "ddc6ab8f-6309-4732-8fd0-ad9a8b65ca9c",
      "metadata": {
        "id": "ddc6ab8f-6309-4732-8fd0-ad9a8b65ca9c"
      },
      "outputs": [],
      "source": [
        "filtered_result = result[result['purchase_date'] >= 2]"
      ]
    },
    {
      "cell_type": "code",
      "execution_count": null,
      "id": "edc8cf33-4bed-468b-866d-c850be3cebcb",
      "metadata": {
        "id": "edc8cf33-4bed-468b-866d-c850be3cebcb"
      },
      "outputs": [],
      "source": [
        "filtered_df = df[df['customer_id'].isin(filtered_result['customer_id'])]\n",
        "df=filtered_df.copy()"
      ]
    },
    {
      "cell_type": "code",
      "execution_count": null,
      "id": "e0dedf3e-8caa-4572-ab31-15e710ea13c6",
      "metadata": {
        "id": "e0dedf3e-8caa-4572-ab31-15e710ea13c6",
        "outputId": "a721dcaa-d977-4316-95f8-a268ea72ce7b"
      },
      "outputs": [
        {
          "data": {
            "text/plain": [
              "(954527, 9)"
            ]
          },
          "execution_count": 115,
          "metadata": {},
          "output_type": "execute_result"
        }
      ],
      "source": [
        "df.shape"
      ]
    },
    {
      "cell_type": "markdown",
      "id": "a30fb2e0-dfba-40d5-9929-4faf09e2ab04",
      "metadata": {
        "id": "a30fb2e0-dfba-40d5-9929-4faf09e2ab04"
      },
      "source": [
        "## compute the repurchase curve"
      ]
    },
    {
      "cell_type": "code",
      "execution_count": null,
      "id": "d345c664-a050-49a9-8e6f-281cabe72f31",
      "metadata": {
        "id": "d345c664-a050-49a9-8e6f-281cabe72f31",
        "outputId": "0d0e2e09-ad32-46d2-f4a8-a38ed9222187"
      },
      "outputs": [
        {
          "data": {
            "text/html": [
              "<div>\n",
              "<style scoped>\n",
              "    .dataframe tbody tr th:only-of-type {\n",
              "        vertical-align: middle;\n",
              "    }\n",
              "\n",
              "    .dataframe tbody tr th {\n",
              "        vertical-align: top;\n",
              "    }\n",
              "\n",
              "    .dataframe thead th {\n",
              "        text-align: right;\n",
              "    }\n",
              "</style>\n",
              "<table border=\"1\" class=\"dataframe\">\n",
              "  <thead>\n",
              "    <tr style=\"text-align: right;\">\n",
              "      <th></th>\n",
              "      <th>customer_id</th>\n",
              "      <th>purchase_date_list</th>\n",
              "    </tr>\n",
              "  </thead>\n",
              "  <tbody>\n",
              "    <tr>\n",
              "      <th>0</th>\n",
              "      <td>23</td>\n",
              "      <td>[2022-10-04, 2022-10-04, 2022-10-04, 2022-10-0...</td>\n",
              "    </tr>\n",
              "    <tr>\n",
              "      <th>1</th>\n",
              "      <td>30</td>\n",
              "      <td>[2022-06-11, 2022-07-23, 2022-07-23]</td>\n",
              "    </tr>\n",
              "    <tr>\n",
              "      <th>2</th>\n",
              "      <td>32</td>\n",
              "      <td>[2023-03-18, 2023-03-18, 2023-03-18, 2023-03-1...</td>\n",
              "    </tr>\n",
              "    <tr>\n",
              "      <th>3</th>\n",
              "      <td>48</td>\n",
              "      <td>[2022-08-11, 2022-08-11, 2022-08-11, 2022-11-0...</td>\n",
              "    </tr>\n",
              "    <tr>\n",
              "      <th>4</th>\n",
              "      <td>50</td>\n",
              "      <td>[2023-01-18, 2023-01-18, 2023-02-19, 2023-02-19]</td>\n",
              "    </tr>\n",
              "    <tr>\n",
              "      <th>...</th>\n",
              "      <td>...</td>\n",
              "      <td>...</td>\n",
              "    </tr>\n",
              "    <tr>\n",
              "      <th>70246</th>\n",
              "      <td>928707</td>\n",
              "      <td>[2023-04-27, 2023-04-27, 2023-04-27, 2023-04-2...</td>\n",
              "    </tr>\n",
              "    <tr>\n",
              "      <th>70247</th>\n",
              "      <td>928777</td>\n",
              "      <td>[2023-04-27, 2023-04-27, 2023-04-27, 2023-04-2...</td>\n",
              "    </tr>\n",
              "    <tr>\n",
              "      <th>70248</th>\n",
              "      <td>929438</td>\n",
              "      <td>[2023-04-29, 2023-04-29, 2023-04-29, 2023-04-3...</td>\n",
              "    </tr>\n",
              "    <tr>\n",
              "      <th>70249</th>\n",
              "      <td>929899</td>\n",
              "      <td>[2023-04-27, 2023-04-30, 2023-04-30, 2023-04-3...</td>\n",
              "    </tr>\n",
              "    <tr>\n",
              "      <th>70250</th>\n",
              "      <td>933057</td>\n",
              "      <td>[2023-04-29, 2023-04-30]</td>\n",
              "    </tr>\n",
              "  </tbody>\n",
              "</table>\n",
              "<p>70251 rows × 2 columns</p>\n",
              "</div>"
            ],
            "text/plain": [
              "       customer_id                                 purchase_date_list\n",
              "0               23  [2022-10-04, 2022-10-04, 2022-10-04, 2022-10-0...\n",
              "1               30               [2022-06-11, 2022-07-23, 2022-07-23]\n",
              "2               32  [2023-03-18, 2023-03-18, 2023-03-18, 2023-03-1...\n",
              "3               48  [2022-08-11, 2022-08-11, 2022-08-11, 2022-11-0...\n",
              "4               50   [2023-01-18, 2023-01-18, 2023-02-19, 2023-02-19]\n",
              "...            ...                                                ...\n",
              "70246       928707  [2023-04-27, 2023-04-27, 2023-04-27, 2023-04-2...\n",
              "70247       928777  [2023-04-27, 2023-04-27, 2023-04-27, 2023-04-2...\n",
              "70248       929438  [2023-04-29, 2023-04-29, 2023-04-29, 2023-04-3...\n",
              "70249       929899  [2023-04-27, 2023-04-30, 2023-04-30, 2023-04-3...\n",
              "70250       933057                           [2023-04-29, 2023-04-30]\n",
              "\n",
              "[70251 rows x 2 columns]"
            ]
          },
          "execution_count": 116,
          "metadata": {},
          "output_type": "execute_result"
        }
      ],
      "source": [
        "df['purchase_datetime'] = pd.to_datetime(df['purchase_datetime']).dt.date\n",
        "\n",
        "grouped = df.groupby('customer_id')['purchase_datetime'].agg(list).reset_index()\n",
        "\n",
        "grouped.rename(columns={'purchase_datetime': 'purchase_date_list'}, inplace=True)\n",
        "\n",
        "new_df = pd.DataFrame(grouped)\n",
        "new_df"
      ]
    },
    {
      "cell_type": "code",
      "execution_count": null,
      "id": "1470421e-3622-4596-a595-bf1fd8af14cf",
      "metadata": {
        "id": "1470421e-3622-4596-a595-bf1fd8af14cf"
      },
      "outputs": [],
      "source": [
        "def clean_and_sort(dates_list):\n",
        "    return sorted(list(set(dates_list)))\n",
        "\n",
        "new_df['purchase_date_list'] = new_df['purchase_date_list'].apply(clean_and_sort)\n",
        "\n",
        "\n",
        "def calculate_avg_date_distance(dates_list):\n",
        "    if len(dates_list) <= 1:\n",
        "        return None\n",
        "\n",
        "    dates_list = sorted(dates_list)\n",
        "    date_differences = [(dates_list[i+1] - dates_list[i]).days for i in range(len(dates_list) - 1)]\n",
        "    return sum(date_differences) / len(date_differences)\n"
      ]
    },
    {
      "cell_type": "code",
      "execution_count": null,
      "id": "0054e06c-cbbf-4259-ab1b-e446ebe26bbf",
      "metadata": {
        "id": "0054e06c-cbbf-4259-ab1b-e446ebe26bbf"
      },
      "outputs": [],
      "source": [
        "new_df['avg_date_distance'] = new_df['purchase_date_list'].apply(calculate_avg_date_distance)"
      ]
    },
    {
      "cell_type": "code",
      "execution_count": null,
      "id": "15ab6f0c-0f44-4948-bc5b-81d919ac54e4",
      "metadata": {
        "id": "15ab6f0c-0f44-4948-bc5b-81d919ac54e4",
        "outputId": "8439d60d-a74f-4330-b2ab-171751a9cb41"
      },
      "outputs": [
        {
          "data": {
            "text/html": [
              "<div>\n",
              "<style scoped>\n",
              "    .dataframe tbody tr th:only-of-type {\n",
              "        vertical-align: middle;\n",
              "    }\n",
              "\n",
              "    .dataframe tbody tr th {\n",
              "        vertical-align: top;\n",
              "    }\n",
              "\n",
              "    .dataframe thead th {\n",
              "        text-align: right;\n",
              "    }\n",
              "</style>\n",
              "<table border=\"1\" class=\"dataframe\">\n",
              "  <thead>\n",
              "    <tr style=\"text-align: right;\">\n",
              "      <th></th>\n",
              "      <th>customer_id</th>\n",
              "      <th>purchase_date_list</th>\n",
              "      <th>avg_date_distance</th>\n",
              "    </tr>\n",
              "  </thead>\n",
              "  <tbody>\n",
              "    <tr>\n",
              "      <th>0</th>\n",
              "      <td>23</td>\n",
              "      <td>[2022-10-04, 2022-10-31, 2022-11-17, 2022-11-2...</td>\n",
              "      <td>23.166667</td>\n",
              "    </tr>\n",
              "    <tr>\n",
              "      <th>1</th>\n",
              "      <td>30</td>\n",
              "      <td>[2022-06-11, 2022-07-23]</td>\n",
              "      <td>42.000000</td>\n",
              "    </tr>\n",
              "    <tr>\n",
              "      <th>2</th>\n",
              "      <td>32</td>\n",
              "      <td>[2023-03-18, 2023-04-02]</td>\n",
              "      <td>15.000000</td>\n",
              "    </tr>\n",
              "    <tr>\n",
              "      <th>3</th>\n",
              "      <td>48</td>\n",
              "      <td>[2022-08-11, 2022-11-06, 2022-11-14, 2022-11-1...</td>\n",
              "      <td>23.818182</td>\n",
              "    </tr>\n",
              "    <tr>\n",
              "      <th>4</th>\n",
              "      <td>50</td>\n",
              "      <td>[2023-01-18, 2023-02-19]</td>\n",
              "      <td>32.000000</td>\n",
              "    </tr>\n",
              "    <tr>\n",
              "      <th>...</th>\n",
              "      <td>...</td>\n",
              "      <td>...</td>\n",
              "      <td>...</td>\n",
              "    </tr>\n",
              "    <tr>\n",
              "      <th>70246</th>\n",
              "      <td>928707</td>\n",
              "      <td>[2023-04-27, 2023-04-30]</td>\n",
              "      <td>3.000000</td>\n",
              "    </tr>\n",
              "    <tr>\n",
              "      <th>70247</th>\n",
              "      <td>928777</td>\n",
              "      <td>[2023-04-27, 2023-04-30]</td>\n",
              "      <td>3.000000</td>\n",
              "    </tr>\n",
              "    <tr>\n",
              "      <th>70248</th>\n",
              "      <td>929438</td>\n",
              "      <td>[2023-04-29, 2023-04-30]</td>\n",
              "      <td>1.000000</td>\n",
              "    </tr>\n",
              "    <tr>\n",
              "      <th>70249</th>\n",
              "      <td>929899</td>\n",
              "      <td>[2023-04-27, 2023-04-30]</td>\n",
              "      <td>3.000000</td>\n",
              "    </tr>\n",
              "    <tr>\n",
              "      <th>70250</th>\n",
              "      <td>933057</td>\n",
              "      <td>[2023-04-29, 2023-04-30]</td>\n",
              "      <td>1.000000</td>\n",
              "    </tr>\n",
              "  </tbody>\n",
              "</table>\n",
              "<p>70251 rows × 3 columns</p>\n",
              "</div>"
            ],
            "text/plain": [
              "       customer_id                                 purchase_date_list  \\\n",
              "0               23  [2022-10-04, 2022-10-31, 2022-11-17, 2022-11-2...   \n",
              "1               30                           [2022-06-11, 2022-07-23]   \n",
              "2               32                           [2023-03-18, 2023-04-02]   \n",
              "3               48  [2022-08-11, 2022-11-06, 2022-11-14, 2022-11-1...   \n",
              "4               50                           [2023-01-18, 2023-02-19]   \n",
              "...            ...                                                ...   \n",
              "70246       928707                           [2023-04-27, 2023-04-30]   \n",
              "70247       928777                           [2023-04-27, 2023-04-30]   \n",
              "70248       929438                           [2023-04-29, 2023-04-30]   \n",
              "70249       929899                           [2023-04-27, 2023-04-30]   \n",
              "70250       933057                           [2023-04-29, 2023-04-30]   \n",
              "\n",
              "       avg_date_distance  \n",
              "0              23.166667  \n",
              "1              42.000000  \n",
              "2              15.000000  \n",
              "3              23.818182  \n",
              "4              32.000000  \n",
              "...                  ...  \n",
              "70246           3.000000  \n",
              "70247           3.000000  \n",
              "70248           1.000000  \n",
              "70249           3.000000  \n",
              "70250           1.000000  \n",
              "\n",
              "[70251 rows x 3 columns]"
            ]
          },
          "execution_count": 119,
          "metadata": {},
          "output_type": "execute_result"
        }
      ],
      "source": [
        "new_df"
      ]
    },
    {
      "cell_type": "code",
      "execution_count": null,
      "id": "15073d4d-2160-4927-8392-67721e2eadad",
      "metadata": {
        "id": "15073d4d-2160-4927-8392-67721e2eadad",
        "outputId": "ce7b703a-8354-486f-ab89-b4c8008a6139"
      },
      "outputs": [
        {
          "data": {
            "text/plain": [
              "count    70251.000000\n",
              "mean        46.623491\n",
              "std         50.447029\n",
              "min          1.000000\n",
              "25%         14.166667\n",
              "50%         30.000000\n",
              "75%         59.333333\n",
              "max        359.000000\n",
              "Name: avg_date_distance, dtype: float64"
            ]
          },
          "execution_count": 120,
          "metadata": {},
          "output_type": "execute_result"
        }
      ],
      "source": [
        "new_df['avg_date_distance'].describe()"
      ]
    },
    {
      "cell_type": "code",
      "execution_count": null,
      "id": "b81448b6-4fa3-483b-8195-534099707183",
      "metadata": {
        "id": "b81448b6-4fa3-483b-8195-534099707183",
        "outputId": "fdf230c5-b02f-4d22-8bf4-ee9deb7e14df"
      },
      "outputs": [
        {
          "name": "stdout",
          "output_type": "stream",
          "text": [
            "On average, engaged customers make a purchase every 46.62349064551822 days\n"
          ]
        }
      ],
      "source": [
        "print(\"On average, engaged customers make a purchase every\",\n",
        "      new_df['avg_date_distance'].mean(),\n",
        "      \"days\")\n"
      ]
    },
    {
      "cell_type": "code",
      "execution_count": null,
      "id": "6bf03f56-e36e-49b0-90e1-764af6d332c5",
      "metadata": {
        "id": "6bf03f56-e36e-49b0-90e1-764af6d332c5",
        "outputId": "ef94d1b8-5f41-4898-db2f-af732663d313"
      },
      "outputs": [
        {
          "name": "stdout",
          "output_type": "stream",
          "text": [
            "Approximately 90% of customers repurchase every: 107.66666666666667 days\n"
          ]
        }
      ],
      "source": [
        "percentile_90 = np.percentile(new_df['avg_date_distance'].dropna(), 90)\n",
        "\n",
        "print(\"Approximately 90% of customers repurchase every:\", percentile_90, \"days\")\n"
      ]
    },
    {
      "cell_type": "markdown",
      "id": "38a39596-f705-4b3d-bb36-0cd8b4e3249b",
      "metadata": {
        "id": "38a39596-f705-4b3d-bb36-0cd8b4e3249b"
      },
      "source": [
        "## Show repurchase curve"
      ]
    },
    {
      "cell_type": "code",
      "execution_count": null,
      "id": "2e0b59dd-0393-4c3a-8872-f586778dde09",
      "metadata": {
        "id": "2e0b59dd-0393-4c3a-8872-f586778dde09",
        "outputId": "3750d9de-c710-4c7f-d0fb-aa71468340bd"
      },
      "outputs": [
        {
          "data": {
            "image/png": "[encoded data removed]",
            "text/plain": [
              "<Figure size 1000x600 with 1 Axes>"
            ]
          },
          "metadata": {},
          "output_type": "display_data"
        }
      ],
      "source": [
        "import numpy as np\n",
        "import pandas as pd\n",
        "import matplotlib.pyplot as plt\n",
        "from scipy.interpolate import interp1d\n",
        "\n",
        "percentiles = range(5, 100)\n",
        "percentile_values = [np.percentile(new_df['avg_date_distance'].dropna(), p) for p in percentiles]\n",
        "\n",
        "df_percentiles = pd.DataFrame({'Percentile': percentiles, 'Value': percentile_values})\n",
        "\n",
        "plt.figure(figsize=(10, 6))\n",
        "\n",
        "plt.plot(df_percentiles['Value'], df_percentiles['Percentile'], linewidth=2.0, label='Repurchase Curve', zorder=1)\n",
        "\n",
        "f = interp1d(df_percentiles['Percentile'], df_percentiles['Value'])\n",
        "value_at_87th_percentile_on_curve = f(87)\n",
        "\n",
        "plt.plot([value_at_87th_percentile_on_curve, value_at_87th_percentile_on_curve], [5, 87], color='red', linestyle='--', linewidth=1.5, label='87th Percentile', zorder=2)\n",
        "\n",
        "plt.scatter(value_at_87th_percentile_on_curve, 87, color='red', edgecolor='red', s=50, zorder=3)\n",
        "\n",
        "plt.xlabel('Average Distance between Purchases (in days)', size=12)\n",
        "plt.ylabel('% Customers', size=12)\n",
        "plt.title('Repurchase Curve')\n",
        "\n",
        "plt.xticks(range(5, int(max(percentile_values)) + 1, 5), fontsize=7, rotation=45)\n",
        "plt.yticks(range(5, 101, 5), fontsize=7)\n",
        "\n",
        "plt.grid(True)\n",
        "plt.legend(fontsize=10)\n",
        "\n",
        "plt.margins(x=0.01)\n",
        "plt.tight_layout()\n",
        "\n",
        "plt.show()\n"
      ]
    },
    {
      "cell_type": "code",
      "execution_count": null,
      "id": "d4c862b8-4f62-40ae-b80d-af6e1531c956",
      "metadata": {
        "id": "d4c862b8-4f62-40ae-b80d-af6e1531c956",
        "outputId": "1b86d0b3-0636-475b-f5b9-8ae4de285024"
      },
      "outputs": [
        {
          "data": {
            "text/html": [
              "<div>\n",
              "<style scoped>\n",
              "    .dataframe tbody tr th:only-of-type {\n",
              "        vertical-align: middle;\n",
              "    }\n",
              "\n",
              "    .dataframe tbody tr th {\n",
              "        vertical-align: top;\n",
              "    }\n",
              "\n",
              "    .dataframe thead th {\n",
              "        text-align: right;\n",
              "    }\n",
              "</style>\n",
              "<table border=\"1\" class=\"dataframe\">\n",
              "  <thead>\n",
              "    <tr style=\"text-align: right;\">\n",
              "      <th></th>\n",
              "      <th>Percentile</th>\n",
              "      <th>Valore</th>\n",
              "    </tr>\n",
              "  </thead>\n",
              "  <tbody>\n",
              "    <tr>\n",
              "      <th>75</th>\n",
              "      <td>80</td>\n",
              "      <td>70.000000</td>\n",
              "    </tr>\n",
              "    <tr>\n",
              "      <th>76</th>\n",
              "      <td>81</td>\n",
              "      <td>72.500000</td>\n",
              "    </tr>\n",
              "    <tr>\n",
              "      <th>77</th>\n",
              "      <td>82</td>\n",
              "      <td>75.500000</td>\n",
              "    </tr>\n",
              "    <tr>\n",
              "      <th>78</th>\n",
              "      <td>83</td>\n",
              "      <td>78.333333</td>\n",
              "    </tr>\n",
              "    <tr>\n",
              "      <th>79</th>\n",
              "      <td>84</td>\n",
              "      <td>81.666667</td>\n",
              "    </tr>\n",
              "    <tr>\n",
              "      <th>80</th>\n",
              "      <td>85</td>\n",
              "      <td>85.000000</td>\n",
              "    </tr>\n",
              "    <tr>\n",
              "      <th>81</th>\n",
              "      <td>86</td>\n",
              "      <td>88.333333</td>\n",
              "    </tr>\n",
              "    <tr>\n",
              "      <th>82</th>\n",
              "      <td>87</td>\n",
              "      <td>92.000000</td>\n",
              "    </tr>\n",
              "    <tr>\n",
              "      <th>83</th>\n",
              "      <td>88</td>\n",
              "      <td>97.000000</td>\n",
              "    </tr>\n",
              "    <tr>\n",
              "      <th>84</th>\n",
              "      <td>89</td>\n",
              "      <td>102.000000</td>\n",
              "    </tr>\n",
              "    <tr>\n",
              "      <th>85</th>\n",
              "      <td>90</td>\n",
              "      <td>107.666667</td>\n",
              "    </tr>\n",
              "    <tr>\n",
              "      <th>86</th>\n",
              "      <td>91</td>\n",
              "      <td>113.833333</td>\n",
              "    </tr>\n",
              "    <tr>\n",
              "      <th>87</th>\n",
              "      <td>92</td>\n",
              "      <td>120.000000</td>\n",
              "    </tr>\n",
              "    <tr>\n",
              "      <th>88</th>\n",
              "      <td>93</td>\n",
              "      <td>129.000000</td>\n",
              "    </tr>\n",
              "    <tr>\n",
              "      <th>89</th>\n",
              "      <td>94</td>\n",
              "      <td>138.000000</td>\n",
              "    </tr>\n",
              "    <tr>\n",
              "      <th>90</th>\n",
              "      <td>95</td>\n",
              "      <td>148.000000</td>\n",
              "    </tr>\n",
              "    <tr>\n",
              "      <th>91</th>\n",
              "      <td>96</td>\n",
              "      <td>162.000000</td>\n",
              "    </tr>\n",
              "    <tr>\n",
              "      <th>92</th>\n",
              "      <td>97</td>\n",
              "      <td>181.000000</td>\n",
              "    </tr>\n",
              "    <tr>\n",
              "      <th>93</th>\n",
              "      <td>98</td>\n",
              "      <td>211.000000</td>\n",
              "    </tr>\n",
              "    <tr>\n",
              "      <th>94</th>\n",
              "      <td>99</td>\n",
              "      <td>259.000000</td>\n",
              "    </tr>\n",
              "  </tbody>\n",
              "</table>\n",
              "</div>"
            ],
            "text/plain": [
              "    Percentile      Valore\n",
              "75          80   70.000000\n",
              "76          81   72.500000\n",
              "77          82   75.500000\n",
              "78          83   78.333333\n",
              "79          84   81.666667\n",
              "80          85   85.000000\n",
              "81          86   88.333333\n",
              "82          87   92.000000\n",
              "83          88   97.000000\n",
              "84          89  102.000000\n",
              "85          90  107.666667\n",
              "86          91  113.833333\n",
              "87          92  120.000000\n",
              "88          93  129.000000\n",
              "89          94  138.000000\n",
              "90          95  148.000000\n",
              "91          96  162.000000\n",
              "92          97  181.000000\n",
              "93          98  211.000000\n",
              "94          99  259.000000"
            ]
          },
          "execution_count": 124,
          "metadata": {},
          "output_type": "execute_result"
        }
      ],
      "source": [
        "df_percentili.tail(20)"
      ]
    },
    {
      "cell_type": "markdown",
      "id": "f9c44eb9-d703-4675-a62b-d1484eabf83b",
      "metadata": {
        "id": "f9c44eb9-d703-4675-a62b-d1484eabf83b"
      },
      "source": [
        "# Set the first reference date to 90 days from the date of the first purchase.\n",
        "### if a customer has not made another purchase after this date, then they are considered a churner."
      ]
    },
    {
      "cell_type": "code",
      "execution_count": null,
      "id": "7ef674c9-6a56-46c4-b78d-b2445ef9bb46",
      "metadata": {
        "id": "7ef674c9-6a56-46c4-b78d-b2445ef9bb46"
      },
      "outputs": [],
      "source": [
        "percentile_90=math.floor(percentile_90)-2"
      ]
    },
    {
      "cell_type": "code",
      "execution_count": null,
      "id": "07beb870-b147-4fd3-a130-2334f7228846",
      "metadata": {
        "id": "07beb870-b147-4fd3-a130-2334f7228846",
        "outputId": "682618ef-3012-43be-b0b0-9788459e23dc"
      },
      "outputs": [
        {
          "data": {
            "text/plain": [
              "105"
            ]
          },
          "execution_count": 126,
          "metadata": {},
          "output_type": "execute_result"
        }
      ],
      "source": [
        "percentile_90"
      ]
    },
    {
      "cell_type": "code",
      "execution_count": null,
      "id": "dde92aa6-b14e-4736-a141-893db09f4268",
      "metadata": {
        "id": "dde92aa6-b14e-4736-a141-893db09f4268",
        "outputId": "9c9deed5-7166-41cf-e5a0-338b11de4414"
      },
      "outputs": [
        {
          "name": "stdout",
          "output_type": "stream",
          "text": [
            "La reference_date è: 2022-08-14\n"
          ]
        }
      ],
      "source": [
        "min_date=df['purchase_date'].min()\n",
        "\n",
        "reference_date = min_date + pd.Timedelta(days=percentile_90)\n",
        "\n",
        "print(\"La reference_date è:\", reference_date)"
      ]
    },
    {
      "cell_type": "code",
      "execution_count": null,
      "id": "2ae3f5d8-b036-4242-b59e-6f758dc54abd",
      "metadata": {
        "id": "2ae3f5d8-b036-4242-b59e-6f758dc54abd",
        "outputId": "8d121abc-f4cb-43eb-d736-62d2f18e9437"
      },
      "outputs": [
        {
          "data": {
            "text/plain": [
              "datetime.date(2022, 5, 1)"
            ]
          },
          "execution_count": 128,
          "metadata": {},
          "output_type": "execute_result"
        }
      ],
      "source": [
        "min_date"
      ]
    },
    {
      "cell_type": "code",
      "execution_count": null,
      "id": "493ad4b1-d931-460c-aa83-994c015142b9",
      "metadata": {
        "id": "493ad4b1-d931-460c-aa83-994c015142b9"
      },
      "outputs": [],
      "source": [
        "def filter_dates_greater(date_list):\n",
        "    return [date for date in date_list if date >= reference_date]\n",
        "\n",
        "def filter_dates_less(date_list):\n",
        "    return [date for date in date_list if date <= reference_date]\n",
        "\n",
        "new_df['filtered_dates_greater'] = new_df['purchase_date_list'].apply(filter_dates_greater)\n",
        "new_df['filtered_dates_less'] = new_df['purchase_date_list'].apply(filter_dates_less)"
      ]
    },
    {
      "cell_type": "code",
      "execution_count": null,
      "id": "459298d4-e01a-4380-8b8f-861538e2829a",
      "metadata": {
        "id": "459298d4-e01a-4380-8b8f-861538e2829a",
        "outputId": "46790e1d-179c-4c0c-eac1-d1bde2933887"
      },
      "outputs": [
        {
          "data": {
            "text/html": [
              "<div>\n",
              "<style scoped>\n",
              "    .dataframe tbody tr th:only-of-type {\n",
              "        vertical-align: middle;\n",
              "    }\n",
              "\n",
              "    .dataframe tbody tr th {\n",
              "        vertical-align: top;\n",
              "    }\n",
              "\n",
              "    .dataframe thead th {\n",
              "        text-align: right;\n",
              "    }\n",
              "</style>\n",
              "<table border=\"1\" class=\"dataframe\">\n",
              "  <thead>\n",
              "    <tr style=\"text-align: right;\">\n",
              "      <th></th>\n",
              "      <th>customer_id</th>\n",
              "      <th>purchase_date_list</th>\n",
              "      <th>avg_date_distance</th>\n",
              "      <th>filtered_dates_greater</th>\n",
              "      <th>filtered_dates_less</th>\n",
              "    </tr>\n",
              "  </thead>\n",
              "  <tbody>\n",
              "    <tr>\n",
              "      <th>0</th>\n",
              "      <td>23</td>\n",
              "      <td>[2022-10-04, 2022-10-31, 2022-11-17, 2022-11-2...</td>\n",
              "      <td>23.166667</td>\n",
              "      <td>[2022-10-04, 2022-10-31, 2022-11-17, 2022-11-2...</td>\n",
              "      <td>[]</td>\n",
              "    </tr>\n",
              "    <tr>\n",
              "      <th>1</th>\n",
              "      <td>30</td>\n",
              "      <td>[2022-06-11, 2022-07-23]</td>\n",
              "      <td>42.000000</td>\n",
              "      <td>[]</td>\n",
              "      <td>[2022-06-11, 2022-07-23]</td>\n",
              "    </tr>\n",
              "    <tr>\n",
              "      <th>2</th>\n",
              "      <td>32</td>\n",
              "      <td>[2023-03-18, 2023-04-02]</td>\n",
              "      <td>15.000000</td>\n",
              "      <td>[2023-03-18, 2023-04-02]</td>\n",
              "      <td>[]</td>\n",
              "    </tr>\n",
              "    <tr>\n",
              "      <th>3</th>\n",
              "      <td>48</td>\n",
              "      <td>[2022-08-11, 2022-11-06, 2022-11-14, 2022-11-1...</td>\n",
              "      <td>23.818182</td>\n",
              "      <td>[2022-11-06, 2022-11-14, 2022-11-15, 2022-12-2...</td>\n",
              "      <td>[2022-08-11]</td>\n",
              "    </tr>\n",
              "    <tr>\n",
              "      <th>4</th>\n",
              "      <td>50</td>\n",
              "      <td>[2023-01-18, 2023-02-19]</td>\n",
              "      <td>32.000000</td>\n",
              "      <td>[2023-01-18, 2023-02-19]</td>\n",
              "      <td>[]</td>\n",
              "    </tr>\n",
              "  </tbody>\n",
              "</table>\n",
              "</div>"
            ],
            "text/plain": [
              "   customer_id                                 purchase_date_list  \\\n",
              "0           23  [2022-10-04, 2022-10-31, 2022-11-17, 2022-11-2...   \n",
              "1           30                           [2022-06-11, 2022-07-23]   \n",
              "2           32                           [2023-03-18, 2023-04-02]   \n",
              "3           48  [2022-08-11, 2022-11-06, 2022-11-14, 2022-11-1...   \n",
              "4           50                           [2023-01-18, 2023-02-19]   \n",
              "\n",
              "   avg_date_distance                             filtered_dates_greater  \\\n",
              "0          23.166667  [2022-10-04, 2022-10-31, 2022-11-17, 2022-11-2...   \n",
              "1          42.000000                                                 []   \n",
              "2          15.000000                           [2023-03-18, 2023-04-02]   \n",
              "3          23.818182  [2022-11-06, 2022-11-14, 2022-11-15, 2022-12-2...   \n",
              "4          32.000000                           [2023-01-18, 2023-02-19]   \n",
              "\n",
              "        filtered_dates_less  \n",
              "0                        []  \n",
              "1  [2022-06-11, 2022-07-23]  \n",
              "2                        []  \n",
              "3              [2022-08-11]  \n",
              "4                        []  "
            ]
          },
          "execution_count": 130,
          "metadata": {},
          "output_type": "execute_result"
        }
      ],
      "source": [
        "new_df.head()"
      ]
    },
    {
      "cell_type": "code",
      "execution_count": null,
      "id": "b7172219-3d29-4ca2-8b05-9b16cfc1b443",
      "metadata": {
        "id": "b7172219-3d29-4ca2-8b05-9b16cfc1b443",
        "outputId": "c3ecab61-afaa-41d2-ae6a-f32c5b628210"
      },
      "outputs": [
        {
          "data": {
            "text/plain": [
              "(70251, 5)"
            ]
          },
          "execution_count": 131,
          "metadata": {},
          "output_type": "execute_result"
        }
      ],
      "source": [
        "new_df.shape"
      ]
    },
    {
      "cell_type": "markdown",
      "id": "d5efdafe-3d03-40a8-b673-75b7356c805c",
      "metadata": {
        "id": "d5efdafe-3d03-40a8-b673-75b7356c805c"
      },
      "source": [
        "## exclude from the analysis customers who have not made a purchase before the reference date.\n"
      ]
    },
    {
      "cell_type": "code",
      "execution_count": null,
      "id": "d29572c4-1065-4520-a6fb-064ad3997e0f",
      "metadata": {
        "id": "d29572c4-1065-4520-a6fb-064ad3997e0f"
      },
      "outputs": [],
      "source": [
        "new_df = new_df[new_df['filtered_dates_less'].apply(len) > 0]"
      ]
    },
    {
      "cell_type": "code",
      "execution_count": null,
      "id": "a044ea34-4e80-4c61-9d81-ee42ea3ed2f1",
      "metadata": {
        "id": "a044ea34-4e80-4c61-9d81-ee42ea3ed2f1",
        "outputId": "00a0e5be-a92d-4255-969e-2d83176a2655"
      },
      "outputs": [
        {
          "data": {
            "text/plain": [
              "(30744, 5)"
            ]
          },
          "execution_count": 133,
          "metadata": {},
          "output_type": "execute_result"
        }
      ],
      "source": [
        "new_df.shape"
      ]
    },
    {
      "cell_type": "markdown",
      "id": "151d2c87-6266-4d23-b50d-c95e240630a1",
      "metadata": {
        "id": "151d2c87-6266-4d23-b50d-c95e240630a1"
      },
      "source": [
        "## Exclude from the analysis customers who have not made a purchase within 90 days of the reference date"
      ]
    },
    {
      "cell_type": "code",
      "execution_count": null,
      "id": "3cc72201-3d19-4583-86d5-6090b68c9fac",
      "metadata": {
        "id": "3cc72201-3d19-4583-86d5-6090b68c9fac",
        "outputId": "aa5715bb-87e1-4f4b-e1d0-739ebbfb5c42"
      },
      "outputs": [
        {
          "data": {
            "text/plain": [
              "datetime.date(2022, 5, 1)"
            ]
          },
          "execution_count": 134,
          "metadata": {},
          "output_type": "execute_result"
        }
      ],
      "source": [
        "pre_reference_date = reference_date - timedelta(days=percentile_90)\n",
        "\n",
        "pre_reference_date"
      ]
    },
    {
      "cell_type": "code",
      "execution_count": null,
      "id": "a0b0f1a5-63fb-47da-bc2e-bec4cb2626fb",
      "metadata": {
        "id": "a0b0f1a5-63fb-47da-bc2e-bec4cb2626fb",
        "outputId": "4dcc81a7-66e0-4aea-f941-68bca1f7a0a9"
      },
      "outputs": [
        {
          "data": {
            "text/html": [
              "<div>\n",
              "<style scoped>\n",
              "    .dataframe tbody tr th:only-of-type {\n",
              "        vertical-align: middle;\n",
              "    }\n",
              "\n",
              "    .dataframe tbody tr th {\n",
              "        vertical-align: top;\n",
              "    }\n",
              "\n",
              "    .dataframe thead th {\n",
              "        text-align: right;\n",
              "    }\n",
              "</style>\n",
              "<table border=\"1\" class=\"dataframe\">\n",
              "  <thead>\n",
              "    <tr style=\"text-align: right;\">\n",
              "      <th></th>\n",
              "      <th>customer_id</th>\n",
              "      <th>purchase_date_list</th>\n",
              "      <th>avg_date_distance</th>\n",
              "      <th>filtered_dates_greater</th>\n",
              "      <th>filtered_dates_less</th>\n",
              "      <th>filtered_dates_pre_and_reference</th>\n",
              "    </tr>\n",
              "  </thead>\n",
              "  <tbody>\n",
              "    <tr>\n",
              "      <th>1</th>\n",
              "      <td>30</td>\n",
              "      <td>[2022-06-11, 2022-07-23]</td>\n",
              "      <td>42.000000</td>\n",
              "      <td>[]</td>\n",
              "      <td>[2022-06-11, 2022-07-23]</td>\n",
              "      <td>[2022-06-11, 2022-07-23]</td>\n",
              "    </tr>\n",
              "    <tr>\n",
              "      <th>3</th>\n",
              "      <td>48</td>\n",
              "      <td>[2022-08-11, 2022-11-06, 2022-11-14, 2022-11-1...</td>\n",
              "      <td>23.818182</td>\n",
              "      <td>[2022-11-06, 2022-11-14, 2022-11-15, 2022-12-2...</td>\n",
              "      <td>[2022-08-11]</td>\n",
              "      <td>[2022-08-11]</td>\n",
              "    </tr>\n",
              "    <tr>\n",
              "      <th>5</th>\n",
              "      <td>76</td>\n",
              "      <td>[2022-05-17, 2023-03-08]</td>\n",
              "      <td>295.000000</td>\n",
              "      <td>[2023-03-08]</td>\n",
              "      <td>[2022-05-17]</td>\n",
              "      <td>[2022-05-17]</td>\n",
              "    </tr>\n",
              "    <tr>\n",
              "      <th>7</th>\n",
              "      <td>109</td>\n",
              "      <td>[2022-08-02, 2022-08-23]</td>\n",
              "      <td>21.000000</td>\n",
              "      <td>[2022-08-23]</td>\n",
              "      <td>[2022-08-02]</td>\n",
              "      <td>[2022-08-02]</td>\n",
              "    </tr>\n",
              "    <tr>\n",
              "      <th>8</th>\n",
              "      <td>146</td>\n",
              "      <td>[2022-06-14, 2022-07-16]</td>\n",
              "      <td>32.000000</td>\n",
              "      <td>[]</td>\n",
              "      <td>[2022-06-14, 2022-07-16]</td>\n",
              "      <td>[2022-06-14, 2022-07-16]</td>\n",
              "    </tr>\n",
              "    <tr>\n",
              "      <th>12</th>\n",
              "      <td>194</td>\n",
              "      <td>[2022-05-21, 2022-07-29, 2023-04-23, 2023-04-25]</td>\n",
              "      <td>113.000000</td>\n",
              "      <td>[2023-04-23, 2023-04-25]</td>\n",
              "      <td>[2022-05-21, 2022-07-29]</td>\n",
              "      <td>[2022-05-21, 2022-07-29]</td>\n",
              "    </tr>\n",
              "    <tr>\n",
              "      <th>14</th>\n",
              "      <td>198</td>\n",
              "      <td>[2022-05-12, 2022-07-08, 2022-10-25]</td>\n",
              "      <td>83.000000</td>\n",
              "      <td>[2022-10-25]</td>\n",
              "      <td>[2022-05-12, 2022-07-08]</td>\n",
              "      <td>[2022-05-12, 2022-07-08]</td>\n",
              "    </tr>\n",
              "    <tr>\n",
              "      <th>19</th>\n",
              "      <td>231</td>\n",
              "      <td>[2022-06-28, 2022-07-04, 2022-07-14, 2022-07-1...</td>\n",
              "      <td>32.888889</td>\n",
              "      <td>[2022-08-24, 2022-11-04, 2023-01-03, 2023-01-0...</td>\n",
              "      <td>[2022-06-28, 2022-07-04, 2022-07-14, 2022-07-1...</td>\n",
              "      <td>[2022-06-28, 2022-07-04, 2022-07-14, 2022-07-1...</td>\n",
              "    </tr>\n",
              "    <tr>\n",
              "      <th>20</th>\n",
              "      <td>234</td>\n",
              "      <td>[2022-05-20, 2022-07-07, 2022-07-31]</td>\n",
              "      <td>36.000000</td>\n",
              "      <td>[]</td>\n",
              "      <td>[2022-05-20, 2022-07-07, 2022-07-31]</td>\n",
              "      <td>[2022-05-20, 2022-07-07, 2022-07-31]</td>\n",
              "    </tr>\n",
              "    <tr>\n",
              "      <th>21</th>\n",
              "      <td>241</td>\n",
              "      <td>[2022-07-11, 2022-09-25, 2023-03-04]</td>\n",
              "      <td>118.000000</td>\n",
              "      <td>[2022-09-25, 2023-03-04]</td>\n",
              "      <td>[2022-07-11]</td>\n",
              "      <td>[2022-07-11]</td>\n",
              "    </tr>\n",
              "  </tbody>\n",
              "</table>\n",
              "</div>"
            ],
            "text/plain": [
              "    customer_id                                 purchase_date_list  \\\n",
              "1            30                           [2022-06-11, 2022-07-23]   \n",
              "3            48  [2022-08-11, 2022-11-06, 2022-11-14, 2022-11-1...   \n",
              "5            76                           [2022-05-17, 2023-03-08]   \n",
              "7           109                           [2022-08-02, 2022-08-23]   \n",
              "8           146                           [2022-06-14, 2022-07-16]   \n",
              "12          194   [2022-05-21, 2022-07-29, 2023-04-23, 2023-04-25]   \n",
              "14          198               [2022-05-12, 2022-07-08, 2022-10-25]   \n",
              "19          231  [2022-06-28, 2022-07-04, 2022-07-14, 2022-07-1...   \n",
              "20          234               [2022-05-20, 2022-07-07, 2022-07-31]   \n",
              "21          241               [2022-07-11, 2022-09-25, 2023-03-04]   \n",
              "\n",
              "    avg_date_distance                             filtered_dates_greater  \\\n",
              "1           42.000000                                                 []   \n",
              "3           23.818182  [2022-11-06, 2022-11-14, 2022-11-15, 2022-12-2...   \n",
              "5          295.000000                                       [2023-03-08]   \n",
              "7           21.000000                                       [2022-08-23]   \n",
              "8           32.000000                                                 []   \n",
              "12         113.000000                           [2023-04-23, 2023-04-25]   \n",
              "14          83.000000                                       [2022-10-25]   \n",
              "19          32.888889  [2022-08-24, 2022-11-04, 2023-01-03, 2023-01-0...   \n",
              "20          36.000000                                                 []   \n",
              "21         118.000000                           [2022-09-25, 2023-03-04]   \n",
              "\n",
              "                                  filtered_dates_less  \\\n",
              "1                            [2022-06-11, 2022-07-23]   \n",
              "3                                        [2022-08-11]   \n",
              "5                                        [2022-05-17]   \n",
              "7                                        [2022-08-02]   \n",
              "8                            [2022-06-14, 2022-07-16]   \n",
              "12                           [2022-05-21, 2022-07-29]   \n",
              "14                           [2022-05-12, 2022-07-08]   \n",
              "19  [2022-06-28, 2022-07-04, 2022-07-14, 2022-07-1...   \n",
              "20               [2022-05-20, 2022-07-07, 2022-07-31]   \n",
              "21                                       [2022-07-11]   \n",
              "\n",
              "                     filtered_dates_pre_and_reference  \n",
              "1                            [2022-06-11, 2022-07-23]  \n",
              "3                                        [2022-08-11]  \n",
              "5                                        [2022-05-17]  \n",
              "7                                        [2022-08-02]  \n",
              "8                            [2022-06-14, 2022-07-16]  \n",
              "12                           [2022-05-21, 2022-07-29]  \n",
              "14                           [2022-05-12, 2022-07-08]  \n",
              "19  [2022-06-28, 2022-07-04, 2022-07-14, 2022-07-1...  \n",
              "20               [2022-05-20, 2022-07-07, 2022-07-31]  \n",
              "21                                       [2022-07-11]  "
            ]
          },
          "execution_count": 135,
          "metadata": {},
          "output_type": "execute_result"
        }
      ],
      "source": [
        "def filter_dates_pre_and_reference(date_list):\n",
        "    return [date for date in date_list if pre_reference_date <= date <= reference_date]\n",
        "\n",
        "new_df['filtered_dates_pre_and_reference'] = new_df['purchase_date_list'].apply(filter_dates_pre_and_reference)\n",
        "\n",
        "new_df.head(10)"
      ]
    },
    {
      "cell_type": "code",
      "execution_count": null,
      "id": "5a2455e0-64f5-4017-ad1d-a8ff58986532",
      "metadata": {
        "id": "5a2455e0-64f5-4017-ad1d-a8ff58986532"
      },
      "outputs": [],
      "source": [
        "new_df = new_df[new_df['filtered_dates_pre_and_reference'].apply(len) > 0]\n",
        "\n",
        "new_df.head()\n",
        "\n",
        "df=new_df.copy()"
      ]
    },
    {
      "cell_type": "code",
      "execution_count": null,
      "id": "e4e281ae-7505-4b70-838c-859c39ca517c",
      "metadata": {
        "id": "e4e281ae-7505-4b70-838c-859c39ca517c",
        "outputId": "fc435edb-be7c-47ce-e6da-339ce545f1b2"
      },
      "outputs": [
        {
          "data": {
            "text/plain": [
              "(30744, 6)"
            ]
          },
          "execution_count": 137,
          "metadata": {},
          "output_type": "execute_result"
        }
      ],
      "source": [
        "new_df.shape"
      ]
    },
    {
      "cell_type": "markdown",
      "id": "9110070d-fb5f-4a68-95c7-c5839303d91e",
      "metadata": {
        "id": "9110070d-fb5f-4a68-95c7-c5839303d91e"
      },
      "source": [
        "## Compute the churners from the first lookback\n"
      ]
    },
    {
      "cell_type": "code",
      "execution_count": null,
      "id": "74e145cd-7330-401b-b804-5de3688a975e",
      "metadata": {
        "id": "74e145cd-7330-401b-b804-5de3688a975e",
        "outputId": "80eeef79-a216-4c8d-f312-75ab89d7cab7"
      },
      "outputs": [
        {
          "data": {
            "text/html": [
              "<div>\n",
              "<style scoped>\n",
              "    .dataframe tbody tr th:only-of-type {\n",
              "        vertical-align: middle;\n",
              "    }\n",
              "\n",
              "    .dataframe tbody tr th {\n",
              "        vertical-align: top;\n",
              "    }\n",
              "\n",
              "    .dataframe thead th {\n",
              "        text-align: right;\n",
              "    }\n",
              "</style>\n",
              "<table border=\"1\" class=\"dataframe\">\n",
              "  <thead>\n",
              "    <tr style=\"text-align: right;\">\n",
              "      <th></th>\n",
              "      <th>customer_id</th>\n",
              "      <th>purchase_date_list</th>\n",
              "      <th>avg_date_distance</th>\n",
              "      <th>filtered_dates_greater</th>\n",
              "      <th>filtered_dates_less</th>\n",
              "      <th>filtered_dates_pre_and_reference</th>\n",
              "      <th>churn</th>\n",
              "    </tr>\n",
              "  </thead>\n",
              "  <tbody>\n",
              "    <tr>\n",
              "      <th>1</th>\n",
              "      <td>30</td>\n",
              "      <td>[2022-06-11, 2022-07-23]</td>\n",
              "      <td>42.000000</td>\n",
              "      <td>[]</td>\n",
              "      <td>[2022-06-11, 2022-07-23]</td>\n",
              "      <td>[2022-06-11, 2022-07-23]</td>\n",
              "      <td>1</td>\n",
              "    </tr>\n",
              "    <tr>\n",
              "      <th>3</th>\n",
              "      <td>48</td>\n",
              "      <td>[2022-08-11, 2022-11-06, 2022-11-14, 2022-11-1...</td>\n",
              "      <td>23.818182</td>\n",
              "      <td>[2022-11-06, 2022-11-14, 2022-11-15, 2022-12-2...</td>\n",
              "      <td>[2022-08-11]</td>\n",
              "      <td>[2022-08-11]</td>\n",
              "      <td>0</td>\n",
              "    </tr>\n",
              "    <tr>\n",
              "      <th>5</th>\n",
              "      <td>76</td>\n",
              "      <td>[2022-05-17, 2023-03-08]</td>\n",
              "      <td>295.000000</td>\n",
              "      <td>[2023-03-08]</td>\n",
              "      <td>[2022-05-17]</td>\n",
              "      <td>[2022-05-17]</td>\n",
              "      <td>0</td>\n",
              "    </tr>\n",
              "    <tr>\n",
              "      <th>7</th>\n",
              "      <td>109</td>\n",
              "      <td>[2022-08-02, 2022-08-23]</td>\n",
              "      <td>21.000000</td>\n",
              "      <td>[2022-08-23]</td>\n",
              "      <td>[2022-08-02]</td>\n",
              "      <td>[2022-08-02]</td>\n",
              "      <td>0</td>\n",
              "    </tr>\n",
              "    <tr>\n",
              "      <th>8</th>\n",
              "      <td>146</td>\n",
              "      <td>[2022-06-14, 2022-07-16]</td>\n",
              "      <td>32.000000</td>\n",
              "      <td>[]</td>\n",
              "      <td>[2022-06-14, 2022-07-16]</td>\n",
              "      <td>[2022-06-14, 2022-07-16]</td>\n",
              "      <td>1</td>\n",
              "    </tr>\n",
              "  </tbody>\n",
              "</table>\n",
              "</div>"
            ],
            "text/plain": [
              "   customer_id                                 purchase_date_list  \\\n",
              "1           30                           [2022-06-11, 2022-07-23]   \n",
              "3           48  [2022-08-11, 2022-11-06, 2022-11-14, 2022-11-1...   \n",
              "5           76                           [2022-05-17, 2023-03-08]   \n",
              "7          109                           [2022-08-02, 2022-08-23]   \n",
              "8          146                           [2022-06-14, 2022-07-16]   \n",
              "\n",
              "   avg_date_distance                             filtered_dates_greater  \\\n",
              "1          42.000000                                                 []   \n",
              "3          23.818182  [2022-11-06, 2022-11-14, 2022-11-15, 2022-12-2...   \n",
              "5         295.000000                                       [2023-03-08]   \n",
              "7          21.000000                                       [2022-08-23]   \n",
              "8          32.000000                                                 []   \n",
              "\n",
              "        filtered_dates_less filtered_dates_pre_and_reference  churn  \n",
              "1  [2022-06-11, 2022-07-23]         [2022-06-11, 2022-07-23]      1  \n",
              "3              [2022-08-11]                     [2022-08-11]      0  \n",
              "5              [2022-05-17]                     [2022-05-17]      0  \n",
              "7              [2022-08-02]                     [2022-08-02]      0  \n",
              "8  [2022-06-14, 2022-07-16]         [2022-06-14, 2022-07-16]      1  "
            ]
          },
          "execution_count": 138,
          "metadata": {},
          "output_type": "execute_result"
        }
      ],
      "source": [
        "def calculate_churn(filtered_dates_greater_list):\n",
        "    return int(len(filtered_dates_greater_list) == 0)\n",
        "\n",
        "df['churn'] = df['filtered_dates_greater'].apply(calculate_churn)\n",
        "df.head()"
      ]
    },
    {
      "cell_type": "code",
      "execution_count": null,
      "id": "02885d41-6723-4090-a248-03d1851ab3e6",
      "metadata": {
        "id": "02885d41-6723-4090-a248-03d1851ab3e6",
        "outputId": "b91a50ce-a492-4e4b-8815-bdf54fc6e76b"
      },
      "outputs": [
        {
          "name": "stdout",
          "output_type": "stream",
          "text": [
            "Number of Churners: 6161\n",
            "Number of Non-Churners: 24583\n",
            "Churn Rate: 0.2003968253968254\n"
          ]
        }
      ],
      "source": [
        "total_rows = len(df)\n",
        "churn_rows = df['churn'].sum()\n",
        "churn_rate = churn_rows / total_rows\n",
        "\n",
        "churner_count = (df['churn'] == 1).sum()\n",
        "non_churner_count = (df['churn'] == 0).sum()\n",
        "\n",
        "print(\"Number of Churners:\", churner_count)\n",
        "print(\"Number of Non-Churners:\", non_churner_count)\n",
        "\n",
        "print(\"Churn Rate:\", churn_rate)\n"
      ]
    },
    {
      "cell_type": "markdown",
      "id": "f45f5db1-87c3-44b3-864e-33d1cf2d6e52",
      "metadata": {
        "id": "f45f5db1-87c3-44b3-864e-33d1cf2d6e52"
      },
      "source": [
        "**Approximately 17% of customers who made 2 purchases, with at least one made within 90 days of the reference date, did not make another purchase after the reference date**"
      ]
    },
    {
      "cell_type": "markdown",
      "id": "c4c1b187-3fb0-47f1-94a0-3fe3903bc4cb",
      "metadata": {
        "id": "c4c1b187-3fb0-47f1-94a0-3fe3903bc4cb"
      },
      "source": [
        "## creation of the labeled set"
      ]
    },
    {
      "cell_type": "code",
      "execution_count": null,
      "id": "586546f0-83bc-4652-b333-665095c212ca",
      "metadata": {
        "id": "586546f0-83bc-4652-b333-665095c212ca",
        "outputId": "e138783e-de1a-4ca8-afaf-163d74d08c2d"
      },
      "outputs": [
        {
          "name": "stdout",
          "output_type": "stream",
          "text": [
            "Minimum Date: 2022-05-01\n"
          ]
        }
      ],
      "source": [
        "import pandas as pd\n",
        "import os\n",
        "\n",
        "min_date = min(min(dates) for dates in df['filtered_dates_pre_and_reference'])\n",
        "\n",
        "print(\"Minimum Date:\", min_date)\n",
        "\n",
        "columns_to_drop = [\n",
        "    \"purchase_date_list\",\n",
        "    \"filtered_dates_greater\",\n",
        "    \"filtered_dates_less\",\n",
        "    \"filtered_dates_pre_and_reference\",\n",
        "    \"avg_date_distance\"\n",
        "]\n",
        "\n",
        "df = df.drop(columns_to_drop, axis=1)\n",
        "\n",
        "if not os.path.exists(\"temp_data/first_lookback\"):\n",
        "    os.makedirs(\"temp_data/first_lookback\")\n",
        "\n",
        "df.to_csv(\"temp_data/first_lookback/labelled.csv\", index=False)"
      ]
    },
    {
      "cell_type": "code",
      "execution_count": null,
      "id": "ded300a6-3938-4c7b-aa83-d07f1c5c7551",
      "metadata": {
        "id": "ded300a6-3938-4c7b-aa83-d07f1c5c7551",
        "outputId": "e8e7c48f-b6a5-418e-d4a4-81a9ebc87850"
      },
      "outputs": [
        {
          "data": {
            "text/html": [
              "<div>\n",
              "<style scoped>\n",
              "    .dataframe tbody tr th:only-of-type {\n",
              "        vertical-align: middle;\n",
              "    }\n",
              "\n",
              "    .dataframe tbody tr th {\n",
              "        vertical-align: top;\n",
              "    }\n",
              "\n",
              "    .dataframe thead th {\n",
              "        text-align: right;\n",
              "    }\n",
              "</style>\n",
              "<table border=\"1\" class=\"dataframe\">\n",
              "  <thead>\n",
              "    <tr style=\"text-align: right;\">\n",
              "      <th></th>\n",
              "      <th>customer_id</th>\n",
              "      <th>churn</th>\n",
              "    </tr>\n",
              "  </thead>\n",
              "  <tbody>\n",
              "    <tr>\n",
              "      <th>1</th>\n",
              "      <td>30</td>\n",
              "      <td>1</td>\n",
              "    </tr>\n",
              "    <tr>\n",
              "      <th>3</th>\n",
              "      <td>48</td>\n",
              "      <td>0</td>\n",
              "    </tr>\n",
              "    <tr>\n",
              "      <th>5</th>\n",
              "      <td>76</td>\n",
              "      <td>0</td>\n",
              "    </tr>\n",
              "    <tr>\n",
              "      <th>7</th>\n",
              "      <td>109</td>\n",
              "      <td>0</td>\n",
              "    </tr>\n",
              "    <tr>\n",
              "      <th>8</th>\n",
              "      <td>146</td>\n",
              "      <td>1</td>\n",
              "    </tr>\n",
              "    <tr>\n",
              "      <th>...</th>\n",
              "      <td>...</td>\n",
              "      <td>...</td>\n",
              "    </tr>\n",
              "    <tr>\n",
              "      <th>44734</th>\n",
              "      <td>525861</td>\n",
              "      <td>0</td>\n",
              "    </tr>\n",
              "    <tr>\n",
              "      <th>44737</th>\n",
              "      <td>525907</td>\n",
              "      <td>0</td>\n",
              "    </tr>\n",
              "    <tr>\n",
              "      <th>44738</th>\n",
              "      <td>525910</td>\n",
              "      <td>0</td>\n",
              "    </tr>\n",
              "    <tr>\n",
              "      <th>44745</th>\n",
              "      <td>525987</td>\n",
              "      <td>0</td>\n",
              "    </tr>\n",
              "    <tr>\n",
              "      <th>44746</th>\n",
              "      <td>525992</td>\n",
              "      <td>0</td>\n",
              "    </tr>\n",
              "  </tbody>\n",
              "</table>\n",
              "<p>30744 rows × 2 columns</p>\n",
              "</div>"
            ],
            "text/plain": [
              "       customer_id  churn\n",
              "1               30      1\n",
              "3               48      0\n",
              "5               76      0\n",
              "7              109      0\n",
              "8              146      1\n",
              "...            ...    ...\n",
              "44734       525861      0\n",
              "44737       525907      0\n",
              "44738       525910      0\n",
              "44745       525987      0\n",
              "44746       525992      0\n",
              "\n",
              "[30744 rows x 2 columns]"
            ]
          },
          "execution_count": 141,
          "metadata": {},
          "output_type": "execute_result"
        }
      ],
      "source": [
        "df"
      ]
    },
    {
      "cell_type": "markdown",
      "id": "67bb0a2d-5288-4176-a443-24d0d8178762",
      "metadata": {
        "id": "67bb0a2d-5288-4176-a443-24d0d8178762"
      },
      "source": [
        "## read the orders file and filter only the records prior to the reference date"
      ]
    },
    {
      "cell_type": "code",
      "execution_count": null,
      "id": "ccc57b03-f339-4ebd-9aba-a141f06aa484",
      "metadata": {
        "id": "ccc57b03-f339-4ebd-9aba-a141f06aa484",
        "outputId": "0554d184-aeca-4455-99c1-ba72bb67ab87"
      },
      "outputs": [
        {
          "name": "stdout",
          "output_type": "stream",
          "text": [
            "Data minima: 2022-05-01\n",
            "Data massima: 2022-08-14\n"
          ]
        }
      ],
      "source": [
        "df=pd.read_csv('data/tbl_orders.csv')\n",
        "\n",
        "df['purchase_datetime'] = pd.to_datetime(df['purchase_datetime'])\n",
        "\n",
        "\n",
        "df['purchase_datetime'] = df['purchase_datetime'].dt.date\n",
        "\n",
        "\n",
        "# Filtra il dataframe mantenendo solo i record PRECEDENTI o uguali alla reference_date\n",
        "\n",
        "df = df[df['purchase_datetime'] <= reference_date]\n",
        "\n",
        "\n",
        "df = df[df['purchase_datetime'] >= pre_reference_date]\n",
        "\n",
        "min_purchase_date = df[\"purchase_datetime\"].min()\n",
        "max_purchase_date = df[\"purchase_datetime\"].max()\n",
        "\n",
        "print(\"Data minima:\", min_purchase_date)\n",
        "print(\"Data massima:\", max_purchase_date)"
      ]
    },
    {
      "cell_type": "markdown",
      "id": "fd889d31-c90c-4f67-be8d-9b7e5728e60c",
      "metadata": {
        "id": "fd889d31-c90c-4f67-be8d-9b7e5728e60c"
      },
      "source": [
        "## add customer information to the labeled set = create the file lookback_orders.csv"
      ]
    },
    {
      "cell_type": "code",
      "execution_count": null,
      "id": "466ccb6e-1cae-45af-acd3-60425ac9db32",
      "metadata": {
        "id": "466ccb6e-1cae-45af-acd3-60425ac9db32"
      },
      "outputs": [],
      "source": [
        "df2=pd.read_csv('temp_data/first_lookback/labelled.csv')\n",
        "result = df2.merge(df, on='customer_id', how='inner')\n",
        "result.head()\n",
        "result.to_csv('temp_data/first_lookback/lookback_orders.csv',index=False)"
      ]
    },
    {
      "cell_type": "markdown",
      "id": "71a7c988-7d04-41ed-a944-03f8500288e3",
      "metadata": {
        "id": "71a7c988-7d04-41ed-a944-03f8500288e3"
      },
      "source": [
        "## First lookback features engineering\n",
        "**Aggregate variables are calculated for each customer id and saved in separate csv files.**"
      ]
    },
    {
      "cell_type": "code",
      "execution_count": null,
      "id": "af9ce6c9-91da-48d0-8377-5325cca38f6f",
      "metadata": {
        "id": "af9ce6c9-91da-48d0-8377-5325cca38f6f"
      },
      "outputs": [],
      "source": [
        "import os\n",
        "import pandas as pd\n",
        "from lifetimes.utils import summary_data_from_transaction_data\n",
        "\n",
        "\n",
        "def verifica_e_crea_cartella(path):\n",
        "    if not os.path.exists(path):\n",
        "        os.makedirs(path)\n",
        "\n",
        "\n",
        "def carica_df_da_csv(file_path):\n",
        "    df = pd.read_csv(file_path)\n",
        "    return df.replace(np.nan, 0)\n",
        "\n",
        "# Funzione per salvare un DataFrame in un file CSV\n",
        "def salva_df_in_csv(df, file_path):\n",
        "    verifica_e_crea_cartella(os.path.dirname(file_path))\n",
        "    df.to_csv(file_path, index=False)\n",
        "\n",
        "def calcola_acquisti_resti(df):\n",
        "    acquisti_df = df[df['direction'] == 1]\n",
        "    result_acquisti = acquisti_df.groupby('customer_id').size().reset_index(name='numero_prodotti_acquistati_totale')\n",
        "    resti_df = df[df['direction'] == -1]\n",
        "    result_resti = resti_df.groupby('customer_id').size().reset_index(name='numero_prodotti_restituiti_totale')\n",
        "    merged_df = pd.merge(result_acquisti, result_resti, on='customer_id', how='outer')\n",
        "    merged_df.fillna(0, inplace=True)\n",
        "    return merged_df\n",
        "\n",
        "def calcola_ordini_per_categoria(file_path_orders, file_path_products):\n",
        "    df = pd.read_csv(file_path_orders)\n",
        "    df = df[df['direction'] == 1]  # Filtra per acquisti\n",
        "    df2 = pd.read_csv(file_path_products)\n",
        "    merged_df = pd.merge(df, df2, on='product_id', how='left')\n",
        "    merged_df.fillna(\"prodotto non trovato\", inplace=True)\n",
        "    grouped = merged_df.groupby(['customer_id'])\n",
        "    result = grouped.apply(lambda group: pd.Series({\n",
        "        'Num_Rows': len(group),\n",
        "        'Num_Unique_Product_Class': group['product_class'].nunique()\n",
        "    })).reset_index()\n",
        "    result['ordini_per_categoria'] = result['Num_Rows'] / result['Num_Unique_Product_Class']\n",
        "    return result[['customer_id', 'ordini_per_categoria']]\n",
        "\n",
        "def calcola_spesa_e_metriche_RFM(file_path, observation_period_end):\n",
        "    df = pd.read_csv(file_path)\n",
        "    df = df[(df['direction'] == 1) & (df['gross_price'] > 0)]\n",
        "    df['purchase_datetime'] = pd.to_datetime(df['purchase_datetime'])\n",
        "    df_daily = df.groupby(['customer_id', df['purchase_datetime'].dt.date])['gross_price'].sum().reset_index()\n",
        "    df_daily.rename(columns={'gross_price': 'daily_total_revenue'}, inplace=True)\n",
        "    total_spent_per_customer = df_daily.groupby(\"customer_id\")[\"daily_total_revenue\"].sum().reset_index()\n",
        "    total_spent_per_customer.columns = [\"customer_id\", \"total_spent\"]\n",
        "    avg_spent_per_customer = df_daily.groupby(\"customer_id\")[\"daily_total_revenue\"].mean().reset_index()\n",
        "    avg_spent_per_customer.columns = [\"customer_id\", \"avg_daily_spent\"]\n",
        "    df_rfmt = summary_data_from_transaction_data(df_daily, 'customer_id', 'purchase_datetime', 'daily_total_revenue', observation_period_end=observation_period_end)\n",
        "    df_rfmt.reset_index(inplace=True)\n",
        "    df_rfmt.rename(columns={'index': 'customer_id'}, inplace=True)\n",
        "    merged_df = pd.merge(total_spent_per_customer, avg_spent_per_customer, on='customer_id', how='inner')\n",
        "    merged_df = pd.merge(merged_df, df_rfmt, on='customer_id', how='inner')\n",
        "    return merged_df\n",
        "\n",
        "def calcola_numero_categorie_prodotto(df, df2):\n",
        "    merged_df = pd.merge(df, df2, on='product_id', how='left')\n",
        "    merged_df.fillna(\"prodotto non trovato\", inplace=True)\n",
        "    acquisti_grouped = merged_df[merged_df['direction'] == 1].groupby('customer_id')['product_class'].unique()\n",
        "    result_acquisti = acquisti_grouped.reset_index(name='product_classes_acquistate')\n",
        "    result_acquisti['num_categories_acquistate'] = result_acquisti['product_classes_acquistate'].apply(lambda x: len(x))\n",
        "    resti_grouped = merged_df[merged_df['direction'] == -1].groupby('customer_id')['product_class'].unique()\n",
        "    result_resti = resti_grouped.reset_index(name='product_classes_restitute')\n",
        "    result_resti['num_categories_restitute'] = result_resti['product_classes_restitute'].apply(lambda x: len(x))\n",
        "    final_df = pd.merge(result_acquisti, result_resti, on='customer_id', how='outer')\n",
        "    final_df.fillna({\"product_classes_acquistate\": \"\", \"product_classes_restitute\": \"\", \"num_categories_acquistate\": 0, \"num_categories_restitute\": 0}, inplace=True)\n",
        "    return final_df\n",
        "\n",
        "def calcola_return_rate(df):\n",
        "    grouped = df.groupby(['customer_id', 'direction']).size().reset_index(name='count')\n",
        "    pivot_df = grouped.pivot(index='customer_id', columns='direction', values='count').reset_index()\n",
        "    pivot_df.columns.name = None\n",
        "    pivot_df = pivot_df.rename(columns={1: 'prodotti_acquistati', -1: 'prodotti_restituiti'})\n",
        "    pivot_df.fillna(0, inplace=True)\n",
        "    pivot_df['return_rate'] = pivot_df.apply(lambda row:\n",
        "        0 if row['prodotti_acquistati'] == 0 else (row['prodotti_restituiti'] / row['prodotti_acquistati']) * 100, axis=1)\n",
        "    return pivot_df\n",
        "\n",
        "def calcola_spesa_settimanale_media_variazione(df):\n",
        "    df['purchase_datetime'] = pd.to_datetime(df['purchase_datetime'])\n",
        "    df['week'] = df['purchase_datetime'].dt.isocalendar().week\n",
        "    df['year'] = df['purchase_datetime'].dt.isocalendar().year\n",
        "    df_acquisti = df[(df['direction'] == 1) & (df['gross_price'] >= 0)]\n",
        "    spesa_settimanale = df_acquisti.groupby(['customer_id', 'year', 'week'])['gross_price'].sum().reset_index()\n",
        "    spesa_media = spesa_settimanale.groupby('customer_id')['gross_price'].mean().reset_index()\n",
        "    spesa_media = spesa_media.rename(columns={'gross_price': 'spesa_settimanale_media'})\n",
        "    spesa_settimanale = spesa_settimanale.sort_values(by=['customer_id', 'year', 'week'])\n",
        "    spesa_settimanale['variazione_percentuale'] = spesa_settimanale.groupby('customer_id')['gross_price'].pct_change().round(2) * 100\n",
        "    spesa_settimanale['variazione_percentuale'] = spesa_settimanale.groupby('customer_id')['variazione_percentuale'].transform(lambda x: x.fillna(0, limit=1))\n",
        "    variazione_media_spesa = spesa_settimanale.groupby('customer_id')['variazione_percentuale'].mean().reset_index(name='variazione_media_spesa').round(2)\n",
        "    return spesa_media, variazione_media_spesa\n",
        "\n",
        "def calcola_frequenza_media_acquisti_sconto(df):\n",
        "    df['purchase_datetime'] = pd.to_datetime(df['purchase_datetime'])\n",
        "    df['week'] = df['purchase_datetime'].dt.isocalendar().week\n",
        "    df['year'] = df['purchase_datetime'].dt.isocalendar().year\n",
        "    df_acquisti = df[df['direction'] == 1]\n",
        "    frequenza_acquisti = df_acquisti.groupby(['customer_id', 'year', 'week']).size().reset_index(name='num_acquisti_settimanali')\n",
        "    frequenza_media_acquisti = frequenza_acquisti.groupby('customer_id')['num_acquisti_settimanali'].mean().reset_index()\n",
        "    frequenza_media_acquisti = frequenza_media_acquisti.rename(columns={'num_acquisti_settimanali': 'frequenza_media_acquisti_settimanali'}).round(2)\n",
        "    df_acquisti_sconto = df[(df['direction'] == 1) & (df['price_reduction'] > 0)]\n",
        "    frequenza_acquisti_sconto = df_acquisti_sconto.groupby(['customer_id', 'year', 'week']).size().reset_index(name='num_acquisti_sconto_settimanali')\n",
        "    frequenza_media_acquisti_sconto = frequenza_acquisti_sconto.groupby('customer_id')['num_acquisti_sconto_settimanali'].mean().reset_index()\n",
        "    frequenza_media_acquisti_sconto = frequenza_media_acquisti_sconto.rename(columns={'num_acquisti_sconto_settimanali': 'frequenza_media_acquisti_sconto_settimanali'}).round(2)\n",
        "    return frequenza_media_acquisti, frequenza_media_acquisti_sconto\n",
        "\n",
        "def calcola_num_visited_stores(df):\n",
        "    customer_stores = df.groupby(\"customer_id\")[\"store_id\"].unique().reset_index()\n",
        "    customer_stores[\"num_visited_stores\"] = customer_stores[\"store_id\"].apply(len)\n",
        "    return customer_stores"
      ]
    },
    {
      "cell_type": "code",
      "execution_count": null,
      "id": "dcfa8a5d-7c40-444b-8412-8c1b9ab8b816",
      "metadata": {
        "id": "dcfa8a5d-7c40-444b-8412-8c1b9ab8b816"
      },
      "outputs": [],
      "source": [
        "import pandas as pd\n",
        "\n",
        "def estrai_churn(df_orders):\n",
        "    churn_data = df_orders[['customer_id', 'churn']].drop_duplicates()\n",
        "    return churn_data\n",
        "\n",
        "\n",
        "def aggrega_features(file_path_orders, file_path_products, observation_period_end):\n",
        "    # Carica i dati da CSV\n",
        "    df_orders = carica_df_da_csv(file_path_orders)\n",
        "    df_products = carica_df_da_csv(file_path_products)\n",
        "\n",
        "    # Calcola le features\n",
        "    acquisti_resti = calcola_acquisti_resti(df_orders)\n",
        "    ordini_per_categoria = calcola_ordini_per_categoria(file_path_orders, file_path_products)\n",
        "    spesa_e_metriche_RFM = calcola_spesa_e_metriche_RFM(file_path_orders, observation_period_end)\n",
        "    numero_categorie_prodotto = calcola_numero_categorie_prodotto(df_orders, df_products)\n",
        "    return_rate = calcola_return_rate(df_orders)\n",
        "    spesa_media, variazione_media_spesa = calcola_spesa_settimanale_media_variazione(df_orders)\n",
        "    frequenza_media_acquisti, frequenza_media_acquisti_sconto = calcola_frequenza_media_acquisti_sconto(df_orders)\n",
        "    num_visited_stores = calcola_num_visited_stores(df_orders)\n",
        "    #cltv=calculate_cltv(df_orders)\n",
        "\n",
        "    # Unisci tutte le features utilizzando outer join e sostituisci i valori NaN con 0\n",
        "    features_df = acquisti_resti.merge(ordini_per_categoria, on='customer_id', how='outer')\n",
        "    features_df.fillna(0, inplace=True)  # Sostituisci NaN con 0\n",
        "    features_df = features_df.merge(spesa_e_metriche_RFM, on='customer_id', how='outer')\n",
        "    features_df.fillna(0, inplace=True)  # Sostituisci NaN con 0\n",
        "    features_df = features_df.merge(numero_categorie_prodotto, on='customer_id', how='outer')\n",
        "    features_df.fillna(0, inplace=True)  # Sostituisci NaN con 0\n",
        "    features_df = features_df.merge(return_rate, on='customer_id', how='outer')\n",
        "    features_df.fillna(0, inplace=True)  # Sostituisci NaN con 0\n",
        "    features_df = features_df.merge(spesa_media, on='customer_id', how='outer')\n",
        "    features_df.fillna(0, inplace=True)  # Sostituisci NaN con 0\n",
        "    features_df = features_df.merge(variazione_media_spesa, on='customer_id', how='outer')\n",
        "    features_df.fillna(0, inplace=True)  # Sostituisci NaN con 0\n",
        "    features_df = features_df.merge(frequenza_media_acquisti, on='customer_id', how='outer')\n",
        "    features_df.fillna(0, inplace=True)  # Sostituisci NaN con 0\n",
        "    features_df = features_df.merge(frequenza_media_acquisti_sconto, on='customer_id', how='outer')\n",
        "    features_df.fillna(0, inplace=True)  # Sostituisci NaN con 0\n",
        "    features_df = features_df.merge(num_visited_stores, on='customer_id', how='outer')\n",
        "    features_df.fillna(0, inplace=True)  # Sostituisci NaN con 0\n",
        "\n",
        "\n",
        "    churn_data = estrai_churn(df_orders)\n",
        "    features_df = features_df.merge(churn_data, on='customer_id', how='outer')\n",
        "    features_df.fillna(0, inplace=True)\n",
        "\n",
        "\n",
        "    return features_df\n",
        "\n",
        "\n",
        "file_path_orders = 'temp_data/first_lookback/lookback_orders.csv'\n",
        "file_path_products = 'data/tbl_products.csv'\n",
        "observation_period_end = '2022-07-30'\n",
        "features_df_t1 = aggrega_features(file_path_orders, file_path_products, observation_period_end)\n",
        "features_df_t1['reference_date']=reference_date\n",
        "\n",
        "features_df_t1['CLTV'] = ((features_df_t1['avg_daily_spent']) * (features_df_t1['frequency'] + 1)) * average_T\n",
        "\n",
        "features_df_t1.to_csv('temp_data/first_lookback/first_lookback_with_features.csv',index=False)"
      ]
    },
    {
      "cell_type": "code",
      "execution_count": null,
      "id": "24e65af3-198a-487e-a84b-3fe8a757b5df",
      "metadata": {
        "id": "24e65af3-198a-487e-a84b-3fe8a757b5df",
        "outputId": "c4a4775b-b489-4ac0-fbe0-a7d9359d0b87"
      },
      "outputs": [
        {
          "data": {
            "text/plain": [
              "Index(['customer_id', 'numero_prodotti_acquistati_totale',\n",
              "       'numero_prodotti_restituiti_totale', 'ordini_per_categoria',\n",
              "       'total_spent', 'avg_daily_spent', 'frequency', 'recency', 'T',\n",
              "       'monetary_value', 'product_classes_acquistate',\n",
              "       'num_categories_acquistate', 'product_classes_restitute',\n",
              "       'num_categories_restitute', 'prodotti_restituiti',\n",
              "       'prodotti_acquistati', 'return_rate', 'spesa_settimanale_media',\n",
              "       'variazione_media_spesa', 'frequenza_media_acquisti_settimanali',\n",
              "       'frequenza_media_acquisti_sconto_settimanali', 'store_id',\n",
              "       'num_visited_stores', 'churn', 'reference_date', 'CLTV'],\n",
              "      dtype='object')"
            ]
          },
          "execution_count": 146,
          "metadata": {},
          "output_type": "execute_result"
        }
      ],
      "source": [
        "features_df_t1.columns"
      ]
    },
    {
      "cell_type": "code",
      "execution_count": null,
      "id": "01f162c2-123a-487d-bad1-5e81c0c5d71e",
      "metadata": {
        "id": "01f162c2-123a-487d-bad1-5e81c0c5d71e",
        "outputId": "0231bf79-914f-4623-9c19-7b7a2984bdff"
      },
      "outputs": [
        {
          "data": {
            "text/html": [
              "<div>\n",
              "<style scoped>\n",
              "    .dataframe tbody tr th:only-of-type {\n",
              "        vertical-align: middle;\n",
              "    }\n",
              "\n",
              "    .dataframe tbody tr th {\n",
              "        vertical-align: top;\n",
              "    }\n",
              "\n",
              "    .dataframe thead th {\n",
              "        text-align: right;\n",
              "    }\n",
              "</style>\n",
              "<table border=\"1\" class=\"dataframe\">\n",
              "  <thead>\n",
              "    <tr style=\"text-align: right;\">\n",
              "      <th></th>\n",
              "      <th>customer_id</th>\n",
              "      <th>numero_prodotti_acquistati_totale</th>\n",
              "      <th>numero_prodotti_restituiti_totale</th>\n",
              "      <th>ordini_per_categoria</th>\n",
              "      <th>total_spent</th>\n",
              "      <th>avg_daily_spent</th>\n",
              "      <th>frequency</th>\n",
              "      <th>recency</th>\n",
              "      <th>T</th>\n",
              "      <th>monetary_value</th>\n",
              "      <th>...</th>\n",
              "      <th>return_rate</th>\n",
              "      <th>spesa_settimanale_media</th>\n",
              "      <th>variazione_media_spesa</th>\n",
              "      <th>frequenza_media_acquisti_settimanali</th>\n",
              "      <th>frequenza_media_acquisti_sconto_settimanali</th>\n",
              "      <th>store_id</th>\n",
              "      <th>num_visited_stores</th>\n",
              "      <th>churn</th>\n",
              "      <th>reference_date</th>\n",
              "      <th>CLTV</th>\n",
              "    </tr>\n",
              "  </thead>\n",
              "  <tbody>\n",
              "    <tr>\n",
              "      <th>0</th>\n",
              "      <td>30</td>\n",
              "      <td>12</td>\n",
              "      <td>0.0</td>\n",
              "      <td>4.0</td>\n",
              "      <td>10179.56</td>\n",
              "      <td>5089.78</td>\n",
              "      <td>1.0</td>\n",
              "      <td>42.0</td>\n",
              "      <td>49.0</td>\n",
              "      <td>10176.46</td>\n",
              "      <td>...</td>\n",
              "      <td>0.0</td>\n",
              "      <td>5089.78</td>\n",
              "      <td>164086.5</td>\n",
              "      <td>6.0</td>\n",
              "      <td>6.0</td>\n",
              "      <td>[49]</td>\n",
              "      <td>1</td>\n",
              "      <td>1</td>\n",
              "      <td>2022-08-14</td>\n",
              "      <td>804753.682021</td>\n",
              "    </tr>\n",
              "    <tr>\n",
              "      <th>1</th>\n",
              "      <td>48</td>\n",
              "      <td>3</td>\n",
              "      <td>0.0</td>\n",
              "      <td>3.0</td>\n",
              "      <td>0.00</td>\n",
              "      <td>0.00</td>\n",
              "      <td>0.0</td>\n",
              "      <td>0.0</td>\n",
              "      <td>0.0</td>\n",
              "      <td>0.00</td>\n",
              "      <td>...</td>\n",
              "      <td>0.0</td>\n",
              "      <td>232.50</td>\n",
              "      <td>0.0</td>\n",
              "      <td>3.0</td>\n",
              "      <td>2.0</td>\n",
              "      <td>[49]</td>\n",
              "      <td>1</td>\n",
              "      <td>0</td>\n",
              "      <td>2022-08-14</td>\n",
              "      <td>0.000000</td>\n",
              "    </tr>\n",
              "    <tr>\n",
              "      <th>2</th>\n",
              "      <td>76</td>\n",
              "      <td>1</td>\n",
              "      <td>0.0</td>\n",
              "      <td>1.0</td>\n",
              "      <td>9.85</td>\n",
              "      <td>9.85</td>\n",
              "      <td>0.0</td>\n",
              "      <td>0.0</td>\n",
              "      <td>74.0</td>\n",
              "      <td>0.00</td>\n",
              "      <td>...</td>\n",
              "      <td>0.0</td>\n",
              "      <td>9.85</td>\n",
              "      <td>0.0</td>\n",
              "      <td>1.0</td>\n",
              "      <td>0.0</td>\n",
              "      <td>[9]</td>\n",
              "      <td>1</td>\n",
              "      <td>0</td>\n",
              "      <td>2022-08-14</td>\n",
              "      <td>778.700039</td>\n",
              "    </tr>\n",
              "    <tr>\n",
              "      <th>3</th>\n",
              "      <td>109</td>\n",
              "      <td>1</td>\n",
              "      <td>0.0</td>\n",
              "      <td>1.0</td>\n",
              "      <td>0.00</td>\n",
              "      <td>0.00</td>\n",
              "      <td>0.0</td>\n",
              "      <td>0.0</td>\n",
              "      <td>0.0</td>\n",
              "      <td>0.00</td>\n",
              "      <td>...</td>\n",
              "      <td>0.0</td>\n",
              "      <td>2.60</td>\n",
              "      <td>0.0</td>\n",
              "      <td>1.0</td>\n",
              "      <td>0.0</td>\n",
              "      <td>[9]</td>\n",
              "      <td>1</td>\n",
              "      <td>0</td>\n",
              "      <td>2022-08-14</td>\n",
              "      <td>0.000000</td>\n",
              "    </tr>\n",
              "    <tr>\n",
              "      <th>4</th>\n",
              "      <td>146</td>\n",
              "      <td>5</td>\n",
              "      <td>0.0</td>\n",
              "      <td>2.5</td>\n",
              "      <td>329.60</td>\n",
              "      <td>164.80</td>\n",
              "      <td>1.0</td>\n",
              "      <td>32.0</td>\n",
              "      <td>46.0</td>\n",
              "      <td>150.00</td>\n",
              "      <td>...</td>\n",
              "      <td>0.0</td>\n",
              "      <td>164.80</td>\n",
              "      <td>-8.0</td>\n",
              "      <td>2.5</td>\n",
              "      <td>2.5</td>\n",
              "      <td>[9]</td>\n",
              "      <td>1</td>\n",
              "      <td>1</td>\n",
              "      <td>2022-08-14</td>\n",
              "      <td>26056.805362</td>\n",
              "    </tr>\n",
              "  </tbody>\n",
              "</table>\n",
              "<p>5 rows × 26 columns</p>\n",
              "</div>"
            ],
            "text/plain": [
              "   customer_id  numero_prodotti_acquistati_totale  \\\n",
              "0           30                                 12   \n",
              "1           48                                  3   \n",
              "2           76                                  1   \n",
              "3          109                                  1   \n",
              "4          146                                  5   \n",
              "\n",
              "   numero_prodotti_restituiti_totale  ordini_per_categoria  total_spent  \\\n",
              "0                                0.0                   4.0     10179.56   \n",
              "1                                0.0                   3.0         0.00   \n",
              "2                                0.0                   1.0         9.85   \n",
              "3                                0.0                   1.0         0.00   \n",
              "4                                0.0                   2.5       329.60   \n",
              "\n",
              "   avg_daily_spent  frequency  recency     T  monetary_value  ... return_rate  \\\n",
              "0          5089.78        1.0     42.0  49.0        10176.46  ...         0.0   \n",
              "1             0.00        0.0      0.0   0.0            0.00  ...         0.0   \n",
              "2             9.85        0.0      0.0  74.0            0.00  ...         0.0   \n",
              "3             0.00        0.0      0.0   0.0            0.00  ...         0.0   \n",
              "4           164.80        1.0     32.0  46.0          150.00  ...         0.0   \n",
              "\n",
              "   spesa_settimanale_media variazione_media_spesa  \\\n",
              "0                  5089.78               164086.5   \n",
              "1                   232.50                    0.0   \n",
              "2                     9.85                    0.0   \n",
              "3                     2.60                    0.0   \n",
              "4                   164.80                   -8.0   \n",
              "\n",
              "   frequenza_media_acquisti_settimanali  \\\n",
              "0                                   6.0   \n",
              "1                                   3.0   \n",
              "2                                   1.0   \n",
              "3                                   1.0   \n",
              "4                                   2.5   \n",
              "\n",
              "   frequenza_media_acquisti_sconto_settimanali  store_id  num_visited_stores  \\\n",
              "0                                          6.0      [49]                   1   \n",
              "1                                          2.0      [49]                   1   \n",
              "2                                          0.0       [9]                   1   \n",
              "3                                          0.0       [9]                   1   \n",
              "4                                          2.5       [9]                   1   \n",
              "\n",
              "   churn  reference_date           CLTV  \n",
              "0      1      2022-08-14  804753.682021  \n",
              "1      0      2022-08-14       0.000000  \n",
              "2      0      2022-08-14     778.700039  \n",
              "3      0      2022-08-14       0.000000  \n",
              "4      1      2022-08-14   26056.805362  \n",
              "\n",
              "[5 rows x 26 columns]"
            ]
          },
          "execution_count": 147,
          "metadata": {},
          "output_type": "execute_result"
        }
      ],
      "source": [
        "features_df_t1.head()"
      ]
    },
    {
      "cell_type": "markdown",
      "id": "14d9977c-5ade-42be-ac63-ac352236ee42",
      "metadata": {
        "id": "14d9977c-5ade-42be-ac63-ac352236ee42"
      },
      "source": [
        "# Define the second lookback\n",
        "**I use a second reference date 90 days from the first reference date**"
      ]
    },
    {
      "cell_type": "code",
      "execution_count": null,
      "id": "1b261b4c-5e65-47b0-b1ab-aae11902bea1",
      "metadata": {
        "id": "1b261b4c-5e65-47b0-b1ab-aae11902bea1",
        "outputId": "6c4caa98-a022-44c9-bd5b-bd162119bd6c"
      },
      "outputs": [
        {
          "name": "stdout",
          "output_type": "stream",
          "text": [
            "The second reference_date is: 2022-08-14\n"
          ]
        }
      ],
      "source": [
        "import pandas as pd\n",
        "\n",
        "df = pd.read_csv('data/tbl_orders.csv')\n",
        "\n",
        "df['purchase_datetime'] = pd.to_datetime(df['purchase_datetime'])\n",
        "\n",
        "df['purchase_date'] = df['purchase_datetime'].dt.date\n",
        "\n",
        "min_date = df['purchase_date'].min()\n",
        "\n",
        "reference_date = min_date + pd.Timedelta(days=105)\n",
        "\n",
        "print(\"The second reference_date is:\", reference_date)\n"
      ]
    },
    {
      "cell_type": "code",
      "execution_count": null,
      "id": "a65e5fbd-75b1-42d2-a6c9-21adcff981cb",
      "metadata": {
        "id": "a65e5fbd-75b1-42d2-a6c9-21adcff981cb",
        "outputId": "75359c24-b54b-455b-d670-e75c84e4a09f"
      },
      "outputs": [
        {
          "data": {
            "text/plain": [
              "datetime.date(2022, 8, 14)"
            ]
          },
          "execution_count": 149,
          "metadata": {},
          "output_type": "execute_result"
        }
      ],
      "source": [
        "reference_date"
      ]
    },
    {
      "cell_type": "code",
      "execution_count": null,
      "id": "10c8b9f4-af29-4756-b536-a0d8bd1497d6",
      "metadata": {
        "id": "10c8b9f4-af29-4756-b536-a0d8bd1497d6"
      },
      "outputs": [],
      "source": [
        "df['purchase_datetime'] = pd.to_datetime(df['purchase_datetime']).dt.date\n",
        "\n",
        "grouped = df.groupby('customer_id')['purchase_datetime'].agg(list).reset_index()\n",
        "\n",
        "grouped.rename(columns={'purchase_datetime': 'purchase_date_list'}, inplace=True)\n",
        "\n",
        "new_df = pd.DataFrame(grouped)\n",
        "\n",
        "def clean_and_sort(dates_list):\n",
        "    return sorted(list(set(dates_list)))\n",
        "\n",
        "new_df['purchase_date_list'] = new_df['purchase_date_list'].apply(clean_and_sort)"
      ]
    },
    {
      "cell_type": "code",
      "execution_count": null,
      "id": "6103fdab-064a-4468-a416-b0fff978a33b",
      "metadata": {
        "id": "6103fdab-064a-4468-a416-b0fff978a33b"
      },
      "outputs": [],
      "source": []
    },
    {
      "cell_type": "code",
      "execution_count": null,
      "id": "84dd0eaa-c800-458c-9ad8-e0f0aab8bfc4",
      "metadata": {
        "id": "84dd0eaa-c800-458c-9ad8-e0f0aab8bfc4"
      },
      "outputs": [],
      "source": [
        "def filter_dates_greater(date_list):\n",
        "    return [date for date in date_list if date >= reference_date]\n",
        "\n",
        "def filter_dates_less(date_list):\n",
        "    return [date for date in date_list if date <= reference_date]\n",
        "\n",
        "new_df['filtered_dates_greater'] = new_df['purchase_date_list'].apply(filter_dates_greater)\n",
        "new_df['filtered_dates_less'] = new_df['purchase_date_list'].apply(filter_dates_less)"
      ]
    },
    {
      "cell_type": "code",
      "execution_count": null,
      "id": "e3232283-527d-44df-b994-755de56f8238",
      "metadata": {
        "id": "e3232283-527d-44df-b994-755de56f8238",
        "outputId": "254e5708-bbbe-4924-fecd-0226392ada06"
      },
      "outputs": [
        {
          "data": {
            "text/html": [
              "<div>\n",
              "<style scoped>\n",
              "    .dataframe tbody tr th:only-of-type {\n",
              "        vertical-align: middle;\n",
              "    }\n",
              "\n",
              "    .dataframe tbody tr th {\n",
              "        vertical-align: top;\n",
              "    }\n",
              "\n",
              "    .dataframe thead th {\n",
              "        text-align: right;\n",
              "    }\n",
              "</style>\n",
              "<table border=\"1\" class=\"dataframe\">\n",
              "  <thead>\n",
              "    <tr style=\"text-align: right;\">\n",
              "      <th></th>\n",
              "      <th>customer_id</th>\n",
              "      <th>purchase_date_list</th>\n",
              "      <th>filtered_dates_greater</th>\n",
              "      <th>filtered_dates_less</th>\n",
              "    </tr>\n",
              "  </thead>\n",
              "  <tbody>\n",
              "    <tr>\n",
              "      <th>0</th>\n",
              "      <td>23</td>\n",
              "      <td>[2022-10-04, 2022-10-31, 2022-11-17, 2022-11-2...</td>\n",
              "      <td>[2022-10-04, 2022-10-31, 2022-11-17, 2022-11-2...</td>\n",
              "      <td>[]</td>\n",
              "    </tr>\n",
              "    <tr>\n",
              "      <th>1</th>\n",
              "      <td>30</td>\n",
              "      <td>[2022-06-11, 2022-07-23]</td>\n",
              "      <td>[]</td>\n",
              "      <td>[2022-06-11, 2022-07-23]</td>\n",
              "    </tr>\n",
              "    <tr>\n",
              "      <th>2</th>\n",
              "      <td>32</td>\n",
              "      <td>[2023-03-18, 2023-04-02]</td>\n",
              "      <td>[2023-03-18, 2023-04-02]</td>\n",
              "      <td>[]</td>\n",
              "    </tr>\n",
              "    <tr>\n",
              "      <th>3</th>\n",
              "      <td>48</td>\n",
              "      <td>[2022-08-11, 2022-11-06, 2022-11-14, 2022-11-1...</td>\n",
              "      <td>[2022-11-06, 2022-11-14, 2022-11-15, 2022-12-2...</td>\n",
              "      <td>[2022-08-11]</td>\n",
              "    </tr>\n",
              "    <tr>\n",
              "      <th>4</th>\n",
              "      <td>50</td>\n",
              "      <td>[2023-01-18, 2023-02-19]</td>\n",
              "      <td>[2023-01-18, 2023-02-19]</td>\n",
              "      <td>[]</td>\n",
              "    </tr>\n",
              "    <tr>\n",
              "      <th>...</th>\n",
              "      <td>...</td>\n",
              "      <td>...</td>\n",
              "      <td>...</td>\n",
              "      <td>...</td>\n",
              "    </tr>\n",
              "    <tr>\n",
              "      <th>104129</th>\n",
              "      <td>934484</td>\n",
              "      <td>[2023-04-30]</td>\n",
              "      <td>[2023-04-30]</td>\n",
              "      <td>[]</td>\n",
              "    </tr>\n",
              "    <tr>\n",
              "      <th>104130</th>\n",
              "      <td>934581</td>\n",
              "      <td>[2023-04-30]</td>\n",
              "      <td>[2023-04-30]</td>\n",
              "      <td>[]</td>\n",
              "    </tr>\n",
              "    <tr>\n",
              "      <th>104131</th>\n",
              "      <td>934620</td>\n",
              "      <td>[2023-04-30]</td>\n",
              "      <td>[2023-04-30]</td>\n",
              "      <td>[]</td>\n",
              "    </tr>\n",
              "    <tr>\n",
              "      <th>104132</th>\n",
              "      <td>934660</td>\n",
              "      <td>[2023-04-30]</td>\n",
              "      <td>[2023-04-30]</td>\n",
              "      <td>[]</td>\n",
              "    </tr>\n",
              "    <tr>\n",
              "      <th>104133</th>\n",
              "      <td>934716</td>\n",
              "      <td>[2023-04-30]</td>\n",
              "      <td>[2023-04-30]</td>\n",
              "      <td>[]</td>\n",
              "    </tr>\n",
              "  </tbody>\n",
              "</table>\n",
              "<p>104134 rows × 4 columns</p>\n",
              "</div>"
            ],
            "text/plain": [
              "        customer_id                                 purchase_date_list  \\\n",
              "0                23  [2022-10-04, 2022-10-31, 2022-11-17, 2022-11-2...   \n",
              "1                30                           [2022-06-11, 2022-07-23]   \n",
              "2                32                           [2023-03-18, 2023-04-02]   \n",
              "3                48  [2022-08-11, 2022-11-06, 2022-11-14, 2022-11-1...   \n",
              "4                50                           [2023-01-18, 2023-02-19]   \n",
              "...             ...                                                ...   \n",
              "104129       934484                                       [2023-04-30]   \n",
              "104130       934581                                       [2023-04-30]   \n",
              "104131       934620                                       [2023-04-30]   \n",
              "104132       934660                                       [2023-04-30]   \n",
              "104133       934716                                       [2023-04-30]   \n",
              "\n",
              "                                   filtered_dates_greater  \\\n",
              "0       [2022-10-04, 2022-10-31, 2022-11-17, 2022-11-2...   \n",
              "1                                                      []   \n",
              "2                                [2023-03-18, 2023-04-02]   \n",
              "3       [2022-11-06, 2022-11-14, 2022-11-15, 2022-12-2...   \n",
              "4                                [2023-01-18, 2023-02-19]   \n",
              "...                                                   ...   \n",
              "104129                                       [2023-04-30]   \n",
              "104130                                       [2023-04-30]   \n",
              "104131                                       [2023-04-30]   \n",
              "104132                                       [2023-04-30]   \n",
              "104133                                       [2023-04-30]   \n",
              "\n",
              "             filtered_dates_less  \n",
              "0                             []  \n",
              "1       [2022-06-11, 2022-07-23]  \n",
              "2                             []  \n",
              "3                   [2022-08-11]  \n",
              "4                             []  \n",
              "...                          ...  \n",
              "104129                        []  \n",
              "104130                        []  \n",
              "104131                        []  \n",
              "104132                        []  \n",
              "104133                        []  \n",
              "\n",
              "[104134 rows x 4 columns]"
            ]
          },
          "execution_count": 152,
          "metadata": {},
          "output_type": "execute_result"
        }
      ],
      "source": [
        "new_df"
      ]
    },
    {
      "cell_type": "code",
      "execution_count": null,
      "id": "480eb702-3e7c-4805-93df-0ec6b8684fb2",
      "metadata": {
        "id": "480eb702-3e7c-4805-93df-0ec6b8684fb2"
      },
      "outputs": [],
      "source": [
        "new_df = new_df[new_df['filtered_dates_less'].apply(len) > 0]\n",
        "\n",
        "pre_reference_date = reference_date - timedelta(days=percentile_90)\n",
        "\n",
        "def filter_dates_pre_and_reference(date_list):\n",
        "    return [date for date in date_list if pre_reference_date <= date <= reference_date]\n",
        "\n",
        "new_df['filtered_dates_pre_and_reference'] = new_df['purchase_date_list'].apply(filter_dates_pre_and_reference)\n",
        "\n",
        "new_df = new_df[new_df['filtered_dates_pre_and_reference'].apply(len) > 0]\n",
        "\n",
        "df = new_df.copy()"
      ]
    },
    {
      "cell_type": "code",
      "execution_count": null,
      "id": "cb1a8f7d-2db5-4ccb-af0e-68be2857e8bb",
      "metadata": {
        "id": "cb1a8f7d-2db5-4ccb-af0e-68be2857e8bb",
        "outputId": "3ee81e63-91c7-416c-f184-2acf2c969ec3"
      },
      "outputs": [
        {
          "data": {
            "text/html": [
              "<div>\n",
              "<style scoped>\n",
              "    .dataframe tbody tr th:only-of-type {\n",
              "        vertical-align: middle;\n",
              "    }\n",
              "\n",
              "    .dataframe tbody tr th {\n",
              "        vertical-align: top;\n",
              "    }\n",
              "\n",
              "    .dataframe thead th {\n",
              "        text-align: right;\n",
              "    }\n",
              "</style>\n",
              "<table border=\"1\" class=\"dataframe\">\n",
              "  <thead>\n",
              "    <tr style=\"text-align: right;\">\n",
              "      <th></th>\n",
              "      <th>customer_id</th>\n",
              "      <th>purchase_date_list</th>\n",
              "      <th>filtered_dates_greater</th>\n",
              "      <th>filtered_dates_less</th>\n",
              "      <th>filtered_dates_pre_and_reference</th>\n",
              "    </tr>\n",
              "  </thead>\n",
              "  <tbody>\n",
              "    <tr>\n",
              "      <th>1</th>\n",
              "      <td>30</td>\n",
              "      <td>[2022-06-11, 2022-07-23]</td>\n",
              "      <td>[]</td>\n",
              "      <td>[2022-06-11, 2022-07-23]</td>\n",
              "      <td>[2022-06-11, 2022-07-23]</td>\n",
              "    </tr>\n",
              "    <tr>\n",
              "      <th>3</th>\n",
              "      <td>48</td>\n",
              "      <td>[2022-08-11, 2022-11-06, 2022-11-14, 2022-11-1...</td>\n",
              "      <td>[2022-11-06, 2022-11-14, 2022-11-15, 2022-12-2...</td>\n",
              "      <td>[2022-08-11]</td>\n",
              "      <td>[2022-08-11]</td>\n",
              "    </tr>\n",
              "    <tr>\n",
              "      <th>6</th>\n",
              "      <td>76</td>\n",
              "      <td>[2022-05-17, 2023-03-08]</td>\n",
              "      <td>[2023-03-08]</td>\n",
              "      <td>[2022-05-17]</td>\n",
              "      <td>[2022-05-17]</td>\n",
              "    </tr>\n",
              "    <tr>\n",
              "      <th>7</th>\n",
              "      <td>86</td>\n",
              "      <td>[2022-05-04]</td>\n",
              "      <td>[]</td>\n",
              "      <td>[2022-05-04]</td>\n",
              "      <td>[2022-05-04]</td>\n",
              "    </tr>\n",
              "    <tr>\n",
              "      <th>10</th>\n",
              "      <td>109</td>\n",
              "      <td>[2022-08-02, 2022-08-23]</td>\n",
              "      <td>[2022-08-23]</td>\n",
              "      <td>[2022-08-02]</td>\n",
              "      <td>[2022-08-02]</td>\n",
              "    </tr>\n",
              "    <tr>\n",
              "      <th>...</th>\n",
              "      <td>...</td>\n",
              "      <td>...</td>\n",
              "      <td>...</td>\n",
              "      <td>...</td>\n",
              "      <td>...</td>\n",
              "    </tr>\n",
              "    <tr>\n",
              "      <th>63262</th>\n",
              "      <td>525861</td>\n",
              "      <td>[2022-08-14, 2022-12-02]</td>\n",
              "      <td>[2022-08-14, 2022-12-02]</td>\n",
              "      <td>[2022-08-14]</td>\n",
              "      <td>[2022-08-14]</td>\n",
              "    </tr>\n",
              "    <tr>\n",
              "      <th>63270</th>\n",
              "      <td>525907</td>\n",
              "      <td>[2022-08-14, 2022-09-20, 2022-09-25, 2022-10-0...</td>\n",
              "      <td>[2022-08-14, 2022-09-20, 2022-09-25, 2022-10-0...</td>\n",
              "      <td>[2022-08-14]</td>\n",
              "      <td>[2022-08-14]</td>\n",
              "    </tr>\n",
              "    <tr>\n",
              "      <th>63271</th>\n",
              "      <td>525910</td>\n",
              "      <td>[2022-08-14, 2023-01-02]</td>\n",
              "      <td>[2022-08-14, 2023-01-02]</td>\n",
              "      <td>[2022-08-14]</td>\n",
              "      <td>[2022-08-14]</td>\n",
              "    </tr>\n",
              "    <tr>\n",
              "      <th>63281</th>\n",
              "      <td>525987</td>\n",
              "      <td>[2022-08-14, 2022-09-11, 2022-09-16]</td>\n",
              "      <td>[2022-08-14, 2022-09-11, 2022-09-16]</td>\n",
              "      <td>[2022-08-14]</td>\n",
              "      <td>[2022-08-14]</td>\n",
              "    </tr>\n",
              "    <tr>\n",
              "      <th>63282</th>\n",
              "      <td>525992</td>\n",
              "      <td>[2022-08-14, 2022-11-23, 2022-11-24, 2023-01-0...</td>\n",
              "      <td>[2022-08-14, 2022-11-23, 2022-11-24, 2023-01-0...</td>\n",
              "      <td>[2022-08-14]</td>\n",
              "      <td>[2022-08-14]</td>\n",
              "    </tr>\n",
              "  </tbody>\n",
              "</table>\n",
              "<p>39702 rows × 5 columns</p>\n",
              "</div>"
            ],
            "text/plain": [
              "       customer_id                                 purchase_date_list  \\\n",
              "1               30                           [2022-06-11, 2022-07-23]   \n",
              "3               48  [2022-08-11, 2022-11-06, 2022-11-14, 2022-11-1...   \n",
              "6               76                           [2022-05-17, 2023-03-08]   \n",
              "7               86                                       [2022-05-04]   \n",
              "10             109                           [2022-08-02, 2022-08-23]   \n",
              "...            ...                                                ...   \n",
              "63262       525861                           [2022-08-14, 2022-12-02]   \n",
              "63270       525907  [2022-08-14, 2022-09-20, 2022-09-25, 2022-10-0...   \n",
              "63271       525910                           [2022-08-14, 2023-01-02]   \n",
              "63281       525987               [2022-08-14, 2022-09-11, 2022-09-16]   \n",
              "63282       525992  [2022-08-14, 2022-11-23, 2022-11-24, 2023-01-0...   \n",
              "\n",
              "                                  filtered_dates_greater  \\\n",
              "1                                                     []   \n",
              "3      [2022-11-06, 2022-11-14, 2022-11-15, 2022-12-2...   \n",
              "6                                           [2023-03-08]   \n",
              "7                                                     []   \n",
              "10                                          [2022-08-23]   \n",
              "...                                                  ...   \n",
              "63262                           [2022-08-14, 2022-12-02]   \n",
              "63270  [2022-08-14, 2022-09-20, 2022-09-25, 2022-10-0...   \n",
              "63271                           [2022-08-14, 2023-01-02]   \n",
              "63281               [2022-08-14, 2022-09-11, 2022-09-16]   \n",
              "63282  [2022-08-14, 2022-11-23, 2022-11-24, 2023-01-0...   \n",
              "\n",
              "            filtered_dates_less filtered_dates_pre_and_reference  \n",
              "1      [2022-06-11, 2022-07-23]         [2022-06-11, 2022-07-23]  \n",
              "3                  [2022-08-11]                     [2022-08-11]  \n",
              "6                  [2022-05-17]                     [2022-05-17]  \n",
              "7                  [2022-05-04]                     [2022-05-04]  \n",
              "10                 [2022-08-02]                     [2022-08-02]  \n",
              "...                         ...                              ...  \n",
              "63262              [2022-08-14]                     [2022-08-14]  \n",
              "63270              [2022-08-14]                     [2022-08-14]  \n",
              "63271              [2022-08-14]                     [2022-08-14]  \n",
              "63281              [2022-08-14]                     [2022-08-14]  \n",
              "63282              [2022-08-14]                     [2022-08-14]  \n",
              "\n",
              "[39702 rows x 5 columns]"
            ]
          },
          "execution_count": 154,
          "metadata": {},
          "output_type": "execute_result"
        }
      ],
      "source": [
        "df"
      ]
    },
    {
      "cell_type": "markdown",
      "id": "a5fff9c4-9800-4a18-9254-1705efa011be",
      "metadata": {
        "id": "a5fff9c4-9800-4a18-9254-1705efa011be"
      },
      "source": [
        "**CHURN RATE OF THE SECOND LOOKBACK**"
      ]
    },
    {
      "cell_type": "code",
      "execution_count": null,
      "id": "786e3550-7654-4d3f-adcb-4fa9ee1adb9e",
      "metadata": {
        "id": "786e3550-7654-4d3f-adcb-4fa9ee1adb9e",
        "outputId": "be98b016-4cb5-4fdf-ada2-d00fc1de4226"
      },
      "outputs": [
        {
          "name": "stdout",
          "output_type": "stream",
          "text": [
            "Number of Churners: 15010\n",
            "Number of Non-Churners: 24692\n",
            "Churn Rate: 0.3780665961412523\n"
          ]
        }
      ],
      "source": [
        "def calculate_churn(filtered_dates_greater_list):\n",
        "    return int(len(filtered_dates_greater_list) == 0)\n",
        "\n",
        "df['churn'] = df['filtered_dates_greater'].apply(calculate_churn)\n",
        "\n",
        "total_rows = len(df)\n",
        "churn_rows = df['churn'].sum()\n",
        "churn_rate = churn_rows / total_rows\n",
        "\n",
        "churner_count = (df['churn'] == 1).sum()\n",
        "non_churner_count = (df['churn'] == 0).sum()\n",
        "\n",
        "print(\"Number of Churners:\", churner_count)\n",
        "print(\"Number of Non-Churners:\", non_churner_count)\n",
        "\n",
        "print(\"Churn Rate:\", churn_rate)"
      ]
    },
    {
      "cell_type": "code",
      "execution_count": null,
      "id": "fca009b7-bce3-4ecf-aee9-ada42df65112",
      "metadata": {
        "id": "fca009b7-bce3-4ecf-aee9-ada42df65112",
        "outputId": "de8261d7-9481-4f44-8cdd-db18dd401fb9"
      },
      "outputs": [
        {
          "data": {
            "text/html": [
              "<div>\n",
              "<style scoped>\n",
              "    .dataframe tbody tr th:only-of-type {\n",
              "        vertical-align: middle;\n",
              "    }\n",
              "\n",
              "    .dataframe tbody tr th {\n",
              "        vertical-align: top;\n",
              "    }\n",
              "\n",
              "    .dataframe thead th {\n",
              "        text-align: right;\n",
              "    }\n",
              "</style>\n",
              "<table border=\"1\" class=\"dataframe\">\n",
              "  <thead>\n",
              "    <tr style=\"text-align: right;\">\n",
              "      <th></th>\n",
              "      <th>customer_id</th>\n",
              "      <th>purchase_date_list</th>\n",
              "      <th>filtered_dates_greater</th>\n",
              "      <th>filtered_dates_less</th>\n",
              "      <th>filtered_dates_pre_and_reference</th>\n",
              "      <th>churn</th>\n",
              "    </tr>\n",
              "  </thead>\n",
              "  <tbody>\n",
              "    <tr>\n",
              "      <th>1</th>\n",
              "      <td>30</td>\n",
              "      <td>[2022-06-11, 2022-07-23]</td>\n",
              "      <td>[]</td>\n",
              "      <td>[2022-06-11, 2022-07-23]</td>\n",
              "      <td>[2022-06-11, 2022-07-23]</td>\n",
              "      <td>1</td>\n",
              "    </tr>\n",
              "    <tr>\n",
              "      <th>3</th>\n",
              "      <td>48</td>\n",
              "      <td>[2022-08-11, 2022-11-06, 2022-11-14, 2022-11-1...</td>\n",
              "      <td>[2022-11-06, 2022-11-14, 2022-11-15, 2022-12-2...</td>\n",
              "      <td>[2022-08-11]</td>\n",
              "      <td>[2022-08-11]</td>\n",
              "      <td>0</td>\n",
              "    </tr>\n",
              "    <tr>\n",
              "      <th>6</th>\n",
              "      <td>76</td>\n",
              "      <td>[2022-05-17, 2023-03-08]</td>\n",
              "      <td>[2023-03-08]</td>\n",
              "      <td>[2022-05-17]</td>\n",
              "      <td>[2022-05-17]</td>\n",
              "      <td>0</td>\n",
              "    </tr>\n",
              "    <tr>\n",
              "      <th>7</th>\n",
              "      <td>86</td>\n",
              "      <td>[2022-05-04]</td>\n",
              "      <td>[]</td>\n",
              "      <td>[2022-05-04]</td>\n",
              "      <td>[2022-05-04]</td>\n",
              "      <td>1</td>\n",
              "    </tr>\n",
              "    <tr>\n",
              "      <th>10</th>\n",
              "      <td>109</td>\n",
              "      <td>[2022-08-02, 2022-08-23]</td>\n",
              "      <td>[2022-08-23]</td>\n",
              "      <td>[2022-08-02]</td>\n",
              "      <td>[2022-08-02]</td>\n",
              "      <td>0</td>\n",
              "    </tr>\n",
              "    <tr>\n",
              "      <th>...</th>\n",
              "      <td>...</td>\n",
              "      <td>...</td>\n",
              "      <td>...</td>\n",
              "      <td>...</td>\n",
              "      <td>...</td>\n",
              "      <td>...</td>\n",
              "    </tr>\n",
              "    <tr>\n",
              "      <th>63262</th>\n",
              "      <td>525861</td>\n",
              "      <td>[2022-08-14, 2022-12-02]</td>\n",
              "      <td>[2022-08-14, 2022-12-02]</td>\n",
              "      <td>[2022-08-14]</td>\n",
              "      <td>[2022-08-14]</td>\n",
              "      <td>0</td>\n",
              "    </tr>\n",
              "    <tr>\n",
              "      <th>63270</th>\n",
              "      <td>525907</td>\n",
              "      <td>[2022-08-14, 2022-09-20, 2022-09-25, 2022-10-0...</td>\n",
              "      <td>[2022-08-14, 2022-09-20, 2022-09-25, 2022-10-0...</td>\n",
              "      <td>[2022-08-14]</td>\n",
              "      <td>[2022-08-14]</td>\n",
              "      <td>0</td>\n",
              "    </tr>\n",
              "    <tr>\n",
              "      <th>63271</th>\n",
              "      <td>525910</td>\n",
              "      <td>[2022-08-14, 2023-01-02]</td>\n",
              "      <td>[2022-08-14, 2023-01-02]</td>\n",
              "      <td>[2022-08-14]</td>\n",
              "      <td>[2022-08-14]</td>\n",
              "      <td>0</td>\n",
              "    </tr>\n",
              "    <tr>\n",
              "      <th>63281</th>\n",
              "      <td>525987</td>\n",
              "      <td>[2022-08-14, 2022-09-11, 2022-09-16]</td>\n",
              "      <td>[2022-08-14, 2022-09-11, 2022-09-16]</td>\n",
              "      <td>[2022-08-14]</td>\n",
              "      <td>[2022-08-14]</td>\n",
              "      <td>0</td>\n",
              "    </tr>\n",
              "    <tr>\n",
              "      <th>63282</th>\n",
              "      <td>525992</td>\n",
              "      <td>[2022-08-14, 2022-11-23, 2022-11-24, 2023-01-0...</td>\n",
              "      <td>[2022-08-14, 2022-11-23, 2022-11-24, 2023-01-0...</td>\n",
              "      <td>[2022-08-14]</td>\n",
              "      <td>[2022-08-14]</td>\n",
              "      <td>0</td>\n",
              "    </tr>\n",
              "  </tbody>\n",
              "</table>\n",
              "<p>39702 rows × 6 columns</p>\n",
              "</div>"
            ],
            "text/plain": [
              "       customer_id                                 purchase_date_list  \\\n",
              "1               30                           [2022-06-11, 2022-07-23]   \n",
              "3               48  [2022-08-11, 2022-11-06, 2022-11-14, 2022-11-1...   \n",
              "6               76                           [2022-05-17, 2023-03-08]   \n",
              "7               86                                       [2022-05-04]   \n",
              "10             109                           [2022-08-02, 2022-08-23]   \n",
              "...            ...                                                ...   \n",
              "63262       525861                           [2022-08-14, 2022-12-02]   \n",
              "63270       525907  [2022-08-14, 2022-09-20, 2022-09-25, 2022-10-0...   \n",
              "63271       525910                           [2022-08-14, 2023-01-02]   \n",
              "63281       525987               [2022-08-14, 2022-09-11, 2022-09-16]   \n",
              "63282       525992  [2022-08-14, 2022-11-23, 2022-11-24, 2023-01-0...   \n",
              "\n",
              "                                  filtered_dates_greater  \\\n",
              "1                                                     []   \n",
              "3      [2022-11-06, 2022-11-14, 2022-11-15, 2022-12-2...   \n",
              "6                                           [2023-03-08]   \n",
              "7                                                     []   \n",
              "10                                          [2022-08-23]   \n",
              "...                                                  ...   \n",
              "63262                           [2022-08-14, 2022-12-02]   \n",
              "63270  [2022-08-14, 2022-09-20, 2022-09-25, 2022-10-0...   \n",
              "63271                           [2022-08-14, 2023-01-02]   \n",
              "63281               [2022-08-14, 2022-09-11, 2022-09-16]   \n",
              "63282  [2022-08-14, 2022-11-23, 2022-11-24, 2023-01-0...   \n",
              "\n",
              "            filtered_dates_less filtered_dates_pre_and_reference  churn  \n",
              "1      [2022-06-11, 2022-07-23]         [2022-06-11, 2022-07-23]      1  \n",
              "3                  [2022-08-11]                     [2022-08-11]      0  \n",
              "6                  [2022-05-17]                     [2022-05-17]      0  \n",
              "7                  [2022-05-04]                     [2022-05-04]      1  \n",
              "10                 [2022-08-02]                     [2022-08-02]      0  \n",
              "...                         ...                              ...    ...  \n",
              "63262              [2022-08-14]                     [2022-08-14]      0  \n",
              "63270              [2022-08-14]                     [2022-08-14]      0  \n",
              "63271              [2022-08-14]                     [2022-08-14]      0  \n",
              "63281              [2022-08-14]                     [2022-08-14]      0  \n",
              "63282              [2022-08-14]                     [2022-08-14]      0  \n",
              "\n",
              "[39702 rows x 6 columns]"
            ]
          },
          "execution_count": 156,
          "metadata": {},
          "output_type": "execute_result"
        }
      ],
      "source": [
        "df"
      ]
    },
    {
      "cell_type": "code",
      "execution_count": null,
      "id": "38ac9781-5e04-4ef7-8285-775236136270",
      "metadata": {
        "id": "38ac9781-5e04-4ef7-8285-775236136270",
        "outputId": "78e59199-6af6-4128-cdd3-4f3c7616462e"
      },
      "outputs": [
        {
          "name": "stdout",
          "output_type": "stream",
          "text": [
            "Minimum Date: 2022-05-01\n"
          ]
        }
      ],
      "source": [
        "import pandas as pd\n",
        "import os\n",
        "\n",
        "min_date = min(min(dates) for dates in df['filtered_dates_pre_and_reference'])\n",
        "\n",
        "print(\"Minimum Date:\", min_date)\n",
        "\n",
        "columns_to_drop = [\n",
        "    \"purchase_date_list\",\n",
        "    \"filtered_dates_greater\",\n",
        "    \"filtered_dates_less\",\n",
        "    \"filtered_dates_pre_and_reference\"\n",
        "]\n",
        "\n",
        "df = df.drop(columns_to_drop, axis=1)\n",
        "\n",
        "if not os.path.exists(\"temp_data/second_lookback\"):\n",
        "    os.makedirs(\"temp_data/second_lookback\")\n",
        "\n",
        "df.to_csv(\"temp_data/second_lookback/labelled.csv\", index=False)"
      ]
    },
    {
      "cell_type": "code",
      "execution_count": null,
      "id": "a90739fd-e822-45b8-be76-9a95f9162007",
      "metadata": {
        "id": "a90739fd-e822-45b8-be76-9a95f9162007",
        "outputId": "23e2c636-ea25-48eb-c49d-c96b3e1f0c82"
      },
      "outputs": [
        {
          "data": {
            "text/html": [
              "<div>\n",
              "<style scoped>\n",
              "    .dataframe tbody tr th:only-of-type {\n",
              "        vertical-align: middle;\n",
              "    }\n",
              "\n",
              "    .dataframe tbody tr th {\n",
              "        vertical-align: top;\n",
              "    }\n",
              "\n",
              "    .dataframe thead th {\n",
              "        text-align: right;\n",
              "    }\n",
              "</style>\n",
              "<table border=\"1\" class=\"dataframe\">\n",
              "  <thead>\n",
              "    <tr style=\"text-align: right;\">\n",
              "      <th></th>\n",
              "      <th>customer_id</th>\n",
              "      <th>churn</th>\n",
              "    </tr>\n",
              "  </thead>\n",
              "  <tbody>\n",
              "    <tr>\n",
              "      <th>1</th>\n",
              "      <td>30</td>\n",
              "      <td>1</td>\n",
              "    </tr>\n",
              "    <tr>\n",
              "      <th>3</th>\n",
              "      <td>48</td>\n",
              "      <td>0</td>\n",
              "    </tr>\n",
              "    <tr>\n",
              "      <th>6</th>\n",
              "      <td>76</td>\n",
              "      <td>0</td>\n",
              "    </tr>\n",
              "    <tr>\n",
              "      <th>7</th>\n",
              "      <td>86</td>\n",
              "      <td>1</td>\n",
              "    </tr>\n",
              "    <tr>\n",
              "      <th>10</th>\n",
              "      <td>109</td>\n",
              "      <td>0</td>\n",
              "    </tr>\n",
              "    <tr>\n",
              "      <th>...</th>\n",
              "      <td>...</td>\n",
              "      <td>...</td>\n",
              "    </tr>\n",
              "    <tr>\n",
              "      <th>63262</th>\n",
              "      <td>525861</td>\n",
              "      <td>0</td>\n",
              "    </tr>\n",
              "    <tr>\n",
              "      <th>63270</th>\n",
              "      <td>525907</td>\n",
              "      <td>0</td>\n",
              "    </tr>\n",
              "    <tr>\n",
              "      <th>63271</th>\n",
              "      <td>525910</td>\n",
              "      <td>0</td>\n",
              "    </tr>\n",
              "    <tr>\n",
              "      <th>63281</th>\n",
              "      <td>525987</td>\n",
              "      <td>0</td>\n",
              "    </tr>\n",
              "    <tr>\n",
              "      <th>63282</th>\n",
              "      <td>525992</td>\n",
              "      <td>0</td>\n",
              "    </tr>\n",
              "  </tbody>\n",
              "</table>\n",
              "<p>39702 rows × 2 columns</p>\n",
              "</div>"
            ],
            "text/plain": [
              "       customer_id  churn\n",
              "1               30      1\n",
              "3               48      0\n",
              "6               76      0\n",
              "7               86      1\n",
              "10             109      0\n",
              "...            ...    ...\n",
              "63262       525861      0\n",
              "63270       525907      0\n",
              "63271       525910      0\n",
              "63281       525987      0\n",
              "63282       525992      0\n",
              "\n",
              "[39702 rows x 2 columns]"
            ]
          },
          "execution_count": 158,
          "metadata": {},
          "output_type": "execute_result"
        }
      ],
      "source": [
        "df"
      ]
    },
    {
      "cell_type": "markdown",
      "id": "da98bf78-9f48-4523-ae6e-ae762d49d670",
      "metadata": {
        "id": "da98bf78-9f48-4523-ae6e-ae762d49d670"
      },
      "source": [
        "## I repeat the operations performed for the first lookback"
      ]
    },
    {
      "cell_type": "code",
      "execution_count": null,
      "id": "4a778851-bb8b-46b7-94cc-0273d4be0952",
      "metadata": {
        "id": "4a778851-bb8b-46b7-94cc-0273d4be0952",
        "outputId": "a40a10e8-2249-4b01-d950-1fe206c5f1a5"
      },
      "outputs": [
        {
          "name": "stdout",
          "output_type": "stream",
          "text": [
            "Data minima: 2022-05-01\n",
            "Data massima: 2022-08-13\n"
          ]
        }
      ],
      "source": [
        "df=pd.read_csv('data/tbl_orders.csv')\n",
        "\n",
        "df['purchase_datetime'] = pd.to_datetime(df['purchase_datetime'])\n",
        "\n",
        "\n",
        "df['purchase_datetime'] = df['purchase_datetime'].dt.date\n",
        "\n",
        "\n",
        "# Filtra il dataframe mantenendo solo i record PRECEDENTI o uguali alla reference_date\n",
        "\n",
        "df = df[df['purchase_datetime'] < reference_date]\n",
        "\n",
        "#pre_reference_date = pd.to_datetime(\"2022-09-28\")\n",
        "\n",
        "df = df[df['purchase_datetime'] >= pre_reference_date]\n",
        "\n",
        "min_purchase_date = df[\"purchase_datetime\"].min()\n",
        "max_purchase_date = df[\"purchase_datetime\"].max()\n",
        "\n",
        "print(\"Data minima:\", min_purchase_date)\n",
        "print(\"Data massima:\", max_purchase_date)"
      ]
    },
    {
      "cell_type": "code",
      "execution_count": null,
      "id": "06983c46-4163-46d1-bb2d-99154c78e4a3",
      "metadata": {
        "id": "06983c46-4163-46d1-bb2d-99154c78e4a3",
        "outputId": "96c0c6b6-fd8d-4b73-ca1c-06e8366c6517"
      },
      "outputs": [
        {
          "data": {
            "text/plain": [
              "Index(['order_id', 'customer_id', 'store_id', 'product_id', 'direction',\n",
              "       'gross_price', 'price_reduction', 'purchase_datetime'],\n",
              "      dtype='object')"
            ]
          },
          "execution_count": 160,
          "metadata": {},
          "output_type": "execute_result"
        }
      ],
      "source": [
        "df.columns"
      ]
    },
    {
      "cell_type": "code",
      "execution_count": null,
      "id": "26f4a159-bff6-4de6-95e9-8f5308797886",
      "metadata": {
        "id": "26f4a159-bff6-4de6-95e9-8f5308797886"
      },
      "outputs": [],
      "source": [
        "df2=pd.read_csv('temp_data/second_lookback/labelled.csv')\n",
        "result = df2.merge(df, on='customer_id', how='inner')\n",
        "result.head()\n",
        "result.to_csv('temp_data/second_lookback/lookback_orders.csv',index=False)"
      ]
    },
    {
      "cell_type": "code",
      "execution_count": null,
      "id": "2912eede-6799-4fd5-a0ab-fe88b3331ccb",
      "metadata": {
        "id": "2912eede-6799-4fd5-a0ab-fe88b3331ccb"
      },
      "outputs": [],
      "source": [
        "file_path_orders = 'temp_data/second_lookback/lookback_orders.csv'\n",
        "file_path_products = 'data/tbl_products.csv'\n",
        "observation_period_end = '2022-10-27'\n",
        "features_df_t2 = aggrega_features(file_path_orders, file_path_products, observation_period_end)\n",
        "features_df_t2['reference_date']=reference_date\n",
        "features_df_t2['CLTV'] = ((features_df_t2['avg_daily_spent']) * (features_df_t2['frequency'] + 1)) * average_T\n",
        "features_df_t2.to_csv('temp_data/second_lookback/second_lookback_with_features.csv',index=False)"
      ]
    },
    {
      "cell_type": "code",
      "execution_count": null,
      "id": "381927e0-5d01-40af-acce-6f943c84b9ff",
      "metadata": {
        "id": "381927e0-5d01-40af-acce-6f943c84b9ff",
        "outputId": "2d08c14a-4b67-4c6b-e389-db07d0e4a670"
      },
      "outputs": [
        {
          "data": {
            "text/plain": [
              "Index(['customer_id', 'numero_prodotti_acquistati_totale',\n",
              "       'numero_prodotti_restituiti_totale', 'ordini_per_categoria',\n",
              "       'total_spent', 'avg_daily_spent', 'frequency', 'recency', 'T',\n",
              "       'monetary_value', 'product_classes_acquistate',\n",
              "       'num_categories_acquistate', 'product_classes_restitute',\n",
              "       'num_categories_restitute', 'prodotti_restituiti',\n",
              "       'prodotti_acquistati', 'return_rate', 'spesa_settimanale_media',\n",
              "       'variazione_media_spesa', 'frequenza_media_acquisti_settimanali',\n",
              "       'frequenza_media_acquisti_sconto_settimanali', 'store_id',\n",
              "       'num_visited_stores', 'churn', 'reference_date', 'CLTV'],\n",
              "      dtype='object')"
            ]
          },
          "execution_count": 163,
          "metadata": {},
          "output_type": "execute_result"
        }
      ],
      "source": [
        "features_df_t2.columns"
      ]
    },
    {
      "cell_type": "markdown",
      "id": "6e72cef3-02ea-4de4-bd3f-0b5907bfa507",
      "metadata": {
        "id": "6e72cef3-02ea-4de4-bd3f-0b5907bfa507"
      },
      "source": [
        "# Define the third lookback\n",
        "**I use a third reference date 90 days from the second reference date**"
      ]
    },
    {
      "cell_type": "code",
      "execution_count": null,
      "id": "04eecf8a-1bc5-4680-be24-36e18f1e7ce3",
      "metadata": {
        "id": "04eecf8a-1bc5-4680-be24-36e18f1e7ce3",
        "outputId": "83429ce1-d156-4279-cbb4-dfb3bcd2d41d"
      },
      "outputs": [
        {
          "name": "stdout",
          "output_type": "stream",
          "text": [
            "The THIRD reference_date is: 2023-03-12\n"
          ]
        }
      ],
      "source": [
        "import pandas as pd\n",
        "\n",
        "df = pd.read_csv('data/tbl_orders.csv')\n",
        "\n",
        "df['purchase_datetime'] = pd.to_datetime(df['purchase_datetime'])\n",
        "\n",
        "df['purchase_date'] = df['purchase_datetime'].dt.date\n",
        "\n",
        "min_date = df['purchase_date'].min()\n",
        "\n",
        "reference_date = min_date + pd.Timedelta(days=3 * percentile_90)\n",
        "\n",
        "print(\"The THIRD reference_date is:\", reference_date)\n"
      ]
    },
    {
      "cell_type": "code",
      "execution_count": null,
      "id": "c600b5a7-3b77-4c67-836a-1a4267e81f8c",
      "metadata": {
        "id": "c600b5a7-3b77-4c67-836a-1a4267e81f8c"
      },
      "outputs": [],
      "source": [
        "df['purchase_datetime'] = pd.to_datetime(df['purchase_datetime']).dt.date\n",
        "\n",
        "grouped = df.groupby('customer_id')['purchase_datetime'].agg(list).reset_index()\n",
        "\n",
        "grouped.rename(columns={'purchase_datetime': 'purchase_date_list'}, inplace=True)\n",
        "\n",
        "new_df = pd.DataFrame(grouped)\n",
        "\n",
        "def clean_and_sort(dates_list):\n",
        "    return sorted(list(set(dates_list)))\n",
        "\n",
        "new_df['purchase_date_list'] = new_df['purchase_date_list'].apply(clean_and_sort)\n",
        "\n",
        "def filter_dates_greater(date_list):\n",
        "    return [date for date in date_list if date > reference_date]\n",
        "\n",
        "def filter_dates_less(date_list):\n",
        "    return [date for date in date_list if date <= reference_date]\n",
        "\n",
        "new_df['filtered_dates_greater'] = new_df['purchase_date_list'].apply(filter_dates_greater)\n",
        "new_df['filtered_dates_less'] = new_df['purchase_date_list'].apply(filter_dates_less)\n",
        "\n",
        "new_df = new_df[new_df['filtered_dates_less'].apply(len) > 0]\n",
        "\n",
        "pre_reference_date = reference_date - timedelta(days=percentile_90)\n",
        "\n",
        "def filter_dates_pre_and_reference(date_list):\n",
        "    return [date for date in date_list if pre_reference_date < date < reference_date]\n",
        "\n",
        "new_df['filtered_dates_pre_and_reference'] = new_df['purchase_date_list'].apply(filter_dates_pre_and_reference)\n",
        "\n",
        "new_df = new_df[new_df['filtered_dates_pre_and_reference'].apply(len) > 0]\n",
        "\n",
        "df = new_df.copy()"
      ]
    },
    {
      "cell_type": "markdown",
      "id": "c07e1985-42f6-48f6-a753-43460bf26608",
      "metadata": {
        "id": "c07e1985-42f6-48f6-a753-43460bf26608"
      },
      "source": [
        "**CHURN RATE OF THE THIRD LOOKBACK**"
      ]
    },
    {
      "cell_type": "code",
      "execution_count": null,
      "id": "8b628efe-b15f-495b-a94a-b420a735c2f9",
      "metadata": {
        "id": "8b628efe-b15f-495b-a94a-b420a735c2f9",
        "outputId": "53e32df1-3dbf-4c3e-debf-927ff59a64c2"
      },
      "outputs": [
        {
          "name": "stdout",
          "output_type": "stream",
          "text": [
            "Numero di Churner: 35194\n",
            "Numero di Non Churner: 15356\n",
            "Churn Rate: 0.6962215628090999\n"
          ]
        }
      ],
      "source": [
        "def calculate_churn(filtered_dates_greater_list):\n",
        "    return int(len(filtered_dates_greater_list) == 0)\n",
        "\n",
        "df['churn'] = df['filtered_dates_greater'].apply(calculate_churn)\n",
        "\n",
        "total_rows = len(df)\n",
        "churn_rows = df['churn'].sum()\n",
        "churn_rate = churn_rows / total_rows\n",
        "\n",
        "churner_count = (df['churn'] == 1).sum()\n",
        "non_churner_count = (df['churn'] == 0).sum()\n",
        "\n",
        "print(\"Numero di Churner:\", churner_count)\n",
        "print(\"Numero di Non Churner:\", non_churner_count)\n",
        "\n",
        "print(\"Churn Rate:\", churn_rate)"
      ]
    },
    {
      "cell_type": "code",
      "execution_count": null,
      "id": "1069cbd8-adf2-4077-988e-b60dafd34b0f",
      "metadata": {
        "id": "1069cbd8-adf2-4077-988e-b60dafd34b0f",
        "outputId": "480e40d1-8492-45d0-c2cf-c2b9c004c0d3"
      },
      "outputs": [
        {
          "name": "stdout",
          "output_type": "stream",
          "text": [
            "Minimum Date: 2022-11-28\n"
          ]
        }
      ],
      "source": [
        "import pandas as pd\n",
        "import os\n",
        "\n",
        "min_date = min(min(dates) for dates in df['filtered_dates_pre_and_reference'])\n",
        "\n",
        "print(\"Minimum Date:\", min_date)\n",
        "\n",
        "columns_to_drop = [\n",
        "    \"purchase_date_list\",\n",
        "    \"filtered_dates_greater\",\n",
        "    \"filtered_dates_less\",\n",
        "    \"filtered_dates_pre_and_reference\"\n",
        "]\n",
        "\n",
        "df = df.drop(columns_to_drop, axis=1)\n",
        "\n",
        "if not os.path.exists(\"temp_data/third_lookback\"):\n",
        "    os.makedirs(\"temp_data/third_lookback\")\n",
        "\n",
        "df.to_csv(\"temp_data/third_lookback/labelled.csv\", index=False)\n"
      ]
    },
    {
      "cell_type": "markdown",
      "id": "23562c44-d833-4f28-b915-597dcc76a8f4",
      "metadata": {
        "id": "23562c44-d833-4f28-b915-597dcc76a8f4"
      },
      "source": [
        "## I repeat the operations performed for the first and second lookbacks"
      ]
    },
    {
      "cell_type": "code",
      "execution_count": null,
      "id": "cd8101dc-e67e-414e-98af-bc6544559fe6",
      "metadata": {
        "id": "cd8101dc-e67e-414e-98af-bc6544559fe6",
        "outputId": "23d8afe3-c8a1-41fa-a194-bde4df3be8ff"
      },
      "outputs": [
        {
          "data": {
            "text/plain": [
              "datetime.date(2023, 3, 12)"
            ]
          },
          "execution_count": 168,
          "metadata": {},
          "output_type": "execute_result"
        }
      ],
      "source": [
        "reference_date"
      ]
    },
    {
      "cell_type": "code",
      "execution_count": null,
      "id": "48cdf5aa-ab42-435c-b4ae-6819dc593a77",
      "metadata": {
        "id": "48cdf5aa-ab42-435c-b4ae-6819dc593a77",
        "outputId": "55548bf9-64e6-422e-aab9-b0e1e6cb7fe5"
      },
      "outputs": [
        {
          "name": "stdout",
          "output_type": "stream",
          "text": [
            "Data minima: 2022-11-27\n",
            "Data massima: 2023-03-11\n"
          ]
        }
      ],
      "source": [
        "df=pd.read_csv('data/tbl_orders.csv')\n",
        "\n",
        "df['purchase_datetime'] = pd.to_datetime(df['purchase_datetime'])\n",
        "\n",
        "\n",
        "df['purchase_datetime'] = df['purchase_datetime'].dt.date\n",
        "\n",
        "\n",
        "# Filtra il dataframe mantenendo solo i record PRECEDENTI o uguali alla reference_date\n",
        "\n",
        "df = df[df['purchase_datetime'] < reference_date]\n",
        "\n",
        "#pre_reference_date = pd.to_datetime(\"2022-09-28\")\n",
        "\n",
        "df = df[df['purchase_datetime'] >= pre_reference_date]\n",
        "\n",
        "min_purchase_date = df[\"purchase_datetime\"].min()\n",
        "max_purchase_date = df[\"purchase_datetime\"].max()\n",
        "\n",
        "print(\"Data minima:\", min_purchase_date)\n",
        "print(\"Data massima:\", max_purchase_date)\n",
        "\n",
        "\n",
        "df2=pd.read_csv('temp_data/third_lookback/labelled.csv')\n",
        "result = df2.merge(df, on='customer_id', how='inner')\n",
        "result.head()\n",
        "result.to_csv('temp_data/third_lookback/lookback_orders.csv',index=False)\n",
        "\n",
        "\n",
        "file_path_orders = 'temp_data/third_lookback/lookback_orders.csv'\n",
        "file_path_products = 'data/tbl_products.csv'\n",
        "observation_period_end = '2023-01-25'\n",
        "features_df_t3 = aggrega_features(file_path_orders, file_path_products, observation_period_end)\n",
        "features_df_t3['reference_date']=reference_date\n",
        "features_df_t3['CLTV'] = ((features_df_t3['avg_daily_spent']) * (features_df_t3['frequency'] + 1)) * average_T\n",
        "features_df_t3.to_csv('temp_data/third_lookback/third_lookback_with_features.csv',index=False)\n"
      ]
    },
    {
      "cell_type": "code",
      "execution_count": null,
      "id": "f84b57c1-1b31-46bb-878e-be76e67d309f",
      "metadata": {
        "id": "f84b57c1-1b31-46bb-878e-be76e67d309f",
        "outputId": "64df78ee-d97e-40bb-ca75-488a20952c40"
      },
      "outputs": [
        {
          "data": {
            "text/plain": [
              "Index(['customer_id', 'numero_prodotti_acquistati_totale',\n",
              "       'numero_prodotti_restituiti_totale', 'ordini_per_categoria',\n",
              "       'total_spent', 'avg_daily_spent', 'frequency', 'recency', 'T',\n",
              "       'monetary_value', 'product_classes_acquistate',\n",
              "       'num_categories_acquistate', 'product_classes_restitute',\n",
              "       'num_categories_restitute', 'prodotti_restituiti',\n",
              "       'prodotti_acquistati', 'return_rate', 'spesa_settimanale_media',\n",
              "       'variazione_media_spesa', 'frequenza_media_acquisti_settimanali',\n",
              "       'frequenza_media_acquisti_sconto_settimanali', 'store_id',\n",
              "       'num_visited_stores', 'churn', 'reference_date', 'CLTV'],\n",
              "      dtype='object')"
            ]
          },
          "execution_count": 170,
          "metadata": {},
          "output_type": "execute_result"
        }
      ],
      "source": [
        "features_df_t3.columns"
      ]
    },
    {
      "cell_type": "markdown",
      "id": "e148ce4d-94ac-4778-bfca-eabdcedd45d5",
      "metadata": {
        "id": "e148ce4d-94ac-4778-bfca-eabdcedd45d5"
      },
      "source": [
        "# Merging the 3 lookbacks"
      ]
    },
    {
      "cell_type": "code",
      "execution_count": null,
      "id": "08c0e607-5dc4-4e9f-a238-7eb188049f8a",
      "metadata": {
        "id": "08c0e607-5dc4-4e9f-a238-7eb188049f8a"
      },
      "outputs": [],
      "source": [
        "df1=pd.read_csv('temp_data/first_lookback/first_lookback_with_features.csv')\n",
        "\n",
        "df2=pd.read_csv('temp_data/second_lookback/second_lookback_with_features.csv')\n",
        "\n",
        "df3=pd.read_csv('temp_data/third_lookback/third_lookback_with_features.csv')\n",
        "\n",
        "df1.shape\n",
        "\n",
        "df2.shape\n",
        "\n",
        "concatenated_df = pd.concat([df1, df2, df3], ignore_index=True)\n",
        "\n",
        "concatenated_df.shape\n",
        "\n",
        "df=concatenated_df.copy()"
      ]
    },
    {
      "cell_type": "code",
      "execution_count": null,
      "id": "93c72f25-28e3-458e-85c4-31aec77bbbc1",
      "metadata": {
        "id": "93c72f25-28e3-458e-85c4-31aec77bbbc1"
      },
      "outputs": [],
      "source": [
        "# Specifica il nome delle colonne da eliminare in una lista\n",
        "colonne_da_elimare = ['product_classes_acquistate',\n",
        "                      'product_classes_restitute', 'product_classes_acquistate',\n",
        "                      'product_classes_restitute']\n",
        "\n",
        "# Usa il metodo drop per eliminarle dal DataFrame\n",
        "df = df.drop(colonne_da_elimare, axis=1)"
      ]
    },
    {
      "cell_type": "code",
      "execution_count": null,
      "id": "5f024963-3d15-4b33-91f7-ba5c3fe3e468",
      "metadata": {
        "id": "5f024963-3d15-4b33-91f7-ba5c3fe3e468",
        "outputId": "a355ca2e-0cac-43dd-dc49-eff0f15bf46a"
      },
      "outputs": [
        {
          "data": {
            "text/plain": [
              "Index(['customer_id', 'numero_prodotti_acquistati_totale',\n",
              "       'numero_prodotti_restituiti_totale', 'ordini_per_categoria',\n",
              "       'total_spent', 'avg_daily_spent', 'frequency', 'recency', 'T',\n",
              "       'monetary_value', 'num_categories_acquistate',\n",
              "       'num_categories_restitute', 'prodotti_restituiti',\n",
              "       'prodotti_acquistati', 'return_rate', 'spesa_settimanale_media',\n",
              "       'variazione_media_spesa', 'frequenza_media_acquisti_settimanali',\n",
              "       'frequenza_media_acquisti_sconto_settimanali', 'store_id',\n",
              "       'num_visited_stores', 'churn', 'reference_date', 'CLTV'],\n",
              "      dtype='object')"
            ]
          },
          "execution_count": 173,
          "metadata": {},
          "output_type": "execute_result"
        }
      ],
      "source": [
        "df.columns"
      ]
    },
    {
      "cell_type": "code",
      "execution_count": null,
      "id": "18d89890-9d8d-4dc7-b6e6-605b1dfc833b",
      "metadata": {
        "id": "18d89890-9d8d-4dc7-b6e6-605b1dfc833b"
      },
      "outputs": [],
      "source": [
        "df_sorted = df[['customer_id', 'numero_prodotti_acquistati_totale',\n",
        "       'numero_prodotti_restituiti_totale', 'ordini_per_categoria',\n",
        "       'total_spent','store_id', 'avg_daily_spent', 'frequency', 'recency', 'T',\n",
        "       'monetary_value','CLTV','num_categories_acquistate',\n",
        "       'num_categories_restitute', 'prodotti_restituiti',\n",
        "       'prodotti_acquistati', 'return_rate', 'spesa_settimanale_media',\n",
        "       'variazione_media_spesa', 'frequenza_media_acquisti_settimanali',\n",
        "       'frequenza_media_acquisti_sconto_settimanali', 'num_visited_stores',\n",
        "       'churn', 'reference_date']].sort_values(by='customer_id')\n"
      ]
    },
    {
      "cell_type": "code",
      "execution_count": null,
      "id": "f2faa10e-f5db-452a-b4bb-cf9431913094",
      "metadata": {
        "id": "f2faa10e-f5db-452a-b4bb-cf9431913094"
      },
      "outputs": [],
      "source": [
        "df_sorted.reset_index(drop=True, inplace=True)\n",
        "df=df_sorted"
      ]
    },
    {
      "cell_type": "code",
      "execution_count": null,
      "id": "34ffa03b-c25b-4c9b-93b7-a417b22815cb",
      "metadata": {
        "id": "34ffa03b-c25b-4c9b-93b7-a417b22815cb",
        "outputId": "255974d9-d8c1-463b-a73c-4b4b41a8aa58"
      },
      "outputs": [
        {
          "data": {
            "text/html": [
              "<div>\n",
              "<style scoped>\n",
              "    .dataframe tbody tr th:only-of-type {\n",
              "        vertical-align: middle;\n",
              "    }\n",
              "\n",
              "    .dataframe tbody tr th {\n",
              "        vertical-align: top;\n",
              "    }\n",
              "\n",
              "    .dataframe thead th {\n",
              "        text-align: right;\n",
              "    }\n",
              "</style>\n",
              "<table border=\"1\" class=\"dataframe\">\n",
              "  <thead>\n",
              "    <tr style=\"text-align: right;\">\n",
              "      <th></th>\n",
              "      <th>customer_id</th>\n",
              "      <th>numero_prodotti_acquistati_totale</th>\n",
              "      <th>numero_prodotti_restituiti_totale</th>\n",
              "      <th>ordini_per_categoria</th>\n",
              "      <th>total_spent</th>\n",
              "      <th>store_id</th>\n",
              "      <th>avg_daily_spent</th>\n",
              "      <th>frequency</th>\n",
              "      <th>recency</th>\n",
              "      <th>T</th>\n",
              "      <th>...</th>\n",
              "      <th>prodotti_restituiti</th>\n",
              "      <th>prodotti_acquistati</th>\n",
              "      <th>return_rate</th>\n",
              "      <th>spesa_settimanale_media</th>\n",
              "      <th>variazione_media_spesa</th>\n",
              "      <th>frequenza_media_acquisti_settimanali</th>\n",
              "      <th>frequenza_media_acquisti_sconto_settimanali</th>\n",
              "      <th>num_visited_stores</th>\n",
              "      <th>churn</th>\n",
              "      <th>reference_date</th>\n",
              "    </tr>\n",
              "  </thead>\n",
              "  <tbody>\n",
              "    <tr>\n",
              "      <th>0</th>\n",
              "      <td>23</td>\n",
              "      <td>22.0</td>\n",
              "      <td>0.0</td>\n",
              "      <td>2.750000</td>\n",
              "      <td>169.40</td>\n",
              "      <td>[49]</td>\n",
              "      <td>42.350</td>\n",
              "      <td>2.0</td>\n",
              "      <td>22.0</td>\n",
              "      <td>57.0</td>\n",
              "      <td>...</td>\n",
              "      <td>0.0</td>\n",
              "      <td>22.0</td>\n",
              "      <td>0.000000</td>\n",
              "      <td>42.350000</td>\n",
              "      <td>70.5</td>\n",
              "      <td>5.50</td>\n",
              "      <td>2.0</td>\n",
              "      <td>1</td>\n",
              "      <td>1</td>\n",
              "      <td>2023-03-12</td>\n",
              "    </tr>\n",
              "    <tr>\n",
              "      <th>1</th>\n",
              "      <td>30</td>\n",
              "      <td>12.0</td>\n",
              "      <td>0.0</td>\n",
              "      <td>4.000000</td>\n",
              "      <td>10179.56</td>\n",
              "      <td>[49]</td>\n",
              "      <td>5089.780</td>\n",
              "      <td>1.0</td>\n",
              "      <td>42.0</td>\n",
              "      <td>49.0</td>\n",
              "      <td>...</td>\n",
              "      <td>0.0</td>\n",
              "      <td>12.0</td>\n",
              "      <td>0.000000</td>\n",
              "      <td>5089.780000</td>\n",
              "      <td>164086.5</td>\n",
              "      <td>6.00</td>\n",
              "      <td>6.0</td>\n",
              "      <td>1</td>\n",
              "      <td>1</td>\n",
              "      <td>2022-08-14</td>\n",
              "    </tr>\n",
              "    <tr>\n",
              "      <th>2</th>\n",
              "      <td>30</td>\n",
              "      <td>12.0</td>\n",
              "      <td>0.0</td>\n",
              "      <td>4.000000</td>\n",
              "      <td>10179.56</td>\n",
              "      <td>[49]</td>\n",
              "      <td>5089.780</td>\n",
              "      <td>1.0</td>\n",
              "      <td>42.0</td>\n",
              "      <td>138.0</td>\n",
              "      <td>...</td>\n",
              "      <td>0.0</td>\n",
              "      <td>12.0</td>\n",
              "      <td>0.000000</td>\n",
              "      <td>5089.780000</td>\n",
              "      <td>164086.5</td>\n",
              "      <td>6.00</td>\n",
              "      <td>6.0</td>\n",
              "      <td>1</td>\n",
              "      <td>1</td>\n",
              "      <td>2022-08-14</td>\n",
              "    </tr>\n",
              "    <tr>\n",
              "      <th>3</th>\n",
              "      <td>48</td>\n",
              "      <td>3.0</td>\n",
              "      <td>0.0</td>\n",
              "      <td>3.000000</td>\n",
              "      <td>232.50</td>\n",
              "      <td>[49]</td>\n",
              "      <td>232.500</td>\n",
              "      <td>0.0</td>\n",
              "      <td>0.0</td>\n",
              "      <td>77.0</td>\n",
              "      <td>...</td>\n",
              "      <td>0.0</td>\n",
              "      <td>3.0</td>\n",
              "      <td>0.000000</td>\n",
              "      <td>232.500000</td>\n",
              "      <td>0.0</td>\n",
              "      <td>3.00</td>\n",
              "      <td>2.0</td>\n",
              "      <td>1</td>\n",
              "      <td>0</td>\n",
              "      <td>2022-08-14</td>\n",
              "    </tr>\n",
              "    <tr>\n",
              "      <th>4</th>\n",
              "      <td>48</td>\n",
              "      <td>28.0</td>\n",
              "      <td>15.0</td>\n",
              "      <td>5.600000</td>\n",
              "      <td>670.58</td>\n",
              "      <td>[49]</td>\n",
              "      <td>167.645</td>\n",
              "      <td>2.0</td>\n",
              "      <td>27.0</td>\n",
              "      <td>28.0</td>\n",
              "      <td>...</td>\n",
              "      <td>15.0</td>\n",
              "      <td>28.0</td>\n",
              "      <td>53.571429</td>\n",
              "      <td>223.526667</td>\n",
              "      <td>-53.0</td>\n",
              "      <td>9.33</td>\n",
              "      <td>5.5</td>\n",
              "      <td>1</td>\n",
              "      <td>0</td>\n",
              "      <td>2023-03-12</td>\n",
              "    </tr>\n",
              "    <tr>\n",
              "      <th>...</th>\n",
              "      <td>...</td>\n",
              "      <td>...</td>\n",
              "      <td>...</td>\n",
              "      <td>...</td>\n",
              "      <td>...</td>\n",
              "      <td>...</td>\n",
              "      <td>...</td>\n",
              "      <td>...</td>\n",
              "      <td>...</td>\n",
              "      <td>...</td>\n",
              "      <td>...</td>\n",
              "      <td>...</td>\n",
              "      <td>...</td>\n",
              "      <td>...</td>\n",
              "      <td>...</td>\n",
              "      <td>...</td>\n",
              "      <td>...</td>\n",
              "      <td>...</td>\n",
              "      <td>...</td>\n",
              "      <td>...</td>\n",
              "      <td>...</td>\n",
              "    </tr>\n",
              "    <tr>\n",
              "      <th>120636</th>\n",
              "      <td>860082</td>\n",
              "      <td>1.0</td>\n",
              "      <td>0.0</td>\n",
              "      <td>1.000000</td>\n",
              "      <td>0.00</td>\n",
              "      <td>[34]</td>\n",
              "      <td>0.000</td>\n",
              "      <td>0.0</td>\n",
              "      <td>0.0</td>\n",
              "      <td>0.0</td>\n",
              "      <td>...</td>\n",
              "      <td>0.0</td>\n",
              "      <td>1.0</td>\n",
              "      <td>0.000000</td>\n",
              "      <td>49.990000</td>\n",
              "      <td>0.0</td>\n",
              "      <td>1.00</td>\n",
              "      <td>0.0</td>\n",
              "      <td>1</td>\n",
              "      <td>0</td>\n",
              "      <td>2023-03-12</td>\n",
              "    </tr>\n",
              "    <tr>\n",
              "      <th>120637</th>\n",
              "      <td>860151</td>\n",
              "      <td>2.0</td>\n",
              "      <td>0.0</td>\n",
              "      <td>1.000000</td>\n",
              "      <td>0.00</td>\n",
              "      <td>[30]</td>\n",
              "      <td>0.000</td>\n",
              "      <td>0.0</td>\n",
              "      <td>0.0</td>\n",
              "      <td>0.0</td>\n",
              "      <td>...</td>\n",
              "      <td>0.0</td>\n",
              "      <td>2.0</td>\n",
              "      <td>0.000000</td>\n",
              "      <td>70.400000</td>\n",
              "      <td>0.0</td>\n",
              "      <td>2.00</td>\n",
              "      <td>0.0</td>\n",
              "      <td>1</td>\n",
              "      <td>1</td>\n",
              "      <td>2023-03-12</td>\n",
              "    </tr>\n",
              "    <tr>\n",
              "      <th>120638</th>\n",
              "      <td>860220</td>\n",
              "      <td>1.0</td>\n",
              "      <td>0.0</td>\n",
              "      <td>1.000000</td>\n",
              "      <td>0.00</td>\n",
              "      <td>[5]</td>\n",
              "      <td>0.000</td>\n",
              "      <td>0.0</td>\n",
              "      <td>0.0</td>\n",
              "      <td>0.0</td>\n",
              "      <td>...</td>\n",
              "      <td>0.0</td>\n",
              "      <td>1.0</td>\n",
              "      <td>0.000000</td>\n",
              "      <td>5.350000</td>\n",
              "      <td>0.0</td>\n",
              "      <td>1.00</td>\n",
              "      <td>0.0</td>\n",
              "      <td>1</td>\n",
              "      <td>0</td>\n",
              "      <td>2023-03-12</td>\n",
              "    </tr>\n",
              "    <tr>\n",
              "      <th>120639</th>\n",
              "      <td>860226</td>\n",
              "      <td>4.0</td>\n",
              "      <td>0.0</td>\n",
              "      <td>1.333333</td>\n",
              "      <td>0.00</td>\n",
              "      <td>[17]</td>\n",
              "      <td>0.000</td>\n",
              "      <td>0.0</td>\n",
              "      <td>0.0</td>\n",
              "      <td>0.0</td>\n",
              "      <td>...</td>\n",
              "      <td>0.0</td>\n",
              "      <td>4.0</td>\n",
              "      <td>0.000000</td>\n",
              "      <td>47.080000</td>\n",
              "      <td>0.0</td>\n",
              "      <td>4.00</td>\n",
              "      <td>0.0</td>\n",
              "      <td>1</td>\n",
              "      <td>0</td>\n",
              "      <td>2023-03-12</td>\n",
              "    </tr>\n",
              "    <tr>\n",
              "      <th>120640</th>\n",
              "      <td>860234</td>\n",
              "      <td>5.0</td>\n",
              "      <td>0.0</td>\n",
              "      <td>5.000000</td>\n",
              "      <td>0.00</td>\n",
              "      <td>[5]</td>\n",
              "      <td>0.000</td>\n",
              "      <td>0.0</td>\n",
              "      <td>0.0</td>\n",
              "      <td>0.0</td>\n",
              "      <td>...</td>\n",
              "      <td>0.0</td>\n",
              "      <td>5.0</td>\n",
              "      <td>0.000000</td>\n",
              "      <td>12.950000</td>\n",
              "      <td>0.0</td>\n",
              "      <td>5.00</td>\n",
              "      <td>0.0</td>\n",
              "      <td>1</td>\n",
              "      <td>0</td>\n",
              "      <td>2023-03-12</td>\n",
              "    </tr>\n",
              "  </tbody>\n",
              "</table>\n",
              "<p>120641 rows × 24 columns</p>\n",
              "</div>"
            ],
            "text/plain": [
              "        customer_id  numero_prodotti_acquistati_totale  \\\n",
              "0                23                               22.0   \n",
              "1                30                               12.0   \n",
              "2                30                               12.0   \n",
              "3                48                                3.0   \n",
              "4                48                               28.0   \n",
              "...             ...                                ...   \n",
              "120636       860082                                1.0   \n",
              "120637       860151                                2.0   \n",
              "120638       860220                                1.0   \n",
              "120639       860226                                4.0   \n",
              "120640       860234                                5.0   \n",
              "\n",
              "        numero_prodotti_restituiti_totale  ordini_per_categoria  total_spent  \\\n",
              "0                                     0.0              2.750000       169.40   \n",
              "1                                     0.0              4.000000     10179.56   \n",
              "2                                     0.0              4.000000     10179.56   \n",
              "3                                     0.0              3.000000       232.50   \n",
              "4                                    15.0              5.600000       670.58   \n",
              "...                                   ...                   ...          ...   \n",
              "120636                                0.0              1.000000         0.00   \n",
              "120637                                0.0              1.000000         0.00   \n",
              "120638                                0.0              1.000000         0.00   \n",
              "120639                                0.0              1.333333         0.00   \n",
              "120640                                0.0              5.000000         0.00   \n",
              "\n",
              "       store_id  avg_daily_spent  frequency  recency      T  ...  \\\n",
              "0          [49]           42.350        2.0     22.0   57.0  ...   \n",
              "1          [49]         5089.780        1.0     42.0   49.0  ...   \n",
              "2          [49]         5089.780        1.0     42.0  138.0  ...   \n",
              "3          [49]          232.500        0.0      0.0   77.0  ...   \n",
              "4          [49]          167.645        2.0     27.0   28.0  ...   \n",
              "...         ...              ...        ...      ...    ...  ...   \n",
              "120636     [34]            0.000        0.0      0.0    0.0  ...   \n",
              "120637     [30]            0.000        0.0      0.0    0.0  ...   \n",
              "120638      [5]            0.000        0.0      0.0    0.0  ...   \n",
              "120639     [17]            0.000        0.0      0.0    0.0  ...   \n",
              "120640      [5]            0.000        0.0      0.0    0.0  ...   \n",
              "\n",
              "        prodotti_restituiti  prodotti_acquistati  return_rate  \\\n",
              "0                       0.0                 22.0     0.000000   \n",
              "1                       0.0                 12.0     0.000000   \n",
              "2                       0.0                 12.0     0.000000   \n",
              "3                       0.0                  3.0     0.000000   \n",
              "4                      15.0                 28.0    53.571429   \n",
              "...                     ...                  ...          ...   \n",
              "120636                  0.0                  1.0     0.000000   \n",
              "120637                  0.0                  2.0     0.000000   \n",
              "120638                  0.0                  1.0     0.000000   \n",
              "120639                  0.0                  4.0     0.000000   \n",
              "120640                  0.0                  5.0     0.000000   \n",
              "\n",
              "        spesa_settimanale_media  variazione_media_spesa  \\\n",
              "0                     42.350000                    70.5   \n",
              "1                   5089.780000                164086.5   \n",
              "2                   5089.780000                164086.5   \n",
              "3                    232.500000                     0.0   \n",
              "4                    223.526667                   -53.0   \n",
              "...                         ...                     ...   \n",
              "120636                49.990000                     0.0   \n",
              "120637                70.400000                     0.0   \n",
              "120638                 5.350000                     0.0   \n",
              "120639                47.080000                     0.0   \n",
              "120640                12.950000                     0.0   \n",
              "\n",
              "        frequenza_media_acquisti_settimanali  \\\n",
              "0                                       5.50   \n",
              "1                                       6.00   \n",
              "2                                       6.00   \n",
              "3                                       3.00   \n",
              "4                                       9.33   \n",
              "...                                      ...   \n",
              "120636                                  1.00   \n",
              "120637                                  2.00   \n",
              "120638                                  1.00   \n",
              "120639                                  4.00   \n",
              "120640                                  5.00   \n",
              "\n",
              "        frequenza_media_acquisti_sconto_settimanali  num_visited_stores  \\\n",
              "0                                               2.0                   1   \n",
              "1                                               6.0                   1   \n",
              "2                                               6.0                   1   \n",
              "3                                               2.0                   1   \n",
              "4                                               5.5                   1   \n",
              "...                                             ...                 ...   \n",
              "120636                                          0.0                   1   \n",
              "120637                                          0.0                   1   \n",
              "120638                                          0.0                   1   \n",
              "120639                                          0.0                   1   \n",
              "120640                                          0.0                   1   \n",
              "\n",
              "        churn  reference_date  \n",
              "0           1      2023-03-12  \n",
              "1           1      2022-08-14  \n",
              "2           1      2022-08-14  \n",
              "3           0      2022-08-14  \n",
              "4           0      2023-03-12  \n",
              "...       ...             ...  \n",
              "120636      0      2023-03-12  \n",
              "120637      1      2023-03-12  \n",
              "120638      0      2023-03-12  \n",
              "120639      0      2023-03-12  \n",
              "120640      0      2023-03-12  \n",
              "\n",
              "[120641 rows x 24 columns]"
            ]
          },
          "execution_count": 176,
          "metadata": {},
          "output_type": "execute_result"
        }
      ],
      "source": [
        "df"
      ]
    },
    {
      "cell_type": "markdown",
      "id": "8a0c0d14-2903-424f-a56b-34bbdf0ad75f",
      "metadata": {
        "id": "8a0c0d14-2903-424f-a56b-34bbdf0ad75f"
      },
      "source": [
        "## Compute additional features"
      ]
    },
    {
      "cell_type": "code",
      "execution_count": null,
      "id": "7fbe8905-4083-42a3-ab65-f899161010cb",
      "metadata": {
        "id": "7fbe8905-4083-42a3-ab65-f899161010cb",
        "outputId": "7adccf85-a7da-4fbf-d3de-107f28b51c72"
      },
      "outputs": [
        {
          "name": "stdout",
          "output_type": "stream",
          "text": [
            "Quantile 0%: 0.41039755351681956\n",
            "Quantile 5%: 0.41667123346448326\n",
            "Quantile 10%: 0.4262156224424475\n",
            "Quantile 15%: 0.4300364985652664\n",
            "Quantile 20%: 0.4414744565727046\n",
            "Quantile 25%: 0.4462126232741617\n",
            "Quantile 30%: 0.45363343951033663\n",
            "Quantile 35%: 0.4553264693247029\n",
            "Quantile 40%: 0.45705046600186355\n",
            "Quantile 45%: 0.45901783293162784\n",
            "Quantile 50%: 0.47308474062128614\n",
            "Quantile 55%: 0.4757599753187988\n",
            "Quantile 60%: 0.47642944118713004\n",
            "Quantile 65%: 0.4778395681454797\n",
            "Quantile 70%: 0.480979078142236\n",
            "Quantile 75%: 0.48552833921088195\n",
            "Quantile 80%: 0.49036245056810907\n",
            "Quantile 85%: 0.4952774021646726\n",
            "Quantile 90%: 0.5077969733494041\n",
            "Quantile 95%: 0.5165243325899117\n",
            "Quantile 100%: 0.5347454477889261\n"
          ]
        }
      ],
      "source": [
        "df['store_id'] = df['store_id'].str.replace(r'\\[\\s*', '[').str.replace(r'\\s*\\]', ']').str.replace(r'\\s+', ',')\n",
        "df['store_id'] = df['store_id'].str.strip('[]')\n",
        "df['store_id'] = df['store_id'].str.replace(' ', ',')\n",
        "df['last_store_visited'] = df['store_id'].str.split(',').str[-1]\n",
        "\n",
        "cross_tab = pd.crosstab(df['last_store_visited'], df['churn'])\n",
        "cross_tab['churn_rate'] = cross_tab[1] / (cross_tab[0] + cross_tab[1])\n",
        "cross_tab = cross_tab.sort_values(by='churn_rate', ascending=False)\n",
        "\n",
        "quantiles = []\n",
        "for q in range(0, 101, 5):\n",
        "    quantile_value = cross_tab['churn_rate'].quantile(q / 100)\n",
        "    quantiles.append((q, quantile_value))\n",
        "\n",
        "for q, value in quantiles:\n",
        "    print(f\"Quantile {q}%: {value}\")\n",
        "\n",
        "high_churn_rate_stores = cross_tab[cross_tab['churn_rate'] > 0.46].index.tolist()\n",
        "low_churn_rate_stores = cross_tab[cross_tab['churn_rate'] < 0.46].index.tolist()\n",
        "df['visited_churn_store'] = df['last_store_visited'].apply(lambda x: 1 if x in high_churn_rate_stores else 0)"
      ]
    },
    {
      "cell_type": "code",
      "execution_count": null,
      "id": "a3d7bfc1-bcbc-4df3-9bca-13b614969c39",
      "metadata": {
        "id": "a3d7bfc1-bcbc-4df3-9bca-13b614969c39"
      },
      "outputs": [],
      "source": [
        "df2 = pd.read_csv('data/tbl_customer_accounts.csv')\n",
        "df2 = df2.drop_duplicates(subset=['customer_id'])\n",
        "merged_df = pd.merge(df, df2, on='customer_id', how='left')\n",
        "df = merged_df.copy()\n",
        "\n",
        "def calculate_changed_store(row):\n",
        "    if row['favorite_store'] == row['last_store_visited']:\n",
        "        return 0\n",
        "    else:\n",
        "        return 1\n",
        "\n",
        "df['changed_store'] = df.apply(calculate_changed_store, axis=1)\n",
        "\n",
        "loyalty_mapping = {'business standard': 1, 'business premium': 2, 'standard': 3, 'premium': 4}\n",
        "df['loyalty_score'] = df['loyalty_type'].map(loyalty_mapping)\n",
        "\n",
        "df1 = df.copy()\n",
        "\n",
        "df2 = pd.read_csv('data/tbl_customers.csv')\n",
        "merged_df = pd.merge(df1, df2, on='customer_id', how='left')\n",
        "df = merged_df.copy()\n"
      ]
    },
    {
      "cell_type": "code",
      "execution_count": null,
      "id": "47382c2a-6115-42fc-9cf9-11f986ae6432",
      "metadata": {
        "id": "47382c2a-6115-42fc-9cf9-11f986ae6432"
      },
      "outputs": [],
      "source": [
        "reference_date = pd.Timestamp('2023-01-13')\n",
        "\n",
        "df['birthdate'] = pd.to_datetime(df['birthdate'])\n",
        "\n",
        "df['age'] = (reference_date - df['birthdate']).dt.days // 365\n"
      ]
    },
    {
      "cell_type": "code",
      "execution_count": null,
      "id": "b789a7e0-905c-4298-aa08-8a2add958e91",
      "metadata": {
        "id": "b789a7e0-905c-4298-aa08-8a2add958e91"
      },
      "outputs": [],
      "source": [
        "from sklearn.preprocessing import LabelEncoder\n",
        "\n",
        "gender_mapping = {'M': 1, 'F': 2}\n",
        "df['sex'] = df['gender'].map(gender_mapping)\n",
        "df.drop('gender', axis=1, inplace=True)\n",
        "\n",
        "label_encoder = LabelEncoder()\n",
        "df['privacy_score'] = label_encoder.fit_transform(df['flag_privacy'])\n",
        "\n",
        "df['flag_phone_provided'].fillna(0, inplace=True)\n",
        "\n",
        "label_encoder = LabelEncoder()\n",
        "df['phone_provided_score'] = label_encoder.fit_transform(df['flag_phone_provided'])\n"
      ]
    },
    {
      "cell_type": "code",
      "execution_count": null,
      "id": "32bc8dbc-e8b0-4738-a8c5-937aca86a66f",
      "metadata": {
        "id": "32bc8dbc-e8b0-4738-a8c5-937aca86a66f"
      },
      "outputs": [],
      "source": [
        "label_encoder = LabelEncoder()\n",
        "\n",
        "df['privacy_score'] = label_encoder.fit_transform(df['flag_privacy'])\n",
        "\n",
        "df['flag_phone_provided'].fillna(0, inplace=True)\n",
        "\n",
        "label_encoder = LabelEncoder()\n",
        "\n",
        "df['phone_provided_score'] = label_encoder.fit_transform(df['flag_phone_provided'])\n"
      ]
    },
    {
      "cell_type": "code",
      "execution_count": null,
      "id": "8c7d4e1a-63c8-45c1-aa88-45848ee1b4a7",
      "metadata": {
        "id": "8c7d4e1a-63c8-45c1-aa88-45848ee1b4a7"
      },
      "outputs": [],
      "source": [
        "df_contacts=df[['address_id','email_provider','phone_provided_score']]"
      ]
    },
    {
      "cell_type": "code",
      "execution_count": null,
      "id": "66d5265f-f430-493b-b099-6733b0e52020",
      "metadata": {
        "id": "66d5265f-f430-493b-b099-6733b0e52020",
        "outputId": "ef22e488-df61-4897-ccf9-6ba8952abfd9"
      },
      "outputs": [
        {
          "data": {
            "text/html": [
              "<div>\n",
              "<style scoped>\n",
              "    .dataframe tbody tr th:only-of-type {\n",
              "        vertical-align: middle;\n",
              "    }\n",
              "\n",
              "    .dataframe tbody tr th {\n",
              "        vertical-align: top;\n",
              "    }\n",
              "\n",
              "    .dataframe thead th {\n",
              "        text-align: right;\n",
              "    }\n",
              "</style>\n",
              "<table border=\"1\" class=\"dataframe\">\n",
              "  <thead>\n",
              "    <tr style=\"text-align: right;\">\n",
              "      <th></th>\n",
              "      <th>address_id</th>\n",
              "      <th>email_provider</th>\n",
              "      <th>phone_provided_score</th>\n",
              "    </tr>\n",
              "  </thead>\n",
              "  <tbody>\n",
              "    <tr>\n",
              "      <th>0</th>\n",
              "      <td>21</td>\n",
              "      <td>gmail.com</td>\n",
              "      <td>1</td>\n",
              "    </tr>\n",
              "    <tr>\n",
              "      <th>1</th>\n",
              "      <td>29</td>\n",
              "      <td>gmail.com</td>\n",
              "      <td>0</td>\n",
              "    </tr>\n",
              "    <tr>\n",
              "      <th>2</th>\n",
              "      <td>29</td>\n",
              "      <td>gmail.com</td>\n",
              "      <td>0</td>\n",
              "    </tr>\n",
              "    <tr>\n",
              "      <th>3</th>\n",
              "      <td>46</td>\n",
              "      <td>alice.it</td>\n",
              "      <td>1</td>\n",
              "    </tr>\n",
              "    <tr>\n",
              "      <th>4</th>\n",
              "      <td>46</td>\n",
              "      <td>alice.it</td>\n",
              "      <td>1</td>\n",
              "    </tr>\n",
              "    <tr>\n",
              "      <th>5</th>\n",
              "      <td>46</td>\n",
              "      <td>alice.it</td>\n",
              "      <td>1</td>\n",
              "    </tr>\n",
              "    <tr>\n",
              "      <th>6</th>\n",
              "      <td>48</td>\n",
              "      <td>gmail.com</td>\n",
              "      <td>1</td>\n",
              "    </tr>\n",
              "    <tr>\n",
              "      <th>7</th>\n",
              "      <td>557043</td>\n",
              "      <td>gmail.com</td>\n",
              "      <td>1</td>\n",
              "    </tr>\n",
              "    <tr>\n",
              "      <th>8</th>\n",
              "      <td>73</td>\n",
              "      <td>libero.it</td>\n",
              "      <td>1</td>\n",
              "    </tr>\n",
              "    <tr>\n",
              "      <th>9</th>\n",
              "      <td>73</td>\n",
              "      <td>libero.it</td>\n",
              "      <td>1</td>\n",
              "    </tr>\n",
              "  </tbody>\n",
              "</table>\n",
              "</div>"
            ],
            "text/plain": [
              "   address_id email_provider  phone_provided_score\n",
              "0          21      gmail.com                     1\n",
              "1          29      gmail.com                     0\n",
              "2          29      gmail.com                     0\n",
              "3          46       alice.it                     1\n",
              "4          46       alice.it                     1\n",
              "5          46       alice.it                     1\n",
              "6          48      gmail.com                     1\n",
              "7      557043      gmail.com                     1\n",
              "8          73      libero.it                     1\n",
              "9          73      libero.it                     1"
            ]
          },
          "execution_count": 183,
          "metadata": {},
          "output_type": "execute_result"
        }
      ],
      "source": [
        "df_contacts.head(10)"
      ]
    },
    {
      "cell_type": "code",
      "execution_count": null,
      "id": "1c3af7e4-ea8a-4e9c-87f3-279dab08dfb0",
      "metadata": {
        "id": "1c3af7e4-ea8a-4e9c-87f3-279dab08dfb0",
        "outputId": "321f9ccb-bfb6-4876-da61-80c99df0b9dc"
      },
      "outputs": [
        {
          "name": "stdout",
          "output_type": "stream",
          "text": [
            "reachable_by_mail     1.000000\n",
            "reachable_by_email    0.987475\n",
            "reachable_by_phone    0.929203\n",
            "dtype: float64\n"
          ]
        }
      ],
      "source": [
        "import pandas as pd\n",
        "\n",
        "df['reachable_by_mail'] = df['address_id'].notnull()\n",
        "\n",
        "df['reachable_by_email'] = df['email_provider'].notnull()\n",
        "\n",
        "df['reachable_by_phone'] = df['phone_provided_score'] > 0\n",
        "\n",
        "reachability_summary = df[['reachable_by_mail', 'reachable_by_email', 'reachable_by_phone']].mean()\n",
        "\n",
        "print(reachability_summary)"
      ]
    },
    {
      "cell_type": "code",
      "execution_count": null,
      "id": "28c230e3-c06d-42ec-8925-b2b16292564a",
      "metadata": {
        "id": "28c230e3-c06d-42ec-8925-b2b16292564a"
      },
      "outputs": [],
      "source": [
        "columns_to_drop = ['address_id', 'birthdate', 'job_type', 'email_provider', 'flag_phone_provided', 'flag_privacy', 'activation_date', 'loyalty_type', 'account_id']\n",
        "\n",
        "df.drop(columns=columns_to_drop, inplace=True)\n",
        "\n",
        "df.to_csv('temp_data/labelled_set_with_features.csv',index=False)"
      ]
    },
    {
      "cell_type": "code",
      "execution_count": null,
      "id": "c0f1131b-17f7-49fe-ad98-3bf97f9d404f",
      "metadata": {
        "id": "c0f1131b-17f7-49fe-ad98-3bf97f9d404f",
        "outputId": "ca003a40-3374-48ee-d0ef-9da46cfed685"
      },
      "outputs": [
        {
          "data": {
            "text/html": [
              "<div>\n",
              "<style scoped>\n",
              "    .dataframe tbody tr th:only-of-type {\n",
              "        vertical-align: middle;\n",
              "    }\n",
              "\n",
              "    .dataframe tbody tr th {\n",
              "        vertical-align: top;\n",
              "    }\n",
              "\n",
              "    .dataframe thead th {\n",
              "        text-align: right;\n",
              "    }\n",
              "</style>\n",
              "<table border=\"1\" class=\"dataframe\">\n",
              "  <thead>\n",
              "    <tr style=\"text-align: right;\">\n",
              "      <th></th>\n",
              "      <th>customer_id</th>\n",
              "      <th>numero_prodotti_acquistati_totale</th>\n",
              "      <th>numero_prodotti_restituiti_totale</th>\n",
              "      <th>ordini_per_categoria</th>\n",
              "      <th>total_spent</th>\n",
              "      <th>store_id</th>\n",
              "      <th>avg_daily_spent</th>\n",
              "      <th>frequency</th>\n",
              "      <th>recency</th>\n",
              "      <th>T</th>\n",
              "      <th>...</th>\n",
              "      <th>loyatlty_status</th>\n",
              "      <th>changed_store</th>\n",
              "      <th>loyalty_score</th>\n",
              "      <th>age</th>\n",
              "      <th>sex</th>\n",
              "      <th>privacy_score</th>\n",
              "      <th>phone_provided_score</th>\n",
              "      <th>reachable_by_mail</th>\n",
              "      <th>reachable_by_email</th>\n",
              "      <th>reachable_by_phone</th>\n",
              "    </tr>\n",
              "  </thead>\n",
              "  <tbody>\n",
              "    <tr>\n",
              "      <th>0</th>\n",
              "      <td>23</td>\n",
              "      <td>22.0</td>\n",
              "      <td>0.0</td>\n",
              "      <td>2.750000</td>\n",
              "      <td>169.40</td>\n",
              "      <td>49</td>\n",
              "      <td>42.350</td>\n",
              "      <td>2.0</td>\n",
              "      <td>22.0</td>\n",
              "      <td>57.0</td>\n",
              "      <td>...</td>\n",
              "      <td>1</td>\n",
              "      <td>1</td>\n",
              "      <td>3</td>\n",
              "      <td>44</td>\n",
              "      <td>2</td>\n",
              "      <td>1</td>\n",
              "      <td>1</td>\n",
              "      <td>True</td>\n",
              "      <td>True</td>\n",
              "      <td>True</td>\n",
              "    </tr>\n",
              "    <tr>\n",
              "      <th>1</th>\n",
              "      <td>30</td>\n",
              "      <td>12.0</td>\n",
              "      <td>0.0</td>\n",
              "      <td>4.000000</td>\n",
              "      <td>10179.56</td>\n",
              "      <td>49</td>\n",
              "      <td>5089.780</td>\n",
              "      <td>1.0</td>\n",
              "      <td>42.0</td>\n",
              "      <td>49.0</td>\n",
              "      <td>...</td>\n",
              "      <td>1</td>\n",
              "      <td>1</td>\n",
              "      <td>4</td>\n",
              "      <td>44</td>\n",
              "      <td>2</td>\n",
              "      <td>1</td>\n",
              "      <td>0</td>\n",
              "      <td>True</td>\n",
              "      <td>True</td>\n",
              "      <td>False</td>\n",
              "    </tr>\n",
              "    <tr>\n",
              "      <th>2</th>\n",
              "      <td>30</td>\n",
              "      <td>12.0</td>\n",
              "      <td>0.0</td>\n",
              "      <td>4.000000</td>\n",
              "      <td>10179.56</td>\n",
              "      <td>49</td>\n",
              "      <td>5089.780</td>\n",
              "      <td>1.0</td>\n",
              "      <td>42.0</td>\n",
              "      <td>138.0</td>\n",
              "      <td>...</td>\n",
              "      <td>1</td>\n",
              "      <td>1</td>\n",
              "      <td>4</td>\n",
              "      <td>44</td>\n",
              "      <td>2</td>\n",
              "      <td>1</td>\n",
              "      <td>0</td>\n",
              "      <td>True</td>\n",
              "      <td>True</td>\n",
              "      <td>False</td>\n",
              "    </tr>\n",
              "    <tr>\n",
              "      <th>3</th>\n",
              "      <td>48</td>\n",
              "      <td>3.0</td>\n",
              "      <td>0.0</td>\n",
              "      <td>3.000000</td>\n",
              "      <td>232.50</td>\n",
              "      <td>49</td>\n",
              "      <td>232.500</td>\n",
              "      <td>0.0</td>\n",
              "      <td>0.0</td>\n",
              "      <td>77.0</td>\n",
              "      <td>...</td>\n",
              "      <td>1</td>\n",
              "      <td>1</td>\n",
              "      <td>4</td>\n",
              "      <td>68</td>\n",
              "      <td>1</td>\n",
              "      <td>1</td>\n",
              "      <td>1</td>\n",
              "      <td>True</td>\n",
              "      <td>True</td>\n",
              "      <td>True</td>\n",
              "    </tr>\n",
              "    <tr>\n",
              "      <th>4</th>\n",
              "      <td>48</td>\n",
              "      <td>28.0</td>\n",
              "      <td>15.0</td>\n",
              "      <td>5.600000</td>\n",
              "      <td>670.58</td>\n",
              "      <td>49</td>\n",
              "      <td>167.645</td>\n",
              "      <td>2.0</td>\n",
              "      <td>27.0</td>\n",
              "      <td>28.0</td>\n",
              "      <td>...</td>\n",
              "      <td>1</td>\n",
              "      <td>1</td>\n",
              "      <td>4</td>\n",
              "      <td>68</td>\n",
              "      <td>1</td>\n",
              "      <td>1</td>\n",
              "      <td>1</td>\n",
              "      <td>True</td>\n",
              "      <td>True</td>\n",
              "      <td>True</td>\n",
              "    </tr>\n",
              "    <tr>\n",
              "      <th>...</th>\n",
              "      <td>...</td>\n",
              "      <td>...</td>\n",
              "      <td>...</td>\n",
              "      <td>...</td>\n",
              "      <td>...</td>\n",
              "      <td>...</td>\n",
              "      <td>...</td>\n",
              "      <td>...</td>\n",
              "      <td>...</td>\n",
              "      <td>...</td>\n",
              "      <td>...</td>\n",
              "      <td>...</td>\n",
              "      <td>...</td>\n",
              "      <td>...</td>\n",
              "      <td>...</td>\n",
              "      <td>...</td>\n",
              "      <td>...</td>\n",
              "      <td>...</td>\n",
              "      <td>...</td>\n",
              "      <td>...</td>\n",
              "      <td>...</td>\n",
              "    </tr>\n",
              "    <tr>\n",
              "      <th>120636</th>\n",
              "      <td>860082</td>\n",
              "      <td>1.0</td>\n",
              "      <td>0.0</td>\n",
              "      <td>1.000000</td>\n",
              "      <td>0.00</td>\n",
              "      <td>34</td>\n",
              "      <td>0.000</td>\n",
              "      <td>0.0</td>\n",
              "      <td>0.0</td>\n",
              "      <td>0.0</td>\n",
              "      <td>...</td>\n",
              "      <td>1</td>\n",
              "      <td>1</td>\n",
              "      <td>3</td>\n",
              "      <td>48</td>\n",
              "      <td>2</td>\n",
              "      <td>1</td>\n",
              "      <td>1</td>\n",
              "      <td>True</td>\n",
              "      <td>True</td>\n",
              "      <td>True</td>\n",
              "    </tr>\n",
              "    <tr>\n",
              "      <th>120637</th>\n",
              "      <td>860151</td>\n",
              "      <td>2.0</td>\n",
              "      <td>0.0</td>\n",
              "      <td>1.000000</td>\n",
              "      <td>0.00</td>\n",
              "      <td>30</td>\n",
              "      <td>0.000</td>\n",
              "      <td>0.0</td>\n",
              "      <td>0.0</td>\n",
              "      <td>0.0</td>\n",
              "      <td>...</td>\n",
              "      <td>1</td>\n",
              "      <td>1</td>\n",
              "      <td>3</td>\n",
              "      <td>42</td>\n",
              "      <td>1</td>\n",
              "      <td>1</td>\n",
              "      <td>1</td>\n",
              "      <td>True</td>\n",
              "      <td>True</td>\n",
              "      <td>True</td>\n",
              "    </tr>\n",
              "    <tr>\n",
              "      <th>120638</th>\n",
              "      <td>860220</td>\n",
              "      <td>1.0</td>\n",
              "      <td>0.0</td>\n",
              "      <td>1.000000</td>\n",
              "      <td>0.00</td>\n",
              "      <td>5</td>\n",
              "      <td>0.000</td>\n",
              "      <td>0.0</td>\n",
              "      <td>0.0</td>\n",
              "      <td>0.0</td>\n",
              "      <td>...</td>\n",
              "      <td>1</td>\n",
              "      <td>1</td>\n",
              "      <td>3</td>\n",
              "      <td>47</td>\n",
              "      <td>2</td>\n",
              "      <td>1</td>\n",
              "      <td>1</td>\n",
              "      <td>True</td>\n",
              "      <td>True</td>\n",
              "      <td>True</td>\n",
              "    </tr>\n",
              "    <tr>\n",
              "      <th>120639</th>\n",
              "      <td>860226</td>\n",
              "      <td>4.0</td>\n",
              "      <td>0.0</td>\n",
              "      <td>1.333333</td>\n",
              "      <td>0.00</td>\n",
              "      <td>17</td>\n",
              "      <td>0.000</td>\n",
              "      <td>0.0</td>\n",
              "      <td>0.0</td>\n",
              "      <td>0.0</td>\n",
              "      <td>...</td>\n",
              "      <td>1</td>\n",
              "      <td>1</td>\n",
              "      <td>3</td>\n",
              "      <td>58</td>\n",
              "      <td>2</td>\n",
              "      <td>1</td>\n",
              "      <td>1</td>\n",
              "      <td>True</td>\n",
              "      <td>True</td>\n",
              "      <td>True</td>\n",
              "    </tr>\n",
              "    <tr>\n",
              "      <th>120640</th>\n",
              "      <td>860234</td>\n",
              "      <td>5.0</td>\n",
              "      <td>0.0</td>\n",
              "      <td>5.000000</td>\n",
              "      <td>0.00</td>\n",
              "      <td>5</td>\n",
              "      <td>0.000</td>\n",
              "      <td>0.0</td>\n",
              "      <td>0.0</td>\n",
              "      <td>0.0</td>\n",
              "      <td>...</td>\n",
              "      <td>1</td>\n",
              "      <td>1</td>\n",
              "      <td>3</td>\n",
              "      <td>40</td>\n",
              "      <td>2</td>\n",
              "      <td>1</td>\n",
              "      <td>1</td>\n",
              "      <td>True</td>\n",
              "      <td>True</td>\n",
              "      <td>True</td>\n",
              "    </tr>\n",
              "  </tbody>\n",
              "</table>\n",
              "<p>120641 rows × 37 columns</p>\n",
              "</div>"
            ],
            "text/plain": [
              "        customer_id  numero_prodotti_acquistati_totale  \\\n",
              "0                23                               22.0   \n",
              "1                30                               12.0   \n",
              "2                30                               12.0   \n",
              "3                48                                3.0   \n",
              "4                48                               28.0   \n",
              "...             ...                                ...   \n",
              "120636       860082                                1.0   \n",
              "120637       860151                                2.0   \n",
              "120638       860220                                1.0   \n",
              "120639       860226                                4.0   \n",
              "120640       860234                                5.0   \n",
              "\n",
              "        numero_prodotti_restituiti_totale  ordini_per_categoria  total_spent  \\\n",
              "0                                     0.0              2.750000       169.40   \n",
              "1                                     0.0              4.000000     10179.56   \n",
              "2                                     0.0              4.000000     10179.56   \n",
              "3                                     0.0              3.000000       232.50   \n",
              "4                                    15.0              5.600000       670.58   \n",
              "...                                   ...                   ...          ...   \n",
              "120636                                0.0              1.000000         0.00   \n",
              "120637                                0.0              1.000000         0.00   \n",
              "120638                                0.0              1.000000         0.00   \n",
              "120639                                0.0              1.333333         0.00   \n",
              "120640                                0.0              5.000000         0.00   \n",
              "\n",
              "       store_id  avg_daily_spent  frequency  recency      T  ...  \\\n",
              "0            49           42.350        2.0     22.0   57.0  ...   \n",
              "1            49         5089.780        1.0     42.0   49.0  ...   \n",
              "2            49         5089.780        1.0     42.0  138.0  ...   \n",
              "3            49          232.500        0.0      0.0   77.0  ...   \n",
              "4            49          167.645        2.0     27.0   28.0  ...   \n",
              "...         ...              ...        ...      ...    ...  ...   \n",
              "120636       34            0.000        0.0      0.0    0.0  ...   \n",
              "120637       30            0.000        0.0      0.0    0.0  ...   \n",
              "120638        5            0.000        0.0      0.0    0.0  ...   \n",
              "120639       17            0.000        0.0      0.0    0.0  ...   \n",
              "120640        5            0.000        0.0      0.0    0.0  ...   \n",
              "\n",
              "        loyatlty_status  changed_store  loyalty_score  age  sex  \\\n",
              "0                     1              1              3   44    2   \n",
              "1                     1              1              4   44    2   \n",
              "2                     1              1              4   44    2   \n",
              "3                     1              1              4   68    1   \n",
              "4                     1              1              4   68    1   \n",
              "...                 ...            ...            ...  ...  ...   \n",
              "120636                1              1              3   48    2   \n",
              "120637                1              1              3   42    1   \n",
              "120638                1              1              3   47    2   \n",
              "120639                1              1              3   58    2   \n",
              "120640                1              1              3   40    2   \n",
              "\n",
              "        privacy_score  phone_provided_score  reachable_by_mail  \\\n",
              "0                   1                     1               True   \n",
              "1                   1                     0               True   \n",
              "2                   1                     0               True   \n",
              "3                   1                     1               True   \n",
              "4                   1                     1               True   \n",
              "...               ...                   ...                ...   \n",
              "120636              1                     1               True   \n",
              "120637              1                     1               True   \n",
              "120638              1                     1               True   \n",
              "120639              1                     1               True   \n",
              "120640              1                     1               True   \n",
              "\n",
              "        reachable_by_email  reachable_by_phone  \n",
              "0                     True                True  \n",
              "1                     True               False  \n",
              "2                     True               False  \n",
              "3                     True                True  \n",
              "4                     True                True  \n",
              "...                    ...                 ...  \n",
              "120636                True                True  \n",
              "120637                True                True  \n",
              "120638                True                True  \n",
              "120639                True                True  \n",
              "120640                True                True  \n",
              "\n",
              "[120641 rows x 37 columns]"
            ]
          },
          "execution_count": 187,
          "metadata": {},
          "output_type": "execute_result"
        }
      ],
      "source": [
        "df"
      ]
    },
    {
      "cell_type": "code",
      "execution_count": null,
      "id": "b5515b9b-ae00-427d-a247-727951c17c0a",
      "metadata": {
        "id": "b5515b9b-ae00-427d-a247-727951c17c0a"
      },
      "outputs": [],
      "source": []
    }
  ],
  "metadata": {
    "kernelspec": {
      "display_name": "Python 3 (ipykernel)",
      "language": "python",
      "name": "python3"
    },
    "language_info": {
      "codemirror_mode": {
        "name": "ipython",
        "version": 3
      },
      "file_extension": ".py",
      "mimetype": "text/x-python",
      "name": "python",
      "nbconvert_exporter": "python",
      "pygments_lexer": "ipython3",
      "version": "3.10.12"
    },
    "colab": {
      "provenance": [],
      "include_colab_link": true
    }
  },
  "nbformat": 4,
  "nbformat_minor": 5
}